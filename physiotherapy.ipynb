{
 "cells": [
  {
   "cell_type": "code",
   "execution_count": 1,
   "id": "initial_id",
   "metadata": {
    "collapsed": true,
    "ExecuteTime": {
     "end_time": "2023-10-23T15:01:01.236643600Z",
     "start_time": "2023-10-23T15:01:00.618957600Z"
    }
   },
   "outputs": [],
   "source": [
    "import pandas as pd\n",
    "from column_names_groups import *\n",
    "from mfyfunctions import *\n",
    "from analysis_functions import *"
   ]
  },
  {
   "cell_type": "code",
   "execution_count": 2,
   "outputs": [],
   "source": [
    "pd.set_option('display.float_format', '{:.1f}'.format)\n",
    "pd.set_option('display.max_colwidth', None)\n",
    "# noinspection PyTypeChecker\n",
    "threshold_date = pd.Timestamp('2022-09-30')"
   ],
   "metadata": {
    "collapsed": false,
    "ExecuteTime": {
     "end_time": "2023-10-23T15:01:02.093022100Z",
     "start_time": "2023-10-23T15:01:02.056837700Z"
    }
   },
   "id": "58f2c432c582f38c"
  },
  {
   "cell_type": "code",
   "execution_count": 3,
   "outputs": [],
   "source": [
    "psfs = pd.read_csv(r'011/datasets/1010_pt_pf_092310.csv')\n",
    "psfs[psfs_date_columns] = psfs[psfs_date_columns].apply(pd.to_datetime)\n",
    "pt_intake = pd.read_csv(r'011/datasets/1011_pt_nt_092310.csv')\n",
    "# pt_intake[ptnt_date_columns] = pt_intake[ptnt_date_columns].apply(pd.to_datetime)\n",
    "pt_reintake = pd.read_csv(r'011/datasets/1100_pt_re_092310.csv')\n",
    "# pt_reintake[ptnt_date_columns] = pt_reintake[ptnt_date_columns].apply(pd.to_datetime)\n",
    "pt_group = pd.read_csv(r'011/datasets/1101_pt_gc_092310.csv')\n",
    "pt_group[ptgc_date_columns] = pt_group[ptgc_date_columns].apply(pd.to_datetime)\n",
    "pt_individual = pd.read_csv(r'011/datasets/1110_pt_ic_092310.csv')\n",
    "pt_individual[ptic_date_columns] = pt_individual[ptic_date_columns].apply(pd.to_datetime)\n",
    "pt_followup = pd.read_csv(r'011/datasets/1111_pt_fu_092310.csv')\n",
    "pt_followup[ptfua_date_columns] = pt_followup[ptfua_date_columns].apply(pd.to_datetime)"
   ],
   "metadata": {
    "collapsed": false,
    "ExecuteTime": {
     "end_time": "2023-10-23T15:01:03.941515Z",
     "start_time": "2023-10-23T15:01:03.715332100Z"
    }
   },
   "id": "e17083ab8996a257"
  },
  {
   "cell_type": "code",
   "execution_count": 4,
   "outputs": [],
   "source": [
    "# Calling screening dataset to get some information for intake\n",
    "scr = pd.read_csv(r'011/datasets/0000_ps_sc_092310.csv')\n",
    "scr[screening_date_columns] = scr[screening_date_columns].apply(pd.to_datetime)\n",
    "scr[screening_all_int_columns] = scr[screening_all_int_columns].astype('Int64')\n",
    "unique_scr = scr.drop_duplicates(subset='rid')"
   ],
   "metadata": {
    "collapsed": false,
    "ExecuteTime": {
     "end_time": "2023-10-23T15:01:07.681487700Z",
     "start_time": "2023-10-23T15:01:07.557525500Z"
    }
   },
   "id": "81ad154ac43f04fa"
  },
  {
   "cell_type": "code",
   "execution_count": 5,
   "outputs": [],
   "source": [
    "# psfs23 = psfs[(psfs['psfs'] > threshold_date)]\n",
    "# psfs"
   ],
   "metadata": {
    "collapsed": false,
    "ExecuteTime": {
     "end_time": "2023-10-23T15:01:11.635649500Z",
     "start_time": "2023-10-23T15:01:11.588904400Z"
    }
   },
   "id": "8fe774d7307ead61"
  },
  {
   "cell_type": "code",
   "execution_count": 14,
   "outputs": [],
   "source": [
    "# psfs23"
   ],
   "metadata": {
    "collapsed": false,
    "ExecuteTime": {
     "end_time": "2023-10-23T15:08:25.309670100Z",
     "start_time": "2023-10-23T15:08:25.309670100Z"
    }
   },
   "id": "afa668ac22563c39"
  },
  {
   "cell_type": "code",
   "execution_count": 15,
   "outputs": [],
   "source": [
    "# psfs23['sex'].value_counts(dropna=False)"
   ],
   "metadata": {
    "collapsed": false,
    "ExecuteTime": {
     "end_time": "2023-10-23T15:08:27.662841500Z",
     "start_time": "2023-10-23T15:08:27.662841500Z"
    }
   },
   "id": "60eae212be3cdae8"
  },
  {
   "cell_type": "code",
   "execution_count": 17,
   "outputs": [],
   "source": [
    "# age_groups = categorize_and_count_ages(\n",
    "#     psfs23['age']\n",
    "# )"
   ],
   "metadata": {
    "collapsed": false,
    "ExecuteTime": {
     "end_time": "2023-10-23T15:08:36.927023500Z",
     "start_time": "2023-10-23T15:08:36.927023500Z"
    }
   },
   "id": "71e88febfac058e6"
  },
  {
   "cell_type": "code",
   "execution_count": 18,
   "outputs": [],
   "source": [
    "# normalized_value_counts(age_groups)"
   ],
   "metadata": {
    "collapsed": false,
    "ExecuteTime": {
     "end_time": "2023-10-23T15:08:41.329443100Z",
     "start_time": "2023-10-23T15:08:41.329443100Z"
    }
   },
   "id": "ff7c4243f2411d14"
  },
  {
   "cell_type": "code",
   "execution_count": 19,
   "outputs": [],
   "source": [
    "# date_psfs = psfs23.set_index('psfs')\n",
    "# quarterly_counts = date_psfs.resample('Q').size()\n",
    "# quarterly_counts"
   ],
   "metadata": {
    "collapsed": false,
    "ExecuteTime": {
     "end_time": "2023-10-23T15:08:44.846054400Z",
     "start_time": "2023-10-23T15:08:44.846054400Z"
    }
   },
   "id": "59ac9b474dcb2769"
  },
  {
   "cell_type": "code",
   "execution_count": 21,
   "outputs": [],
   "source": [
    "# pt_intake[['ptnt1', 'ptnt2']] = pt_intake[['ptnt1', 'ptnt2']].apply(pd.to_datetime)"
   ],
   "metadata": {
    "collapsed": false,
    "ExecuteTime": {
     "end_time": "2023-10-23T15:16:44.057158800Z",
     "start_time": "2023-10-23T15:16:44.036273300Z"
    }
   },
   "id": "f79134a641715c5b"
  },
  {
   "cell_type": "code",
   "execution_count": 27,
   "outputs": [],
   "source": [
    "# pt_intake23 = pt_intake[(pt_intake[['ptnt1', 'ptnt2']] > threshold_date).any(axis=1)]"
   ],
   "metadata": {
    "collapsed": false,
    "ExecuteTime": {
     "end_time": "2023-10-23T15:20:18.079366400Z",
     "start_time": "2023-10-23T15:20:18.065991500Z"
    }
   },
   "id": "d00c68f4bf4d86ab"
  },
  {
   "cell_type": "code",
   "execution_count": 32,
   "outputs": [],
   "source": [
    "# pt_intake23_sex = pd.merge(pt_intake23, unique_scr[['rid', 'sex']], on='rid', how='left')"
   ],
   "metadata": {
    "collapsed": false,
    "ExecuteTime": {
     "end_time": "2023-10-23T15:23:54.676841500Z",
     "start_time": "2023-10-23T15:23:54.597637900Z"
    }
   },
   "id": "ae3748e687a11832"
  },
  {
   "cell_type": "code",
   "execution_count": 37,
   "outputs": [],
   "source": [
    "# pt_intake23_sex"
   ],
   "metadata": {
    "collapsed": false,
    "ExecuteTime": {
     "end_time": "2023-10-23T15:37:23.030869300Z",
     "start_time": "2023-10-23T15:37:23.030869300Z"
    }
   },
   "id": "91690a6dc31bc800"
  },
  {
   "cell_type": "code",
   "execution_count": 38,
   "outputs": [],
   "source": [
    "# normalized_value_counts(pt_intake23_sex['sex'])"
   ],
   "metadata": {
    "collapsed": false,
    "ExecuteTime": {
     "end_time": "2023-10-23T15:37:25.388427500Z",
     "start_time": "2023-10-23T15:37:25.388427500Z"
    }
   },
   "id": "b340f984d2f08be1"
  },
  {
   "cell_type": "code",
   "execution_count": 40,
   "outputs": [],
   "source": [
    "# pt_group23 = pt_group[(pt_group[ptgc_date_columns] > threshold_date).any(axis=1)]"
   ],
   "metadata": {
    "collapsed": false,
    "ExecuteTime": {
     "end_time": "2023-10-23T16:45:52.578570900Z",
     "start_time": "2023-10-23T16:45:52.544980800Z"
    }
   },
   "id": "38236f660a5d5b24"
  },
  {
   "cell_type": "code",
   "execution_count": 50,
   "outputs": [],
   "source": [
    "# pt_group23"
   ],
   "metadata": {
    "collapsed": false,
    "ExecuteTime": {
     "end_time": "2023-10-23T16:56:04.628659700Z",
     "start_time": "2023-10-23T16:56:04.628659700Z"
    }
   },
   "id": "f194ba58f019185e"
  },
  {
   "cell_type": "code",
   "execution_count": 51,
   "outputs": [
    {
     "data": {
      "text/plain": "   pticsp  pticspi    rid        fcid      ptic1      ptic2      ptic3  \\\n0      HR        1  R0120  8110020106 2023-05-07 2023-06-14 2023-06-20   \n1      HR        2  R0582  8110050094 2023-06-13 2023-06-19 2023-07-10   \n2      HR        3  R0592  8110050096 2023-06-13 2023-06-19 2023-07-06   \n3      HR        4  R0415  8110020102 2023-04-19 2023-05-09 2023-05-16   \n4      HR        5  R0393  8110050086 2023-05-03 2023-05-09 2023-05-17   \n5      HR        6  R0511  8110020112 2023-05-04 2023-05-10 2023-05-17   \n6      HR        7  R0333  8110020107 2023-09-26        NaT        NaT   \n7      HJ        1  R0057  8110050006 2021-06-17 2021-06-24 2021-07-01   \n8      HJ        2  R0073  8110020051 2021-09-13 2021-09-17 2021-09-20   \n9      HJ        3  R0084  8110020053 2021-12-07 2021-12-14 2021-12-21   \n10     HJ        4  R0501  8110020120 2023-05-17 2023-05-25 2023-06-01   \n11     HJ        5  R0444  8110050070 2023-06-02 2023-06-09 2023-06-20   \n12     HJ        6  R0534  8110050087 2023-05-31        NaT        NaT   \n13     HJ        7  R0246  8110020084 2023-05-22 2023-05-31        NaT   \n14     HJ        8  R0441  8110050063 2023-05-05 2023-05-12 2023-05-24   \n15     HJ        9  R0183  8110020101 2023-06-05 2023-06-12        NaT   \n16     HJ       10  R0430  8110050061 2023-06-06 2023-06-13 2023-07-06   \n17     HJ       11  R0337  8110020100 2023-07-06 2023-07-14        NaT   \n18     HJ       12  R0552  8110050085 2023-01-10 2023-04-13        NaT   \n19     HJ       13  R0100  8110050077 2022-11-17        NaT        NaT   \n20     HJ       14  R0725  8110050097 2023-08-04 2023-08-11 2023-08-25   \n21     HJ       15  R0089  8110060012 2023-09-14        NaT        NaT   \n\n        ptic4      ptic5      ptic6      ptic7      ptic8      ptic9  \\\n0  2023-07-05        NaT        NaT        NaT        NaT        NaT   \n1  2023-07-17 2023-07-27        NaT        NaT        NaT        NaT   \n2  2023-07-13 2023-07-20 2023-07-27 2023-08-10 2023-08-25 2023-08-31   \n3  2023-05-23 2023-06-14 2023-06-21 2023-07-27 2023-08-03 2023-08-25   \n4  2023-05-23 2023-06-01        NaT        NaT        NaT        NaT   \n5  2023-05-24 2023-05-31 2023-06-22        NaT        NaT        NaT   \n6         NaT        NaT        NaT        NaT        NaT        NaT   \n7  2021-07-08 2021-07-15 2021-07-22 2021-07-29 2021-08-09 2021-08-16   \n8  2021-09-24 2021-10-01 2021-10-08 2021-10-15 2021-10-20 2021-10-25   \n9  2021-10-28 2022-01-04 2022-01-11 2022-01-19 2022-01-26 2022-02-02   \n10 2023-06-09        NaT        NaT        NaT        NaT        NaT   \n11        NaT        NaT        NaT        NaT        NaT        NaT   \n12        NaT        NaT        NaT        NaT        NaT        NaT   \n13        NaT        NaT        NaT        NaT        NaT        NaT   \n14 2023-06-02 2023-06-08 2023-08-16        NaT        NaT        NaT   \n15        NaT        NaT        NaT        NaT        NaT        NaT   \n16 2023-07-13 2023-08-11 2023-08-23 2023-09-14        NaT        NaT   \n17        NaT        NaT        NaT        NaT        NaT        NaT   \n18        NaT        NaT        NaT        NaT        NaT        NaT   \n19        NaT        NaT        NaT        NaT        NaT        NaT   \n20 2023-09-01 2023-09-08 2023-09-15        NaT        NaT        NaT   \n21        NaT        NaT        NaT        NaT        NaT        NaT   \n\n       ptic10  ptict  pticst  \n0         NaT      4       0  \n1         NaT      5       0  \n2         NaT      9       0  \n3  2023-08-29      0       1  \n4         NaT      5       0  \n5         NaT      6       0  \n6         NaT      0       1  \n7  2021-08-23     11       0  \n8         NaT      9       0  \n9  2022-03-25     10       0  \n10        NaT      4       0  \n11        NaT      3       0  \n12        NaT      1       0  \n13        NaT      2       0  \n14        NaT      5       0  \n15        NaT      2       0  \n16        NaT      0       0  \n17        NaT      0       0  \n18        NaT      2       0  \n19        NaT      1       0  \n20        NaT      0       1  \n21        NaT      0       1  ",
      "text/html": "<div>\n<style scoped>\n    .dataframe tbody tr th:only-of-type {\n        vertical-align: middle;\n    }\n\n    .dataframe tbody tr th {\n        vertical-align: top;\n    }\n\n    .dataframe thead th {\n        text-align: right;\n    }\n</style>\n<table border=\"1\" class=\"dataframe\">\n  <thead>\n    <tr style=\"text-align: right;\">\n      <th></th>\n      <th>pticsp</th>\n      <th>pticspi</th>\n      <th>rid</th>\n      <th>fcid</th>\n      <th>ptic1</th>\n      <th>ptic2</th>\n      <th>ptic3</th>\n      <th>ptic4</th>\n      <th>ptic5</th>\n      <th>ptic6</th>\n      <th>ptic7</th>\n      <th>ptic8</th>\n      <th>ptic9</th>\n      <th>ptic10</th>\n      <th>ptict</th>\n      <th>pticst</th>\n    </tr>\n  </thead>\n  <tbody>\n    <tr>\n      <th>0</th>\n      <td>HR</td>\n      <td>1</td>\n      <td>R0120</td>\n      <td>8110020106</td>\n      <td>2023-05-07</td>\n      <td>2023-06-14</td>\n      <td>2023-06-20</td>\n      <td>2023-07-05</td>\n      <td>NaT</td>\n      <td>NaT</td>\n      <td>NaT</td>\n      <td>NaT</td>\n      <td>NaT</td>\n      <td>NaT</td>\n      <td>4</td>\n      <td>0</td>\n    </tr>\n    <tr>\n      <th>1</th>\n      <td>HR</td>\n      <td>2</td>\n      <td>R0582</td>\n      <td>8110050094</td>\n      <td>2023-06-13</td>\n      <td>2023-06-19</td>\n      <td>2023-07-10</td>\n      <td>2023-07-17</td>\n      <td>2023-07-27</td>\n      <td>NaT</td>\n      <td>NaT</td>\n      <td>NaT</td>\n      <td>NaT</td>\n      <td>NaT</td>\n      <td>5</td>\n      <td>0</td>\n    </tr>\n    <tr>\n      <th>2</th>\n      <td>HR</td>\n      <td>3</td>\n      <td>R0592</td>\n      <td>8110050096</td>\n      <td>2023-06-13</td>\n      <td>2023-06-19</td>\n      <td>2023-07-06</td>\n      <td>2023-07-13</td>\n      <td>2023-07-20</td>\n      <td>2023-07-27</td>\n      <td>2023-08-10</td>\n      <td>2023-08-25</td>\n      <td>2023-08-31</td>\n      <td>NaT</td>\n      <td>9</td>\n      <td>0</td>\n    </tr>\n    <tr>\n      <th>3</th>\n      <td>HR</td>\n      <td>4</td>\n      <td>R0415</td>\n      <td>8110020102</td>\n      <td>2023-04-19</td>\n      <td>2023-05-09</td>\n      <td>2023-05-16</td>\n      <td>2023-05-23</td>\n      <td>2023-06-14</td>\n      <td>2023-06-21</td>\n      <td>2023-07-27</td>\n      <td>2023-08-03</td>\n      <td>2023-08-25</td>\n      <td>2023-08-29</td>\n      <td>0</td>\n      <td>1</td>\n    </tr>\n    <tr>\n      <th>4</th>\n      <td>HR</td>\n      <td>5</td>\n      <td>R0393</td>\n      <td>8110050086</td>\n      <td>2023-05-03</td>\n      <td>2023-05-09</td>\n      <td>2023-05-17</td>\n      <td>2023-05-23</td>\n      <td>2023-06-01</td>\n      <td>NaT</td>\n      <td>NaT</td>\n      <td>NaT</td>\n      <td>NaT</td>\n      <td>NaT</td>\n      <td>5</td>\n      <td>0</td>\n    </tr>\n    <tr>\n      <th>5</th>\n      <td>HR</td>\n      <td>6</td>\n      <td>R0511</td>\n      <td>8110020112</td>\n      <td>2023-05-04</td>\n      <td>2023-05-10</td>\n      <td>2023-05-17</td>\n      <td>2023-05-24</td>\n      <td>2023-05-31</td>\n      <td>2023-06-22</td>\n      <td>NaT</td>\n      <td>NaT</td>\n      <td>NaT</td>\n      <td>NaT</td>\n      <td>6</td>\n      <td>0</td>\n    </tr>\n    <tr>\n      <th>6</th>\n      <td>HR</td>\n      <td>7</td>\n      <td>R0333</td>\n      <td>8110020107</td>\n      <td>2023-09-26</td>\n      <td>NaT</td>\n      <td>NaT</td>\n      <td>NaT</td>\n      <td>NaT</td>\n      <td>NaT</td>\n      <td>NaT</td>\n      <td>NaT</td>\n      <td>NaT</td>\n      <td>NaT</td>\n      <td>0</td>\n      <td>1</td>\n    </tr>\n    <tr>\n      <th>7</th>\n      <td>HJ</td>\n      <td>1</td>\n      <td>R0057</td>\n      <td>8110050006</td>\n      <td>2021-06-17</td>\n      <td>2021-06-24</td>\n      <td>2021-07-01</td>\n      <td>2021-07-08</td>\n      <td>2021-07-15</td>\n      <td>2021-07-22</td>\n      <td>2021-07-29</td>\n      <td>2021-08-09</td>\n      <td>2021-08-16</td>\n      <td>2021-08-23</td>\n      <td>11</td>\n      <td>0</td>\n    </tr>\n    <tr>\n      <th>8</th>\n      <td>HJ</td>\n      <td>2</td>\n      <td>R0073</td>\n      <td>8110020051</td>\n      <td>2021-09-13</td>\n      <td>2021-09-17</td>\n      <td>2021-09-20</td>\n      <td>2021-09-24</td>\n      <td>2021-10-01</td>\n      <td>2021-10-08</td>\n      <td>2021-10-15</td>\n      <td>2021-10-20</td>\n      <td>2021-10-25</td>\n      <td>NaT</td>\n      <td>9</td>\n      <td>0</td>\n    </tr>\n    <tr>\n      <th>9</th>\n      <td>HJ</td>\n      <td>3</td>\n      <td>R0084</td>\n      <td>8110020053</td>\n      <td>2021-12-07</td>\n      <td>2021-12-14</td>\n      <td>2021-12-21</td>\n      <td>2021-10-28</td>\n      <td>2022-01-04</td>\n      <td>2022-01-11</td>\n      <td>2022-01-19</td>\n      <td>2022-01-26</td>\n      <td>2022-02-02</td>\n      <td>2022-03-25</td>\n      <td>10</td>\n      <td>0</td>\n    </tr>\n    <tr>\n      <th>10</th>\n      <td>HJ</td>\n      <td>4</td>\n      <td>R0501</td>\n      <td>8110020120</td>\n      <td>2023-05-17</td>\n      <td>2023-05-25</td>\n      <td>2023-06-01</td>\n      <td>2023-06-09</td>\n      <td>NaT</td>\n      <td>NaT</td>\n      <td>NaT</td>\n      <td>NaT</td>\n      <td>NaT</td>\n      <td>NaT</td>\n      <td>4</td>\n      <td>0</td>\n    </tr>\n    <tr>\n      <th>11</th>\n      <td>HJ</td>\n      <td>5</td>\n      <td>R0444</td>\n      <td>8110050070</td>\n      <td>2023-06-02</td>\n      <td>2023-06-09</td>\n      <td>2023-06-20</td>\n      <td>NaT</td>\n      <td>NaT</td>\n      <td>NaT</td>\n      <td>NaT</td>\n      <td>NaT</td>\n      <td>NaT</td>\n      <td>NaT</td>\n      <td>3</td>\n      <td>0</td>\n    </tr>\n    <tr>\n      <th>12</th>\n      <td>HJ</td>\n      <td>6</td>\n      <td>R0534</td>\n      <td>8110050087</td>\n      <td>2023-05-31</td>\n      <td>NaT</td>\n      <td>NaT</td>\n      <td>NaT</td>\n      <td>NaT</td>\n      <td>NaT</td>\n      <td>NaT</td>\n      <td>NaT</td>\n      <td>NaT</td>\n      <td>NaT</td>\n      <td>1</td>\n      <td>0</td>\n    </tr>\n    <tr>\n      <th>13</th>\n      <td>HJ</td>\n      <td>7</td>\n      <td>R0246</td>\n      <td>8110020084</td>\n      <td>2023-05-22</td>\n      <td>2023-05-31</td>\n      <td>NaT</td>\n      <td>NaT</td>\n      <td>NaT</td>\n      <td>NaT</td>\n      <td>NaT</td>\n      <td>NaT</td>\n      <td>NaT</td>\n      <td>NaT</td>\n      <td>2</td>\n      <td>0</td>\n    </tr>\n    <tr>\n      <th>14</th>\n      <td>HJ</td>\n      <td>8</td>\n      <td>R0441</td>\n      <td>8110050063</td>\n      <td>2023-05-05</td>\n      <td>2023-05-12</td>\n      <td>2023-05-24</td>\n      <td>2023-06-02</td>\n      <td>2023-06-08</td>\n      <td>2023-08-16</td>\n      <td>NaT</td>\n      <td>NaT</td>\n      <td>NaT</td>\n      <td>NaT</td>\n      <td>5</td>\n      <td>0</td>\n    </tr>\n    <tr>\n      <th>15</th>\n      <td>HJ</td>\n      <td>9</td>\n      <td>R0183</td>\n      <td>8110020101</td>\n      <td>2023-06-05</td>\n      <td>2023-06-12</td>\n      <td>NaT</td>\n      <td>NaT</td>\n      <td>NaT</td>\n      <td>NaT</td>\n      <td>NaT</td>\n      <td>NaT</td>\n      <td>NaT</td>\n      <td>NaT</td>\n      <td>2</td>\n      <td>0</td>\n    </tr>\n    <tr>\n      <th>16</th>\n      <td>HJ</td>\n      <td>10</td>\n      <td>R0430</td>\n      <td>8110050061</td>\n      <td>2023-06-06</td>\n      <td>2023-06-13</td>\n      <td>2023-07-06</td>\n      <td>2023-07-13</td>\n      <td>2023-08-11</td>\n      <td>2023-08-23</td>\n      <td>2023-09-14</td>\n      <td>NaT</td>\n      <td>NaT</td>\n      <td>NaT</td>\n      <td>0</td>\n      <td>0</td>\n    </tr>\n    <tr>\n      <th>17</th>\n      <td>HJ</td>\n      <td>11</td>\n      <td>R0337</td>\n      <td>8110020100</td>\n      <td>2023-07-06</td>\n      <td>2023-07-14</td>\n      <td>NaT</td>\n      <td>NaT</td>\n      <td>NaT</td>\n      <td>NaT</td>\n      <td>NaT</td>\n      <td>NaT</td>\n      <td>NaT</td>\n      <td>NaT</td>\n      <td>0</td>\n      <td>0</td>\n    </tr>\n    <tr>\n      <th>18</th>\n      <td>HJ</td>\n      <td>12</td>\n      <td>R0552</td>\n      <td>8110050085</td>\n      <td>2023-01-10</td>\n      <td>2023-04-13</td>\n      <td>NaT</td>\n      <td>NaT</td>\n      <td>NaT</td>\n      <td>NaT</td>\n      <td>NaT</td>\n      <td>NaT</td>\n      <td>NaT</td>\n      <td>NaT</td>\n      <td>2</td>\n      <td>0</td>\n    </tr>\n    <tr>\n      <th>19</th>\n      <td>HJ</td>\n      <td>13</td>\n      <td>R0100</td>\n      <td>8110050077</td>\n      <td>2022-11-17</td>\n      <td>NaT</td>\n      <td>NaT</td>\n      <td>NaT</td>\n      <td>NaT</td>\n      <td>NaT</td>\n      <td>NaT</td>\n      <td>NaT</td>\n      <td>NaT</td>\n      <td>NaT</td>\n      <td>1</td>\n      <td>0</td>\n    </tr>\n    <tr>\n      <th>20</th>\n      <td>HJ</td>\n      <td>14</td>\n      <td>R0725</td>\n      <td>8110050097</td>\n      <td>2023-08-04</td>\n      <td>2023-08-11</td>\n      <td>2023-08-25</td>\n      <td>2023-09-01</td>\n      <td>2023-09-08</td>\n      <td>2023-09-15</td>\n      <td>NaT</td>\n      <td>NaT</td>\n      <td>NaT</td>\n      <td>NaT</td>\n      <td>0</td>\n      <td>1</td>\n    </tr>\n    <tr>\n      <th>21</th>\n      <td>HJ</td>\n      <td>15</td>\n      <td>R0089</td>\n      <td>8110060012</td>\n      <td>2023-09-14</td>\n      <td>NaT</td>\n      <td>NaT</td>\n      <td>NaT</td>\n      <td>NaT</td>\n      <td>NaT</td>\n      <td>NaT</td>\n      <td>NaT</td>\n      <td>NaT</td>\n      <td>NaT</td>\n      <td>0</td>\n      <td>1</td>\n    </tr>\n  </tbody>\n</table>\n</div>"
     },
     "execution_count": 51,
     "metadata": {},
     "output_type": "execute_result"
    }
   ],
   "source": [
    "pt_individual"
   ],
   "metadata": {
    "collapsed": false,
    "ExecuteTime": {
     "end_time": "2023-10-23T16:56:26.427266200Z",
     "start_time": "2023-10-23T16:56:26.391144900Z"
    }
   },
   "id": "fcc6ba9dc7318818"
  }
 ],
 "metadata": {
  "kernelspec": {
   "display_name": "Python 3",
   "language": "python",
   "name": "python3"
  },
  "language_info": {
   "codemirror_mode": {
    "name": "ipython",
    "version": 2
   },
   "file_extension": ".py",
   "mimetype": "text/x-python",
   "name": "python",
   "nbconvert_exporter": "python",
   "pygments_lexer": "ipython2",
   "version": "2.7.6"
  }
 },
 "nbformat": 4,
 "nbformat_minor": 5
}
