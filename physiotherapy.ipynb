{
 "cells": [
  {
   "cell_type": "code",
   "execution_count": null,
   "id": "initial_id",
   "metadata": {
    "collapsed": true
   },
   "outputs": [],
   "source": [
    "import pandas as pd\n",
    "from column_names_groups import *\n",
    "from mfyfunctions import *\n",
    "from analysis_functions import *"
   ]
  },
  {
   "cell_type": "code",
   "execution_count": null,
   "outputs": [],
   "source": [
    "pd.set_option('display.float_format', '{:.1f}'.format)\n",
    "pd.set_option('display.max_colwidth', None)\n",
    "# noinspection PyTypeChecker\n",
    "threshold_date = pd.Timestamp('2022-09-30')"
   ],
   "metadata": {
    "collapsed": false
   },
   "id": "58f2c432c582f38c"
  },
  {
   "cell_type": "code",
   "execution_count": null,
   "outputs": [],
   "source": [
    "psfs = pd.read_csv(r'011/datasets/1010_pt_pf_092310.csv')\n",
    "psfs[psfs_date_columns] = psfs[psfs_date_columns].apply(pd.to_datetime)\n",
    "pt_intake = pd.read_csv(r'011/datasets/1011_pt_nt_092310.csv')\n",
    "# pt_intake[ptnt_date_columns] = pt_intake[ptnt_date_columns].apply(pd.to_datetime)\n",
    "pt_reintake = pd.read_csv(r'011/datasets/1100_pt_re_092310.csv')\n",
    "# pt_reintake[ptnt_date_columns] = pt_reintake[ptnt_date_columns].apply(pd.to_datetime)\n",
    "pt_group = pd.read_csv(r'011/datasets/1101_pt_gc_092310.csv')\n",
    "pt_group[ptgc_date_columns] = pt_group[ptgc_date_columns].apply(pd.to_datetime)\n",
    "pt_individual = pd.read_csv(r'011/datasets/1110_pt_ic_092310.csv')\n",
    "pt_individual[ptic_date_columns] = pt_individual[ptic_date_columns].apply(pd.to_datetime)\n",
    "pt_followup = pd.read_csv(r'011/datasets/1111_pt_fu_092310.csv')\n",
    "pt_followup[ptfua_date_columns] = pt_followup[ptfua_date_columns].apply(pd.to_datetime)"
   ],
   "metadata": {
    "collapsed": false
   },
   "id": "e17083ab8996a257"
  },
  {
   "cell_type": "code",
   "execution_count": null,
   "outputs": [],
   "source": [
    "# Calling screening dataset to get some information for intake\n",
    "scr = pd.read_csv(r'011/datasets/0000_ps_sc_092310.csv')\n",
    "scr[screening_date_columns] = scr[screening_date_columns].apply(pd.to_datetime)\n",
    "scr[screening_all_int_columns] = scr[screening_all_int_columns].astype('Int64')\n",
    "unique_scr = scr.drop_duplicates(subset='rid')"
   ],
   "metadata": {
    "collapsed": false
   },
   "id": "81ad154ac43f04fa"
  },
  {
   "cell_type": "code",
   "execution_count": null,
   "outputs": [],
   "source": [
    "# psfs23 = psfs[(psfs['psfs'] > threshold_date)]\n",
    "# psfs"
   ],
   "metadata": {
    "collapsed": false
   },
   "id": "8fe774d7307ead61"
  },
  {
   "cell_type": "code",
   "execution_count": null,
   "outputs": [],
   "source": [
    "# psfs23"
   ],
   "metadata": {
    "collapsed": false
   },
   "id": "afa668ac22563c39"
  },
  {
   "cell_type": "code",
   "execution_count": null,
   "outputs": [],
   "source": [
    "# psfs23['sex'].value_counts(dropna=False)"
   ],
   "metadata": {
    "collapsed": false
   },
   "id": "60eae212be3cdae8"
  },
  {
   "cell_type": "code",
   "execution_count": null,
   "outputs": [],
   "source": [
    "# age_groups = categorize_and_count_ages(\n",
    "#     psfs23['age']\n",
    "# )"
   ],
   "metadata": {
    "collapsed": false
   },
   "id": "71e88febfac058e6"
  },
  {
   "cell_type": "code",
   "execution_count": null,
   "outputs": [],
   "source": [
    "# normalized_value_counts(age_groups)"
   ],
   "metadata": {
    "collapsed": false
   },
   "id": "ff7c4243f2411d14"
  },
  {
   "cell_type": "code",
   "execution_count": null,
   "outputs": [],
   "source": [
    "# date_psfs = psfs23.set_index('psfs')\n",
    "# quarterly_counts = date_psfs.resample('Q').size()\n",
    "# quarterly_counts"
   ],
   "metadata": {
    "collapsed": false
   },
   "id": "59ac9b474dcb2769"
  },
  {
   "cell_type": "code",
   "execution_count": null,
   "outputs": [],
   "source": [
    "# pt_intake[['ptnt1', 'ptnt2']] = pt_intake[['ptnt1', 'ptnt2']].apply(pd.to_datetime)"
   ],
   "metadata": {
    "collapsed": false
   },
   "id": "f79134a641715c5b"
  },
  {
   "cell_type": "code",
   "execution_count": null,
   "outputs": [],
   "source": [
    "# pt_intake23 = pt_intake[(pt_intake[['ptnt1', 'ptnt2']] > threshold_date).any(axis=1)]"
   ],
   "metadata": {
    "collapsed": false
   },
   "id": "d00c68f4bf4d86ab"
  },
  {
   "cell_type": "code",
   "execution_count": null,
   "outputs": [],
   "source": [
    "# pt_intake23_sex = pd.merge(pt_intake23, unique_scr[['rid', 'sex']], on='rid', how='left')"
   ],
   "metadata": {
    "collapsed": false
   },
   "id": "ae3748e687a11832"
  },
  {
   "cell_type": "code",
   "execution_count": null,
   "outputs": [],
   "source": [
    "# pt_intake23_sex"
   ],
   "metadata": {
    "collapsed": false
   },
   "id": "91690a6dc31bc800"
  },
  {
   "cell_type": "code",
   "execution_count": null,
   "outputs": [],
   "source": [
    "# normalized_value_counts(pt_intake23_sex['sex'])"
   ],
   "metadata": {
    "collapsed": false
   },
   "id": "b340f984d2f08be1"
  },
  {
   "cell_type": "code",
   "execution_count": null,
   "outputs": [],
   "source": [
    "# pt_group23 = pt_group[(pt_group[ptgc_date_columns] > threshold_date).any(axis=1)]"
   ],
   "metadata": {
    "collapsed": false
   },
   "id": "38236f660a5d5b24"
  },
  {
   "cell_type": "code",
   "execution_count": null,
   "outputs": [],
   "source": [
    "# pt_group23"
   ],
   "metadata": {
    "collapsed": false
   },
   "id": "f194ba58f019185e"
  },
  {
   "cell_type": "code",
   "execution_count": null,
   "outputs": [],
   "source": [
    "# pt_individual"
   ],
   "metadata": {
    "collapsed": false
   },
   "id": "fcc6ba9dc7318818"
  },
  {
   "cell_type": "code",
   "execution_count": null,
   "outputs": [],
   "source": [
    "# pt_individual_sex = pd.merge(pt_individual, unique_scr[['rid', 'sex']], on='rid', how='left')"
   ],
   "metadata": {
    "collapsed": false
   },
   "id": "77961ea44418e51"
  },
  {
   "cell_type": "code",
   "execution_count": null,
   "outputs": [],
   "source": [
    "# pt_individual_sex23 = pt_individual_sex[(pt_individual_sex[ptic_date_columns] > threshold_date).any(axis=1)]"
   ],
   "metadata": {
    "collapsed": false
   },
   "id": "eaae7dd442f3ab25"
  },
  {
   "cell_type": "code",
   "execution_count": null,
   "outputs": [],
   "source": [
    "# pt_individual_sex23[ptic_date_columns].count().sum()"
   ],
   "metadata": {
    "collapsed": false
   },
   "id": "6ca1ef72840c0f4e"
  },
  {
   "cell_type": "code",
   "execution_count": null,
   "outputs": [],
   "source": [
    "pt_followup"
   ],
   "metadata": {
    "collapsed": false
   },
   "id": "642f015915caed36"
  },
  {
   "cell_type": "code",
   "execution_count": null,
   "outputs": [],
   "source": [
    "melted_pt_followup = melt_and_categorize_dates(\n",
    "    input_df=pt_followup,\n",
    "    date_columns=ptfua_date_columns,\n",
    "    sort_by_date=True,\n",
    "    var_name='type',\n",
    "    value_name='date',\n",
    "    var_position=4,\n",
    "    value_position=5\n",
    ")"
   ],
   "metadata": {
    "collapsed": false
   },
   "id": "ffd9c5b9b1d4f966"
  },
  {
   "cell_type": "code",
   "execution_count": null,
   "outputs": [],
   "source": [
    "melted_pt_followup['type'].value_counts()"
   ],
   "metadata": {
    "collapsed": false
   },
   "id": "cab131156e93e893"
  },
  {
   "cell_type": "code",
   "execution_count": null,
   "outputs": [],
   "source": [
    "normalized_value_counts(pt_followup['ptst'])"
   ],
   "metadata": {
    "collapsed": false
   },
   "id": "be8e82d025f39015"
  }
 ],
 "metadata": {
  "kernelspec": {
   "display_name": "Python 3",
   "language": "python",
   "name": "python3"
  },
  "language_info": {
   "codemirror_mode": {
    "name": "ipython",
    "version": 2
   },
   "file_extension": ".py",
   "mimetype": "text/x-python",
   "name": "python",
   "nbconvert_exporter": "python",
   "pygments_lexer": "ipython2",
   "version": "2.7.6"
  }
 },
 "nbformat": 4,
 "nbformat_minor": 5
}
