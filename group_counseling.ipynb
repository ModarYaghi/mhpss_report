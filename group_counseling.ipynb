{
 "cells": [
  {
   "cell_type": "code",
   "execution_count": null,
   "id": "initial_id",
   "metadata": {
    "collapsed": true
   },
   "outputs": [],
   "source": [
    "import pandas as pd\n",
    "from column_names_groups import *\n",
    "from mfyfunctions import *\n",
    "from analysis_functions import *"
   ]
  },
  {
   "cell_type": "code",
   "execution_count": null,
   "outputs": [],
   "source": [
    "pd.set_option('display.float_format', '{:.1f}'.format)\n",
    "pd.set_option('display.max_colwidth', None)\n",
    "# noinspection PyTypeChecker\n",
    "threshold_date = pd.Timestamp('2022-09-30')"
   ],
   "metadata": {
    "collapsed": false
   },
   "id": "58f2c432c582f38c"
  },
  {
   "cell_type": "code",
   "execution_count": null,
   "outputs": [],
   "source": [
    "group_counseling = pd.read_csv(r'011/datasets/0010_ps_gc_092310.csv')\n",
    "group_counseling[group_counseling_date_columns] = group_counseling[group_counseling_date_columns].apply(pd.to_datetime)\n",
    "# group_counseling[g_numerical_variables] = intake0[intake_numerical_variables].astype('Int64')\n",
    "# intake0 = intake0[(intake0[intake_date_columns] > threshold_date).any(axis=1)]"
   ],
   "metadata": {
    "collapsed": false
   },
   "id": "e17083ab8996a257"
  },
  {
   "cell_type": "code",
   "execution_count": null,
   "outputs": [],
   "source": [
    "group_counseling"
   ],
   "metadata": {
    "collapsed": false
   },
   "id": "fd73d46ae3bc8617"
  },
  {
   "cell_type": "code",
   "execution_count": null,
   "outputs": [],
   "source": [
    "group_counseling = group_counseling[(group_counseling[group_counseling_basic_date_columns] > threshold_date).any(axis=1)]"
   ],
   "metadata": {
    "collapsed": false
   },
   "id": "bb7160b252cf619a"
  },
  {
   "cell_type": "code",
   "execution_count": null,
   "outputs": [],
   "source": [
    "group_counseling"
   ],
   "metadata": {
    "collapsed": false
   },
   "id": "cb5b2871d4587137"
  },
  {
   "cell_type": "code",
   "execution_count": null,
   "outputs": [],
   "source": [
    "group_counseling[['gcindx']].value_counts(dropna=False)"
   ],
   "metadata": {
    "collapsed": false
   },
   "id": "72a9611a1890a312"
  },
  {
   "cell_type": "code",
   "execution_count": null,
   "outputs": [],
   "source": [
    "individual_counseling = pd.read_csv(r'011/datasets/0011_ps_ic_092310.csv')\n",
    "individual_counseling[individual_counseling_date_columns] = individual_counseling[individual_counseling_date_columns].apply(pd.to_datetime)"
   ],
   "metadata": {
    "collapsed": false
   },
   "id": "877ecd11f63476d9"
  },
  {
   "cell_type": "code",
   "execution_count": null,
   "outputs": [],
   "source": [
    "individual_counseling23 = individual_counseling[(individual_counseling[individual_counseling_date_columns] > threshold_date).any(axis=1)]"
   ],
   "metadata": {
    "collapsed": false
   },
   "id": "1332e74323045130"
  },
  {
   "cell_type": "code",
   "execution_count": null,
   "outputs": [],
   "source": [
    "individual_counseling23"
   ],
   "metadata": {
    "collapsed": false
   },
   "id": "29555835c5fe180c"
  },
  {
   "cell_type": "code",
   "execution_count": null,
   "outputs": [],
   "source": [
    "ic_new_clients = individual_counseling[individual_counseling['ic1'] > threshold_date]\n",
    "ic_new_clients"
   ],
   "metadata": {
    "collapsed": false
   },
   "id": "2dd7ac990fe006a2"
  },
  {
   "cell_type": "code",
   "execution_count": null,
   "outputs": [],
   "source": [
    "ic_sessions = (individual_counseling[individual_counseling_date_columns].applymap(lambda x: x > threshold_date)).sum().sum()\n",
    "ic_sessions"
   ],
   "metadata": {
    "collapsed": false
   },
   "id": "3b23754cb74e74f4"
  },
  {
   "cell_type": "code",
   "execution_count": null,
   "outputs": [],
   "source": [
    "ic_sessions23 = (individual_counseling23[individual_counseling_date_columns].applymap(lambda x: x > threshold_date)).sum().sum()\n",
    "ic_sessions23"
   ],
   "metadata": {
    "collapsed": false
   },
   "id": "ed47b4296dccf58b"
  },
  {
   "cell_type": "code",
   "execution_count": null,
   "outputs": [],
   "source": [
    "# Calling screening dataset to get some information for intake\n",
    "scr = pd.read_csv(r'011/datasets/0000_ps_sc_092310.csv')\n",
    "scr[screening_date_columns] = scr[screening_date_columns].apply(pd.to_datetime)\n",
    "scr[screening_all_int_columns] = scr[screening_all_int_columns].astype('Int64')"
   ],
   "metadata": {
    "collapsed": false
   },
   "id": "72d9979640b608"
  },
  {
   "cell_type": "code",
   "execution_count": null,
   "outputs": [],
   "source": [
    "unique_scr = scr.drop_duplicates(subset='rid')\n",
    "ic_sex_age = pd.merge(individual_counseling23, unique_scr[['rid','sex', 'age']], on='rid', how='left')"
   ],
   "metadata": {
    "collapsed": false
   },
   "id": "8fc3a88cbded53b2"
  },
  {
   "cell_type": "code",
   "execution_count": null,
   "outputs": [],
   "source": [
    "ic_sex_age['sex'].value_counts()"
   ],
   "metadata": {
    "collapsed": false
   },
   "id": "56935924f402a5b6"
  },
  {
   "cell_type": "code",
   "execution_count": null,
   "outputs": [],
   "source": [],
   "metadata": {
    "collapsed": false
   },
   "id": "29c50511d3e90c8f"
  }
 ],
 "metadata": {
  "kernelspec": {
   "display_name": "Python 3",
   "language": "python",
   "name": "python3"
  },
  "language_info": {
   "codemirror_mode": {
    "name": "ipython",
    "version": 2
   },
   "file_extension": ".py",
   "mimetype": "text/x-python",
   "name": "python",
   "nbconvert_exporter": "python",
   "pygments_lexer": "ipython2",
   "version": "2.7.6"
  }
 },
 "nbformat": 4,
 "nbformat_minor": 5
}
