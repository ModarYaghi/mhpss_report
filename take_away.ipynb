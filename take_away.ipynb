{
 "cells": [
  {
   "cell_type": "code",
   "execution_count": 1,
   "id": "initial_id",
   "metadata": {
    "collapsed": true,
    "ExecuteTime": {
     "end_time": "2023-10-30T12:05:46.329706700Z",
     "start_time": "2023-10-30T12:05:45.370094900Z"
    }
   },
   "outputs": [],
   "source": [
    "import pandas as pd\n",
    "import os \n",
    "from ingredients import *\n",
    "from parse_funcs import *\n",
    "from mfyfunctions import *\n",
    "from analysis_functions import *"
   ]
  },
  {
   "cell_type": "code",
   "execution_count": 2,
   "outputs": [],
   "source": [
    "pd.set_option('display.float_format', '{:.1f}'.format)\n",
    "pd.set_option('display.max_colwidth', None)\n",
    "# noinspection PyTypeChecker\n",
    "threshold_date = pd.Timestamp('2022-09-30')"
   ],
   "metadata": {
    "collapsed": false,
    "ExecuteTime": {
     "end_time": "2023-10-30T12:05:49.139948600Z",
     "start_time": "2023-10-30T12:05:49.110171500Z"
    }
   },
   "id": "f273845b5c4bbe60"
  },
  {
   "cell_type": "code",
   "execution_count": 3,
   "outputs": [],
   "source": [
    "datasets_path = r'011/datasets/'\n",
    "datasets = os.listdir(datasets_path) "
   ],
   "metadata": {
    "collapsed": false,
    "ExecuteTime": {
     "end_time": "2023-10-30T12:05:50.780173700Z",
     "start_time": "2023-10-30T12:05:50.775106300Z"
    }
   },
   "id": "8177996c3481956"
  },
  {
   "cell_type": "code",
   "execution_count": 4,
   "outputs": [],
   "source": [
    "dataframes = {}"
   ],
   "metadata": {
    "collapsed": false,
    "ExecuteTime": {
     "end_time": "2023-10-30T12:05:51.719699200Z",
     "start_time": "2023-10-30T12:05:51.710142700Z"
    }
   },
   "id": "47f2e0013399b26e"
  },
  {
   "cell_type": "code",
   "execution_count": 5,
   "outputs": [],
   "source": [
    "for dataset in datasets:\n",
    "    if dataset.endswith('.csv'):\n",
    "        dataset_path = os.path.join(datasets_path, dataset)\n",
    "        df = pd.read_csv(dataset_path)\n",
    "        dataset_name = datasets_names[dataset]\n",
    "        globals()[dataset_name] = df\n",
    "        dataframes[dataset_name] = df"
   ],
   "metadata": {
    "collapsed": false,
    "ExecuteTime": {
     "end_time": "2023-10-30T12:05:52.671215100Z",
     "start_time": "2023-10-30T12:05:52.509569800Z"
    }
   },
   "id": "6a0de6decdeb43a2"
  },
  {
   "cell_type": "code",
   "execution_count": 6,
   "outputs": [
    {
     "data": {
      "text/plain": "dict_keys(['scr', 'int', 'gc', 'ic', 'fu', 'pei', 'trw', 'td', 'cws', 'aws', 'psfs', 'ptnt', 'ptre', 'ptgc', 'ptic', 'ptfu'])"
     },
     "execution_count": 6,
     "metadata": {},
     "output_type": "execute_result"
    }
   ],
   "source": [
    "dataframes.keys()"
   ],
   "metadata": {
    "collapsed": false,
    "ExecuteTime": {
     "end_time": "2023-10-30T12:05:53.359612400Z",
     "start_time": "2023-10-30T12:05:53.339574800Z"
    }
   },
   "id": "1b0ff3ae4bce90fa"
  },
  {
   "cell_type": "code",
   "execution_count": 9,
   "outputs": [],
   "source": [
    "scr_date_columns = parse_date_columns(scr)\n",
    "scr = parse_date_columns(scr, convert_dates=True)\n",
    "scr23 = scr[(scr[scr_date_columns] > threshold_date).any(axis=1)]"
   ],
   "metadata": {
    "collapsed": false,
    "ExecuteTime": {
     "end_time": "2023-10-30T12:10:56.569980500Z",
     "start_time": "2023-10-30T12:10:56.529718400Z"
    }
   },
   "id": "49a0578bc8a1bbcd"
  },
  {
   "cell_type": "code",
   "execution_count": 11,
   "outputs": [
    {
     "data": {
      "text/plain": "    scsp  scspi    rid  sex  age scloc        sc1 sc2       scre  \\\n22    YQ     23  R0183  2.0 48.0   NaN 2021-12-17 NaT 2023-06-21   \n27    YQ     28  R0120  2.0 44.0   NaN 2021-11-29 NaT 2023-06-21   \n79    YQ     80  R0290  1.0 34.0   NaN 2022-04-07 NaT 2023-06-16   \n89    YQ     90  R0298  1.0 36.0   NaN 2022-04-13 NaT 2023-06-20   \n97    YQ     98  R0337  2.0 53.0   NaN 2022-04-25 NaT 2023-06-19   \n..   ...    ...    ...  ...  ...   ...        ...  ..        ...   \n483   MT     42  R0934  2.0 33.0    SF 2023-09-25 NaT        NaT   \n484   AY     17  R0483  1.0 48.0   GZT 2022-11-09 NaT        NaT   \n485   AY     23  R0593  1.0 36.0   GZT 2022-12-21 NaT        NaT   \n486   AY     25  R0512  1.0 23.0   GZT 2023-01-05 NaT        NaT   \n487   AY     27  R0440  1.0 62.0   GZT 2023-01-12 NaT        NaT   \n\n                   srs srsorg  mhpss  trw  outref  tmh  pei  sert  \n22    Outreach_Session    NaN    NaN  NaN     NaN  NaN  1.0   1.0  \n27    Outreach_Session    NaN    NaN  NaN     NaN  NaN  1.0   1.0  \n79   ADMSP_Beneficiary    NA_    NaN  NaN     NaN  NaN  1.0   1.0  \n89    Outreach_Session    NaN    NaN  NaN     NaN  NaN  1.0   1.0  \n97   ADMSP_Beneficiary    NA_    NaN  NaN     NaN  NaN  1.0   1.0  \n..                 ...    ...    ...  ...     ...  ...  ...   ...  \n483                IRM    NA_    0.0  0.0     0.0  1.0  1.0   2.0  \n484   Family_or_Friend    NaN    NaN  NaN     NaN  NaN  NaN   NaN  \n485   Family_or_Friend    NaN    NaN  NaN     NaN  NaN  NaN   NaN  \n486   Family_or_Friend    NaN    NaN  NaN     NaN  NaN  NaN   NaN  \n487  ADMSP_Beneficiary    NaN    NaN  NaN     NaN  NaN  NaN   NaN  \n\n[205 rows x 17 columns]",
      "text/html": "<div>\n<style scoped>\n    .dataframe tbody tr th:only-of-type {\n        vertical-align: middle;\n    }\n\n    .dataframe tbody tr th {\n        vertical-align: top;\n    }\n\n    .dataframe thead th {\n        text-align: right;\n    }\n</style>\n<table border=\"1\" class=\"dataframe\">\n  <thead>\n    <tr style=\"text-align: right;\">\n      <th></th>\n      <th>scsp</th>\n      <th>scspi</th>\n      <th>rid</th>\n      <th>sex</th>\n      <th>age</th>\n      <th>scloc</th>\n      <th>sc1</th>\n      <th>sc2</th>\n      <th>scre</th>\n      <th>srs</th>\n      <th>srsorg</th>\n      <th>mhpss</th>\n      <th>trw</th>\n      <th>outref</th>\n      <th>tmh</th>\n      <th>pei</th>\n      <th>sert</th>\n    </tr>\n  </thead>\n  <tbody>\n    <tr>\n      <th>22</th>\n      <td>YQ</td>\n      <td>23</td>\n      <td>R0183</td>\n      <td>2.0</td>\n      <td>48.0</td>\n      <td>NaN</td>\n      <td>2021-12-17</td>\n      <td>NaT</td>\n      <td>2023-06-21</td>\n      <td>Outreach_Session</td>\n      <td>NaN</td>\n      <td>NaN</td>\n      <td>NaN</td>\n      <td>NaN</td>\n      <td>NaN</td>\n      <td>1.0</td>\n      <td>1.0</td>\n    </tr>\n    <tr>\n      <th>27</th>\n      <td>YQ</td>\n      <td>28</td>\n      <td>R0120</td>\n      <td>2.0</td>\n      <td>44.0</td>\n      <td>NaN</td>\n      <td>2021-11-29</td>\n      <td>NaT</td>\n      <td>2023-06-21</td>\n      <td>Outreach_Session</td>\n      <td>NaN</td>\n      <td>NaN</td>\n      <td>NaN</td>\n      <td>NaN</td>\n      <td>NaN</td>\n      <td>1.0</td>\n      <td>1.0</td>\n    </tr>\n    <tr>\n      <th>79</th>\n      <td>YQ</td>\n      <td>80</td>\n      <td>R0290</td>\n      <td>1.0</td>\n      <td>34.0</td>\n      <td>NaN</td>\n      <td>2022-04-07</td>\n      <td>NaT</td>\n      <td>2023-06-16</td>\n      <td>ADMSP_Beneficiary</td>\n      <td>NA_</td>\n      <td>NaN</td>\n      <td>NaN</td>\n      <td>NaN</td>\n      <td>NaN</td>\n      <td>1.0</td>\n      <td>1.0</td>\n    </tr>\n    <tr>\n      <th>89</th>\n      <td>YQ</td>\n      <td>90</td>\n      <td>R0298</td>\n      <td>1.0</td>\n      <td>36.0</td>\n      <td>NaN</td>\n      <td>2022-04-13</td>\n      <td>NaT</td>\n      <td>2023-06-20</td>\n      <td>Outreach_Session</td>\n      <td>NaN</td>\n      <td>NaN</td>\n      <td>NaN</td>\n      <td>NaN</td>\n      <td>NaN</td>\n      <td>1.0</td>\n      <td>1.0</td>\n    </tr>\n    <tr>\n      <th>97</th>\n      <td>YQ</td>\n      <td>98</td>\n      <td>R0337</td>\n      <td>2.0</td>\n      <td>53.0</td>\n      <td>NaN</td>\n      <td>2022-04-25</td>\n      <td>NaT</td>\n      <td>2023-06-19</td>\n      <td>ADMSP_Beneficiary</td>\n      <td>NA_</td>\n      <td>NaN</td>\n      <td>NaN</td>\n      <td>NaN</td>\n      <td>NaN</td>\n      <td>1.0</td>\n      <td>1.0</td>\n    </tr>\n    <tr>\n      <th>...</th>\n      <td>...</td>\n      <td>...</td>\n      <td>...</td>\n      <td>...</td>\n      <td>...</td>\n      <td>...</td>\n      <td>...</td>\n      <td>...</td>\n      <td>...</td>\n      <td>...</td>\n      <td>...</td>\n      <td>...</td>\n      <td>...</td>\n      <td>...</td>\n      <td>...</td>\n      <td>...</td>\n      <td>...</td>\n    </tr>\n    <tr>\n      <th>483</th>\n      <td>MT</td>\n      <td>42</td>\n      <td>R0934</td>\n      <td>2.0</td>\n      <td>33.0</td>\n      <td>SF</td>\n      <td>2023-09-25</td>\n      <td>NaT</td>\n      <td>NaT</td>\n      <td>IRM</td>\n      <td>NA_</td>\n      <td>0.0</td>\n      <td>0.0</td>\n      <td>0.0</td>\n      <td>1.0</td>\n      <td>1.0</td>\n      <td>2.0</td>\n    </tr>\n    <tr>\n      <th>484</th>\n      <td>AY</td>\n      <td>17</td>\n      <td>R0483</td>\n      <td>1.0</td>\n      <td>48.0</td>\n      <td>GZT</td>\n      <td>2022-11-09</td>\n      <td>NaT</td>\n      <td>NaT</td>\n      <td>Family_or_Friend</td>\n      <td>NaN</td>\n      <td>NaN</td>\n      <td>NaN</td>\n      <td>NaN</td>\n      <td>NaN</td>\n      <td>NaN</td>\n      <td>NaN</td>\n    </tr>\n    <tr>\n      <th>485</th>\n      <td>AY</td>\n      <td>23</td>\n      <td>R0593</td>\n      <td>1.0</td>\n      <td>36.0</td>\n      <td>GZT</td>\n      <td>2022-12-21</td>\n      <td>NaT</td>\n      <td>NaT</td>\n      <td>Family_or_Friend</td>\n      <td>NaN</td>\n      <td>NaN</td>\n      <td>NaN</td>\n      <td>NaN</td>\n      <td>NaN</td>\n      <td>NaN</td>\n      <td>NaN</td>\n    </tr>\n    <tr>\n      <th>486</th>\n      <td>AY</td>\n      <td>25</td>\n      <td>R0512</td>\n      <td>1.0</td>\n      <td>23.0</td>\n      <td>GZT</td>\n      <td>2023-01-05</td>\n      <td>NaT</td>\n      <td>NaT</td>\n      <td>Family_or_Friend</td>\n      <td>NaN</td>\n      <td>NaN</td>\n      <td>NaN</td>\n      <td>NaN</td>\n      <td>NaN</td>\n      <td>NaN</td>\n      <td>NaN</td>\n    </tr>\n    <tr>\n      <th>487</th>\n      <td>AY</td>\n      <td>27</td>\n      <td>R0440</td>\n      <td>1.0</td>\n      <td>62.0</td>\n      <td>GZT</td>\n      <td>2023-01-12</td>\n      <td>NaT</td>\n      <td>NaT</td>\n      <td>ADMSP_Beneficiary</td>\n      <td>NaN</td>\n      <td>NaN</td>\n      <td>NaN</td>\n      <td>NaN</td>\n      <td>NaN</td>\n      <td>NaN</td>\n      <td>NaN</td>\n    </tr>\n  </tbody>\n</table>\n<p>205 rows × 17 columns</p>\n</div>"
     },
     "execution_count": 11,
     "metadata": {},
     "output_type": "execute_result"
    }
   ],
   "source": [
    "scr23"
   ],
   "metadata": {
    "collapsed": false,
    "ExecuteTime": {
     "end_time": "2023-10-30T12:13:44.339585900Z",
     "start_time": "2023-10-30T12:13:44.279336Z"
    }
   },
   "id": "b59c998e28c85f49"
  },
  {
   "cell_type": "code",
   "execution_count": 14,
   "outputs": [
    {
     "data": {
      "text/plain": "     Unnamed: 0 ntsp  ntspi    rid        fcid  nt         nt1         nt2  \\\n91           91   YQ     92  R0415  8110020102   2  2022-06-09  2022-07-07   \n227         227   SA    102  R0592  8110050096   1  2023-01-02  2023-01-16   \n228         228   SA    103  R0725  8110050097   2  2023-07-14  2023-07-18   \n244         244   IJ     14  R0733  8110080014   2  2023-05-31  2023-06-05   \n248         248   LA      3  R0708  8110100003   2  2023-05-24  2023-06-01   \n\n            nt3 ntre  ...  sts  vsva  vsvp  hrd  jrn  wov  stgbv  lgbti  \\\n91   2022-07-21  NaN  ...  1.0   0.0   1.0  1.0  0.0  1.0    1.0    0.0   \n227         NaN  NaN  ...  1.0   0.0   0.0  1.0  0.0  1.0    0.0    0.0   \n228  2023-07-25  NaN  ...  0.0   0.0   1.0  1.0  0.0  1.0    0.0    0.0   \n244  2023-06-21  NaN  ...  1.0   0.0   1.0  1.0  0.0  1.0    0.0    0.0   \n248  2023-07-28  NaN  ...  1.0   0.0   1.0  1.0  0.0  1.0    1.0    0.0   \n\n     other  vict  \n91     0.0   7.0  \n227    0.0   6.0  \n228    0.0   5.0  \n244    0.0   7.0  \n248    0.0   8.0  \n\n[5 rows x 23 columns]",
      "text/html": "<div>\n<style scoped>\n    .dataframe tbody tr th:only-of-type {\n        vertical-align: middle;\n    }\n\n    .dataframe tbody tr th {\n        vertical-align: top;\n    }\n\n    .dataframe thead th {\n        text-align: right;\n    }\n</style>\n<table border=\"1\" class=\"dataframe\">\n  <thead>\n    <tr style=\"text-align: right;\">\n      <th></th>\n      <th>Unnamed: 0</th>\n      <th>ntsp</th>\n      <th>ntspi</th>\n      <th>rid</th>\n      <th>fcid</th>\n      <th>nt</th>\n      <th>nt1</th>\n      <th>nt2</th>\n      <th>nt3</th>\n      <th>ntre</th>\n      <th>...</th>\n      <th>sts</th>\n      <th>vsva</th>\n      <th>vsvp</th>\n      <th>hrd</th>\n      <th>jrn</th>\n      <th>wov</th>\n      <th>stgbv</th>\n      <th>lgbti</th>\n      <th>other</th>\n      <th>vict</th>\n    </tr>\n  </thead>\n  <tbody>\n    <tr>\n      <th>91</th>\n      <td>91</td>\n      <td>YQ</td>\n      <td>92</td>\n      <td>R0415</td>\n      <td>8110020102</td>\n      <td>2</td>\n      <td>2022-06-09</td>\n      <td>2022-07-07</td>\n      <td>2022-07-21</td>\n      <td>NaN</td>\n      <td>...</td>\n      <td>1.0</td>\n      <td>0.0</td>\n      <td>1.0</td>\n      <td>1.0</td>\n      <td>0.0</td>\n      <td>1.0</td>\n      <td>1.0</td>\n      <td>0.0</td>\n      <td>0.0</td>\n      <td>7.0</td>\n    </tr>\n    <tr>\n      <th>227</th>\n      <td>227</td>\n      <td>SA</td>\n      <td>102</td>\n      <td>R0592</td>\n      <td>8110050096</td>\n      <td>1</td>\n      <td>2023-01-02</td>\n      <td>2023-01-16</td>\n      <td>NaN</td>\n      <td>NaN</td>\n      <td>...</td>\n      <td>1.0</td>\n      <td>0.0</td>\n      <td>0.0</td>\n      <td>1.0</td>\n      <td>0.0</td>\n      <td>1.0</td>\n      <td>0.0</td>\n      <td>0.0</td>\n      <td>0.0</td>\n      <td>6.0</td>\n    </tr>\n    <tr>\n      <th>228</th>\n      <td>228</td>\n      <td>SA</td>\n      <td>103</td>\n      <td>R0725</td>\n      <td>8110050097</td>\n      <td>2</td>\n      <td>2023-07-14</td>\n      <td>2023-07-18</td>\n      <td>2023-07-25</td>\n      <td>NaN</td>\n      <td>...</td>\n      <td>0.0</td>\n      <td>0.0</td>\n      <td>1.0</td>\n      <td>1.0</td>\n      <td>0.0</td>\n      <td>1.0</td>\n      <td>0.0</td>\n      <td>0.0</td>\n      <td>0.0</td>\n      <td>5.0</td>\n    </tr>\n    <tr>\n      <th>244</th>\n      <td>244</td>\n      <td>IJ</td>\n      <td>14</td>\n      <td>R0733</td>\n      <td>8110080014</td>\n      <td>2</td>\n      <td>2023-05-31</td>\n      <td>2023-06-05</td>\n      <td>2023-06-21</td>\n      <td>NaN</td>\n      <td>...</td>\n      <td>1.0</td>\n      <td>0.0</td>\n      <td>1.0</td>\n      <td>1.0</td>\n      <td>0.0</td>\n      <td>1.0</td>\n      <td>0.0</td>\n      <td>0.0</td>\n      <td>0.0</td>\n      <td>7.0</td>\n    </tr>\n    <tr>\n      <th>248</th>\n      <td>248</td>\n      <td>LA</td>\n      <td>3</td>\n      <td>R0708</td>\n      <td>8110100003</td>\n      <td>2</td>\n      <td>2023-05-24</td>\n      <td>2023-06-01</td>\n      <td>2023-07-28</td>\n      <td>NaN</td>\n      <td>...</td>\n      <td>1.0</td>\n      <td>0.0</td>\n      <td>1.0</td>\n      <td>1.0</td>\n      <td>0.0</td>\n      <td>1.0</td>\n      <td>1.0</td>\n      <td>0.0</td>\n      <td>0.0</td>\n      <td>8.0</td>\n    </tr>\n  </tbody>\n</table>\n<p>5 rows × 23 columns</p>\n</div>"
     },
     "execution_count": 14,
     "metadata": {},
     "output_type": "execute_result"
    }
   ],
   "source": [
    "int[int['hrd'] == 1]"
   ],
   "metadata": {
    "collapsed": false,
    "ExecuteTime": {
     "end_time": "2023-10-30T12:19:58.169366Z",
     "start_time": "2023-10-30T12:19:58.162316400Z"
    }
   },
   "id": "2f4fb650a2e8eb8d"
  },
  {
   "cell_type": "code",
   "execution_count": 6,
   "outputs": [],
   "source": [],
   "metadata": {
    "collapsed": false,
    "ExecuteTime": {
     "end_time": "2023-10-30T12:06:03.215933700Z",
     "start_time": "2023-10-30T12:06:03.206361200Z"
    }
   },
   "id": "3e190223358d2103"
  },
  {
   "cell_type": "code",
   "execution_count": 9,
   "outputs": [],
   "source": [
    "# Creating empty dataframe\n",
    "visits_columns = ['rid', 'sex', 'age', 'visit','date']\n",
    "visits = pd.DataFrame(columns=visits_columns)"
   ],
   "metadata": {
    "collapsed": false,
    "ExecuteTime": {
     "end_time": "2023-10-30T07:49:39.208840800Z",
     "start_time": "2023-10-30T07:49:39.185903Z"
    }
   },
   "id": "364feed95796c3b4"
  },
  {
   "cell_type": "code",
   "execution_count": 10,
   "outputs": [],
   "source": [
    "for key, value in dataframes.items():\n",
    "    date_columns = parse_date_columns(value)\n",
    "    df = melt_and_categorize_dates(\n",
    "        value,\n",
    "        date_columns,\n",
    "        sort_by_date=True,\n",
    "        var_name='visit',\n",
    "        value_name='date'\n",
    "    )\n",
    "    if key == 'scr':\n",
    "        visits = visits.assign(\n",
    "            rid=df['rid'].values,\n",
    "            sex=df['sex'].values,\n",
    "            age=df['age'].values,\n",
    "            visit=df['visit'].values,\n",
    "            date=df['date'].values\n",
    "        )\n",
    "    else:\n",
    "        visits = pd.concat([visits, df[['rid', 'visit', 'date']]], ignore_index=True)"
   ],
   "metadata": {
    "collapsed": false,
    "ExecuteTime": {
     "end_time": "2023-10-30T07:49:40.459496Z",
     "start_time": "2023-10-30T07:49:40.146793800Z"
    }
   },
   "id": "1ca8c646d852ed52"
  }
 ],
 "metadata": {
  "kernelspec": {
   "display_name": "Python 3",
   "language": "python",
   "name": "python3"
  },
  "language_info": {
   "codemirror_mode": {
    "name": "ipython",
    "version": 2
   },
   "file_extension": ".py",
   "mimetype": "text/x-python",
   "name": "python",
   "nbconvert_exporter": "python",
   "pygments_lexer": "ipython2",
   "version": "2.7.6"
  }
 },
 "nbformat": 4,
 "nbformat_minor": 5
}
