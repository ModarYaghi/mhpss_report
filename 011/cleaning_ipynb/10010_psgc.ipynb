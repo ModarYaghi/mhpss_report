{
 "cells": [
  {
   "cell_type": "code",
   "execution_count": null,
   "id": "initial_id",
   "metadata": {
    "collapsed": true
   },
   "outputs": [],
   "source": [
    "import numpy as np\n",
    "import pandas as pd\n",
    "import warnings\n",
    "from my_static_data import *"
   ]
  },
  {
   "cell_type": "code",
   "execution_count": null,
   "outputs": [],
   "source": [
    "pd.set_option('display.float_format', '{:.1f}'.format)\n",
    "# pd.reset_option('display.float_format')\n",
    "# Display maximum column width:\n",
    "pd.set_option('display.max_colwidth', None)\n",
    "# Suppress openpyxl data validation warning\n",
    "warnings.filterwarnings(\"ignore\", category=UserWarning, module=\"openpyxl\")"
   ],
   "metadata": {
    "collapsed": false
   },
   "id": "fb7f9de78ce01688"
  },
  {
   "cell_type": "code",
   "execution_count": null,
   "outputs": [],
   "source": [
    "threshold_date = pd.Timestamp('2023-06-30')"
   ],
   "metadata": {
    "collapsed": false
   },
   "id": "2f67d0a333cd9037"
  },
  {
   "cell_type": "code",
   "execution_count": null,
   "outputs": [],
   "source": [
    "gc = pd.read_csv('0010_ps_gc_092310.csv')\n",
    "# gc[g_numerical_variables] = intake[intake_numerical_variables].astype('Int64')\n",
    "gc[group_counseling_date_columns] = gc[group_counseling_date_columns].apply(pd.to_datetime)"
   ],
   "metadata": {
    "collapsed": false
   },
   "id": "44662ec8810720e9"
  },
  {
   "cell_type": "code",
   "execution_count": null,
   "outputs": [],
   "source": [
    "gc23 = gc[(gc[group_counseling_date_columns] > threshold_date).any(axis=1)]"
   ],
   "metadata": {
    "collapsed": false
   },
   "id": "c574f6cd5db97b87"
  },
  {
   "cell_type": "code",
   "execution_count": null,
   "outputs": [],
   "source": [
    "gc23"
   ],
   "metadata": {
    "collapsed": false
   },
   "id": "214746f3b3675d4f"
  },
  {
   "cell_type": "code",
   "execution_count": null,
   "outputs": [],
   "source": [
    "gc_session_q3_23 = gc23[group_counseling_basic_date_columns].gt(threshold_date).sum()\n",
    "gc_session_q3_23.sum()"
   ],
   "metadata": {
    "collapsed": false
   },
   "id": "fdaaebfd11080b31"
  },
  {
   "cell_type": "code",
   "execution_count": null,
   "outputs": [],
   "source": [
    "ic = pd.read_csv('0011_ps_ic_092310.csv')\n",
    "ic[individual_counseling_date_columns] = ic[individual_counseling_date_columns].apply(pd.to_datetime)\n",
    "ic"
   ],
   "metadata": {
    "collapsed": false
   },
   "id": "768d9237f917f6a0"
  },
  {
   "cell_type": "code",
   "execution_count": null,
   "outputs": [],
   "source": [
    "ic23 = ic[(ic[individual_counseling_date_columns] > threshold_date).any(axis=1)]\n",
    "ic23.to_clipboard()"
   ],
   "metadata": {
    "collapsed": false
   },
   "id": "805d7caa6e1a9e63"
  },
  {
   "cell_type": "code",
   "execution_count": null,
   "outputs": [],
   "source": [
    "ic_session_q3_23 = ic23[individual_counseling_date_columns].gt(threshold_date).sum()\n",
    "ic_session_q3_23.sum()"
   ],
   "metadata": {
    "collapsed": false
   },
   "id": "90e0da0f29c4bbb3"
  },
  {
   "cell_type": "code",
   "execution_count": null,
   "outputs": [],
   "source": [
    "fua = pd.read_csv('0100_ps_fu_092310.csv')\n",
    "fua[follow_up_date_columns] = fua[follow_up_date_columns].apply(pd.to_datetime)"
   ],
   "metadata": {
    "collapsed": false
   },
   "id": "ac220b5124e6915a"
  },
  {
   "cell_type": "code",
   "execution_count": null,
   "outputs": [],
   "source": [
    "fua23 = fua[(fua[follow_up_date_columns] > threshold_date).any(axis=1)]\n",
    "fua23"
   ],
   "metadata": {
    "collapsed": false
   },
   "id": "4bba3c727d0cb45"
  },
  {
   "cell_type": "code",
   "execution_count": null,
   "outputs": [],
   "source": [
    "# Processing follow-up 3m\n",
    "fua3m = fua[(fua['3m'] > threshold_date)]\n",
    "fua3m = fua3m.drop(['6m', '12m'], axis=1)\n",
    "fua3m.rename({'3m': 'fuaperiod'}, axis=1, inplace=True)"
   ],
   "metadata": {
    "collapsed": false
   },
   "id": "7661b6cb52bf7fc2"
  },
  {
   "cell_type": "code",
   "execution_count": null,
   "outputs": [],
   "source": [
    "if 'fuaperiod' not in fua3m.columns:\n",
    "    fua3m.insert(4, 'fuaperiod', 3)"
   ],
   "metadata": {
    "collapsed": false
   },
   "id": "f78097faa447006a"
  },
  {
   "cell_type": "code",
   "execution_count": null,
   "outputs": [],
   "source": [
    "fua3m"
   ],
   "metadata": {
    "collapsed": false
   },
   "id": "c3b51963afab30e3"
  },
  {
   "cell_type": "code",
   "execution_count": null,
   "outputs": [],
   "source": [
    "# Processing follow-up 6m\n",
    "fua6m = fua[(fua['6m'] > threshold_date)]\n",
    "fua6m = fua6m.drop(['3m', '12m'], axis=1)\n",
    "fua6m.rename({'6m': 'fuadate'}, axis=1, inplace=True)"
   ],
   "metadata": {
    "collapsed": false
   },
   "id": "84ff45a8e183b256"
  },
  {
   "cell_type": "code",
   "execution_count": null,
   "outputs": [],
   "source": [
    "if 'fuaperiod' not in fua6m.columns:\n",
    "    fua6m.insert(4, 'fuaperiod', 6)"
   ],
   "metadata": {
    "collapsed": false
   },
   "id": "9d29b1b0521ef77b"
  },
  {
   "cell_type": "code",
   "execution_count": null,
   "outputs": [],
   "source": [
    "fua6m"
   ],
   "metadata": {
    "collapsed": false
   },
   "id": "5f5173d7639d85f1"
  },
  {
   "cell_type": "code",
   "execution_count": null,
   "outputs": [],
   "source": [
    "# Processing follow-up 122m\n",
    "fua12m = fua[(fua['12m'] > threshold_date)]\n",
    "fua12m = fua12m.drop(['3m', '6m'], axis=1)\n",
    "fua12m.rename({'12m': 'fuadate'}, axis=1, inplace=True)"
   ],
   "metadata": {
    "collapsed": false
   },
   "id": "d3915683ce0513b"
  },
  {
   "cell_type": "code",
   "execution_count": null,
   "outputs": [],
   "source": [
    "if 'fuaperiod' not in fua12m.columns:\n",
    "    fua12m.insert(4, 'fuaperiod', 12)"
   ],
   "metadata": {
    "collapsed": false
   },
   "id": "6ca00ae366797e72"
  },
  {
   "cell_type": "code",
   "execution_count": null,
   "outputs": [],
   "source": [
    "fuaq323 = pd.concat([fua3m, fua6m, fua12m], ignore_index=True)\n",
    "fuaq323.to_csv(r'10111_011/0100_10111_011_psfu.csv', index=False)"
   ],
   "metadata": {
    "collapsed": false
   },
   "id": "5e9ff8fe548ea2f5"
  },
  {
   "cell_type": "code",
   "execution_count": null,
   "outputs": [],
   "source": [
    "fuaq323['fuaperiod'].value_counts().to_clipboard()"
   ],
   "metadata": {
    "collapsed": false
   },
   "id": "5da622d7fc4f3c90"
  },
  {
   "cell_type": "code",
   "execution_count": null,
   "outputs": [],
   "source": [],
   "metadata": {
    "collapsed": false
   },
   "id": "d91f3c9b22ade97f"
  },
  {
   "cell_type": "code",
   "execution_count": null,
   "outputs": [],
   "source": [
    "pei = pd.read_csv('0101_ps_pe_092310.csv')\n",
    "pei[pei_date_columns] = pei[pei_date_columns].apply(pd.to_datetime)\n",
    "pei"
   ],
   "metadata": {
    "collapsed": false
   },
   "id": "53210bc4c094c2b2"
  },
  {
   "cell_type": "code",
   "execution_count": null,
   "outputs": [],
   "source": [
    "pei['peindx'].value_counts().to_clipboard()"
   ],
   "metadata": {
    "collapsed": false
   },
   "id": "b5ffdf22b3f094a0"
  },
  {
   "cell_type": "code",
   "execution_count": null,
   "outputs": [],
   "source": [
    "pei['pet'].sum()"
   ],
   "metadata": {
    "collapsed": false
   },
   "id": "e1d9c96bf5a694e"
  },
  {
   "cell_type": "code",
   "execution_count": null,
   "outputs": [],
   "source": [
    "screening = pd.read_csv('0000_ps_sc_092310.csv')\n",
    "# screening\n"
   ],
   "metadata": {
    "collapsed": false
   },
   "id": "29c8ed7491d4a468"
  },
  {
   "cell_type": "code",
   "execution_count": null,
   "outputs": [],
   "source": [],
   "metadata": {
    "collapsed": false
   },
   "id": "1f9673d6029023ca"
  },
  {
   "cell_type": "code",
   "execution_count": null,
   "outputs": [],
   "source": [
    "merged_df = pd.merge(pei, screening, on='rid', how='inner')\n",
    "df = merged_df.drop_duplicates(subset='rid')\n",
    "df\n",
    "# merged_df['sex'].value_counts().to_clipboard()"
   ],
   "metadata": {
    "collapsed": false
   },
   "id": "a71e0bd1170a928f"
  },
  {
   "cell_type": "code",
   "execution_count": null,
   "outputs": [],
   "source": [
    "df = df[['peindx', 'sex']]"
   ],
   "metadata": {
    "collapsed": false
   },
   "id": "ccfb67ea2bdb1761"
  },
  {
   "cell_type": "code",
   "execution_count": null,
   "outputs": [],
   "source": [
    "result = df.groupby('peindx').agg(Count=('peindx', 'count'), TotalValue=('sex', 'sum')).reset_index()\n",
    "result"
   ],
   "metadata": {
    "collapsed": false
   },
   "id": "565e867cb07563f"
  },
  {
   "cell_type": "code",
   "execution_count": null,
   "outputs": [],
   "source": [
    "td = pd.read_csv('0111_ps_td_092310.csv')"
   ],
   "metadata": {
    "collapsed": false
   },
   "id": "27281064ef99e76f"
  },
  {
   "cell_type": "code",
   "execution_count": null,
   "outputs": [],
   "source": [
    "td"
   ],
   "metadata": {
    "collapsed": false
   },
   "id": "20baf9be22aa39e0"
  },
  {
   "cell_type": "code",
   "execution_count": null,
   "outputs": [],
   "source": [
    "td[td_date_columns] = td[td_date_columns].apply(pd.to_datetime)\n",
    "tdq323 = td[(td[td_date_columns] > threshold_date).any(axis=1)] \n",
    "tdq323"
   ],
   "metadata": {
    "collapsed": false
   },
   "id": "a6b7fa3c62970050"
  },
  {
   "cell_type": "code",
   "execution_count": null,
   "outputs": [],
   "source": [
    "cw = pd.read_csv('1000_ps_cw_092310.csv')\n",
    "cw[cws_date_columns] = cw[cws_date_columns].apply(pd.to_datetime)\n",
    "cwq323 = cw[(cw[cws_date_columns] > threshold_date).any(axis=1)] "
   ],
   "metadata": {
    "collapsed": false
   },
   "id": "ffa1d375a37efbc0"
  },
  {
   "cell_type": "code",
   "execution_count": null,
   "outputs": [],
   "source": [
    "cwq323"
   ],
   "metadata": {
    "collapsed": false
   },
   "id": "49e4f44d0b9dacb7"
  },
  {
   "cell_type": "code",
   "execution_count": null,
   "outputs": [],
   "source": [
    "psfs = pd.read_csv('1010_pt_pf_092310.csv')\n",
    "psfs[psfs_date_columns] = psfs[psfs_date_columns].apply(pd.to_datetime)\n",
    "psfsq323 = psfs[(psfs[psfs_date_columns] > threshold_date).any(axis=1)] \n",
    "psfsq323"
   ],
   "metadata": {
    "collapsed": false
   },
   "id": "55e70e7a7ab8b729"
  },
  {
   "cell_type": "code",
   "execution_count": null,
   "outputs": [],
   "source": [
    "ptnt = pd.read_csv('1011_pt_nt_092310.csv')\n",
    "# ptnt\n",
    "ptnt_dates = ptnt_date_columns[:2]\n",
    "ptnt[ptnt_dates] = ptnt[ptnt_dates].apply(pd.to_datetime)\n",
    "ptntq323 = ptnt[(ptnt[ptnt_dates] > threshold_date).any(axis=1)] \n",
    "ptntq323"
   ],
   "metadata": {
    "collapsed": false
   },
   "id": "83100d2be8b4bf2e"
  },
  {
   "cell_type": "code",
   "execution_count": null,
   "outputs": [],
   "source": [
    "ptgc = pd.read_csv('1101_pt_gc_092310.csv')\n",
    "ptgc[ptgc_date_columns] = ptgc[ptgc_date_columns].apply(pd.to_datetime)\n",
    "ptgcq323 = ptgc[(ptgc[ptgc_date_columns] > threshold_date).any(axis=1)]\n",
    "ptgcq323.to_clipboard()"
   ],
   "metadata": {
    "collapsed": false
   },
   "id": "590bafb43b73a424"
  },
  {
   "cell_type": "code",
   "execution_count": null,
   "outputs": [],
   "source": [
    "ptic = pd.read_csv('1110_pt_ic_092310.csv')\n",
    "ptic[ptic_date_columns] = ptic[ptic_date_columns].apply(pd.to_datetime)\n",
    "pticq323 = ptic[(ptic[ptic_date_columns] > threshold_date).any(axis=1)]\n",
    "pticq323.to_clipboard()"
   ],
   "metadata": {
    "collapsed": false
   },
   "id": "7ad15cc546584580"
  },
  {
   "cell_type": "code",
   "execution_count": null,
   "outputs": [],
   "source": [
    "trw = pd.read_csv('0110_ps_tr_092310.csv')\n",
    "trw[trw_date_columns] = trw[trw_date_columns].apply(pd.to_datetime)\n",
    "trwq323 = trw[(trw[trw_date_columns] > threshold_date).any(axis=1)]\n",
    "trwq323"
   ],
   "metadata": {
    "collapsed": false
   },
   "id": "ecd45eb5f05fb4b9"
  }
 ],
 "metadata": {
  "kernelspec": {
   "display_name": "Python 3",
   "language": "python",
   "name": "python3"
  },
  "language_info": {
   "codemirror_mode": {
    "name": "ipython",
    "version": 2
   },
   "file_extension": ".py",
   "mimetype": "text/x-python",
   "name": "python",
   "nbconvert_exporter": "python",
   "pygments_lexer": "ipython2",
   "version": "2.7.6"
  }
 },
 "nbformat": 4,
 "nbformat_minor": 5
}
