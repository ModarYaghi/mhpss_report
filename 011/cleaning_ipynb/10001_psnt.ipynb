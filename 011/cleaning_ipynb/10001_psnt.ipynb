{
 "cells": [
  {
   "cell_type": "code",
   "execution_count": 1,
   "id": "initial_id",
   "metadata": {
    "collapsed": true,
    "ExecuteTime": {
     "end_time": "2023-10-09T02:14:04.030927Z",
     "start_time": "2023-10-09T02:14:03.307519300Z"
    }
   },
   "outputs": [],
   "source": [
    "import numpy as np\n",
    "import pandas as pd\n",
    "import warnings\n",
    "from my_static_data import *"
   ]
  },
  {
   "cell_type": "code",
   "execution_count": 2,
   "outputs": [],
   "source": [
    "pd.set_option('display.float_format', '{:.1f}'.format)\n",
    "# pd.reset_option('display.float_format')\n",
    "# Display maximum column width:\n",
    "pd.set_option('display.max_colwidth', None)\n",
    "# Suppress openpyxl data validation warning\n",
    "warnings.filterwarnings(\"ignore\", category=UserWarning, module=\"openpyxl\")"
   ],
   "metadata": {
    "collapsed": false,
    "ExecuteTime": {
     "end_time": "2023-10-09T02:14:08.942784500Z",
     "start_time": "2023-10-09T02:14:08.939593300Z"
    }
   },
   "id": "fb7f9de78ce01688"
  },
  {
   "cell_type": "code",
   "execution_count": 3,
   "outputs": [],
   "source": [
    "threshold_date = pd.Timestamp('2023-06-30')"
   ],
   "metadata": {
    "collapsed": false,
    "ExecuteTime": {
     "end_time": "2023-10-09T02:14:10.885348500Z",
     "start_time": "2023-10-09T02:14:10.880347200Z"
    }
   },
   "id": "2f67d0a333cd9037"
  },
  {
   "cell_type": "code",
   "execution_count": 14,
   "outputs": [],
   "source": [
    "intake = pd.read_csv('0001_ps_nt_092310.csv')\n",
    "intake[intake_numerical_variables] = intake[intake_numerical_variables].astype('Int64')\n",
    "intake[intake_date_columns] = intake[intake_date_columns].apply(pd.to_datetime)"
   ],
   "metadata": {
    "collapsed": false,
    "ExecuteTime": {
     "end_time": "2023-10-09T02:29:03.748579100Z",
     "start_time": "2023-10-09T02:29:03.697916Z"
    }
   },
   "id": "44662ec8810720e9"
  },
  {
   "cell_type": "code",
   "execution_count": 15,
   "outputs": [
    {
     "data": {
      "text/plain": "    ntsp  ntspi    rid        fcid  nt        nt1        nt2        nt3  \\\n0     YQ      1  R0130  8110020011   3 2019-04-26 2019-05-28        NaT   \n1     YQ      2  R0024  8110020012   1 2019-12-26 2020-01-02        NaT   \n2     YQ      3  R0010  8110020013   1 2020-01-20 2020-01-29        NaT   \n3     YQ      4  R0009  8110020014   1 2020-01-14 2020-01-28        NaT   \n4     YQ      5  R0003  8110020015   3 2020-01-06 2020-01-13        NaT   \n..   ...    ...    ...         ...  ..        ...        ...        ...   \n258   MT      2  R0721  8110110002   2 2023-05-22 2023-06-05 2023-06-13   \n259   MT      3  R0626  8110110003   1 2023-05-23 2023-06-13        NaT   \n260   MT      4  R0712  8110110004   1 2023-05-31 2023-07-03        NaT   \n261   MT      5  R0645  8110110005   1 2023-06-01 2023-07-28        NaT   \n262   MT      6  R0589  8110110006   1 2023-08-02 2023-08-17        NaT   \n\n          ntre  fom  ...  sts  vsva  vsvp   hrd   jrn  wov  stgbv  lgbti  \\\n0   2021-01-15    0  ...    0  <NA>  <NA>  <NA>  <NA>    1      0      0   \n1          NaT    1  ...    1  <NA>  <NA>  <NA>  <NA>    1      0      0   \n2          NaT    1  ...    1  <NA>  <NA>  <NA>  <NA>    1      0      0   \n3          NaT    0  ...    0  <NA>  <NA>  <NA>  <NA>    1      0      0   \n4   2021-11-23    0  ...    1  <NA>  <NA>  <NA>  <NA>    1      1      0   \n..         ...  ...  ...  ...   ...   ...   ...   ...  ...    ...    ...   \n258        NaT    0  ...    1     0     0     0     0    1      0      0   \n259        NaT    0  ...    0     0     0     0     0    1      0      0   \n260        NaT    0  ...    0     0     0     0     0    1      0      0   \n261        NaT    0  ...    0     0     0     0     0    1      0      0   \n262        NaT    1  ...    1     0     0     0     0    1      0      0   \n\n     other  vict  \n0        0     2  \n1        0     4  \n2        0     3  \n3        0     1  \n4        0     3  \n..     ...   ...  \n258      0     4  \n259      0     1  \n260      0     3  \n261      0     1  \n262      0     3  \n\n[263 rows x 22 columns]",
      "text/html": "<div>\n<style scoped>\n    .dataframe tbody tr th:only-of-type {\n        vertical-align: middle;\n    }\n\n    .dataframe tbody tr th {\n        vertical-align: top;\n    }\n\n    .dataframe thead th {\n        text-align: right;\n    }\n</style>\n<table border=\"1\" class=\"dataframe\">\n  <thead>\n    <tr style=\"text-align: right;\">\n      <th></th>\n      <th>ntsp</th>\n      <th>ntspi</th>\n      <th>rid</th>\n      <th>fcid</th>\n      <th>nt</th>\n      <th>nt1</th>\n      <th>nt2</th>\n      <th>nt3</th>\n      <th>ntre</th>\n      <th>fom</th>\n      <th>...</th>\n      <th>sts</th>\n      <th>vsva</th>\n      <th>vsvp</th>\n      <th>hrd</th>\n      <th>jrn</th>\n      <th>wov</th>\n      <th>stgbv</th>\n      <th>lgbti</th>\n      <th>other</th>\n      <th>vict</th>\n    </tr>\n  </thead>\n  <tbody>\n    <tr>\n      <th>0</th>\n      <td>YQ</td>\n      <td>1</td>\n      <td>R0130</td>\n      <td>8110020011</td>\n      <td>3</td>\n      <td>2019-04-26</td>\n      <td>2019-05-28</td>\n      <td>NaT</td>\n      <td>2021-01-15</td>\n      <td>0</td>\n      <td>...</td>\n      <td>0</td>\n      <td>&lt;NA&gt;</td>\n      <td>&lt;NA&gt;</td>\n      <td>&lt;NA&gt;</td>\n      <td>&lt;NA&gt;</td>\n      <td>1</td>\n      <td>0</td>\n      <td>0</td>\n      <td>0</td>\n      <td>2</td>\n    </tr>\n    <tr>\n      <th>1</th>\n      <td>YQ</td>\n      <td>2</td>\n      <td>R0024</td>\n      <td>8110020012</td>\n      <td>1</td>\n      <td>2019-12-26</td>\n      <td>2020-01-02</td>\n      <td>NaT</td>\n      <td>NaT</td>\n      <td>1</td>\n      <td>...</td>\n      <td>1</td>\n      <td>&lt;NA&gt;</td>\n      <td>&lt;NA&gt;</td>\n      <td>&lt;NA&gt;</td>\n      <td>&lt;NA&gt;</td>\n      <td>1</td>\n      <td>0</td>\n      <td>0</td>\n      <td>0</td>\n      <td>4</td>\n    </tr>\n    <tr>\n      <th>2</th>\n      <td>YQ</td>\n      <td>3</td>\n      <td>R0010</td>\n      <td>8110020013</td>\n      <td>1</td>\n      <td>2020-01-20</td>\n      <td>2020-01-29</td>\n      <td>NaT</td>\n      <td>NaT</td>\n      <td>1</td>\n      <td>...</td>\n      <td>1</td>\n      <td>&lt;NA&gt;</td>\n      <td>&lt;NA&gt;</td>\n      <td>&lt;NA&gt;</td>\n      <td>&lt;NA&gt;</td>\n      <td>1</td>\n      <td>0</td>\n      <td>0</td>\n      <td>0</td>\n      <td>3</td>\n    </tr>\n    <tr>\n      <th>3</th>\n      <td>YQ</td>\n      <td>4</td>\n      <td>R0009</td>\n      <td>8110020014</td>\n      <td>1</td>\n      <td>2020-01-14</td>\n      <td>2020-01-28</td>\n      <td>NaT</td>\n      <td>NaT</td>\n      <td>0</td>\n      <td>...</td>\n      <td>0</td>\n      <td>&lt;NA&gt;</td>\n      <td>&lt;NA&gt;</td>\n      <td>&lt;NA&gt;</td>\n      <td>&lt;NA&gt;</td>\n      <td>1</td>\n      <td>0</td>\n      <td>0</td>\n      <td>0</td>\n      <td>1</td>\n    </tr>\n    <tr>\n      <th>4</th>\n      <td>YQ</td>\n      <td>5</td>\n      <td>R0003</td>\n      <td>8110020015</td>\n      <td>3</td>\n      <td>2020-01-06</td>\n      <td>2020-01-13</td>\n      <td>NaT</td>\n      <td>2021-11-23</td>\n      <td>0</td>\n      <td>...</td>\n      <td>1</td>\n      <td>&lt;NA&gt;</td>\n      <td>&lt;NA&gt;</td>\n      <td>&lt;NA&gt;</td>\n      <td>&lt;NA&gt;</td>\n      <td>1</td>\n      <td>1</td>\n      <td>0</td>\n      <td>0</td>\n      <td>3</td>\n    </tr>\n    <tr>\n      <th>...</th>\n      <td>...</td>\n      <td>...</td>\n      <td>...</td>\n      <td>...</td>\n      <td>...</td>\n      <td>...</td>\n      <td>...</td>\n      <td>...</td>\n      <td>...</td>\n      <td>...</td>\n      <td>...</td>\n      <td>...</td>\n      <td>...</td>\n      <td>...</td>\n      <td>...</td>\n      <td>...</td>\n      <td>...</td>\n      <td>...</td>\n      <td>...</td>\n      <td>...</td>\n      <td>...</td>\n    </tr>\n    <tr>\n      <th>258</th>\n      <td>MT</td>\n      <td>2</td>\n      <td>R0721</td>\n      <td>8110110002</td>\n      <td>2</td>\n      <td>2023-05-22</td>\n      <td>2023-06-05</td>\n      <td>2023-06-13</td>\n      <td>NaT</td>\n      <td>0</td>\n      <td>...</td>\n      <td>1</td>\n      <td>0</td>\n      <td>0</td>\n      <td>0</td>\n      <td>0</td>\n      <td>1</td>\n      <td>0</td>\n      <td>0</td>\n      <td>0</td>\n      <td>4</td>\n    </tr>\n    <tr>\n      <th>259</th>\n      <td>MT</td>\n      <td>3</td>\n      <td>R0626</td>\n      <td>8110110003</td>\n      <td>1</td>\n      <td>2023-05-23</td>\n      <td>2023-06-13</td>\n      <td>NaT</td>\n      <td>NaT</td>\n      <td>0</td>\n      <td>...</td>\n      <td>0</td>\n      <td>0</td>\n      <td>0</td>\n      <td>0</td>\n      <td>0</td>\n      <td>1</td>\n      <td>0</td>\n      <td>0</td>\n      <td>0</td>\n      <td>1</td>\n    </tr>\n    <tr>\n      <th>260</th>\n      <td>MT</td>\n      <td>4</td>\n      <td>R0712</td>\n      <td>8110110004</td>\n      <td>1</td>\n      <td>2023-05-31</td>\n      <td>2023-07-03</td>\n      <td>NaT</td>\n      <td>NaT</td>\n      <td>0</td>\n      <td>...</td>\n      <td>0</td>\n      <td>0</td>\n      <td>0</td>\n      <td>0</td>\n      <td>0</td>\n      <td>1</td>\n      <td>0</td>\n      <td>0</td>\n      <td>0</td>\n      <td>3</td>\n    </tr>\n    <tr>\n      <th>261</th>\n      <td>MT</td>\n      <td>5</td>\n      <td>R0645</td>\n      <td>8110110005</td>\n      <td>1</td>\n      <td>2023-06-01</td>\n      <td>2023-07-28</td>\n      <td>NaT</td>\n      <td>NaT</td>\n      <td>0</td>\n      <td>...</td>\n      <td>0</td>\n      <td>0</td>\n      <td>0</td>\n      <td>0</td>\n      <td>0</td>\n      <td>1</td>\n      <td>0</td>\n      <td>0</td>\n      <td>0</td>\n      <td>1</td>\n    </tr>\n    <tr>\n      <th>262</th>\n      <td>MT</td>\n      <td>6</td>\n      <td>R0589</td>\n      <td>8110110006</td>\n      <td>1</td>\n      <td>2023-08-02</td>\n      <td>2023-08-17</td>\n      <td>NaT</td>\n      <td>NaT</td>\n      <td>1</td>\n      <td>...</td>\n      <td>1</td>\n      <td>0</td>\n      <td>0</td>\n      <td>0</td>\n      <td>0</td>\n      <td>1</td>\n      <td>0</td>\n      <td>0</td>\n      <td>0</td>\n      <td>3</td>\n    </tr>\n  </tbody>\n</table>\n<p>263 rows × 22 columns</p>\n</div>"
     },
     "execution_count": 15,
     "metadata": {},
     "output_type": "execute_result"
    }
   ],
   "source": [
    "intake = intake.drop('Unnamed: 0', axis=1)\n",
    "intake"
   ],
   "metadata": {
    "collapsed": false,
    "ExecuteTime": {
     "end_time": "2023-10-09T02:29:04.720095600Z",
     "start_time": "2023-10-09T02:29:04.661571100Z"
    }
   },
   "id": "5a0727b7e177f2d3"
  },
  {
   "cell_type": "code",
   "execution_count": 16,
   "outputs": [],
   "source": [
    "nt23 = intake[(intake[['nt1', 'nt2', 'nt3', 'ntre']] > threshold_date).any(axis=1)]"
   ],
   "metadata": {
    "collapsed": false,
    "ExecuteTime": {
     "end_time": "2023-10-09T02:29:20.651725400Z",
     "start_time": "2023-10-09T02:29:20.602055700Z"
    }
   },
   "id": "c574f6cd5db97b87"
  },
  {
   "cell_type": "code",
   "execution_count": 20,
   "outputs": [],
   "source": [
    "nt23 = nt23[(nt23['nt'] > 0)]\n",
    "nt23.to_clipboard()"
   ],
   "metadata": {
    "collapsed": false,
    "ExecuteTime": {
     "end_time": "2023-10-09T02:47:08.551068600Z",
     "start_time": "2023-10-09T02:47:08.467012500Z"
    }
   },
   "id": "fdaaebfd11080b31"
  },
  {
   "cell_type": "code",
   "execution_count": 21,
   "outputs": [],
   "source": [
    "intake_sessions = nt23['nt'].value_counts()\n",
    "intake_sessions.to_clipboard()"
   ],
   "metadata": {
    "collapsed": false,
    "ExecuteTime": {
     "end_time": "2023-10-09T02:49:33.478273200Z",
     "start_time": "2023-10-09T02:49:33.426463700Z"
    }
   },
   "id": "4c8b48a52a2d929e"
  },
  {
   "cell_type": "code",
   "execution_count": 30,
   "outputs": [],
   "source": [
    "# int_fcid = nt23[['rid', 'fcid']]\n",
    "# int_fcid = pd.DataFrame(int_fcid).reset_index(drop=True)\n",
    "# int_fcid"
   ],
   "metadata": {
    "collapsed": false,
    "ExecuteTime": {
     "end_time": "2023-10-09T03:18:11.869258300Z",
     "start_time": "2023-10-09T03:18:11.862046Z"
    }
   },
   "id": "892d85cc326f1491"
  },
  {
   "cell_type": "code",
   "execution_count": 31,
   "outputs": [],
   "source": [
    "screening = pd.read_csv('0000_ps_sc_092310.csv')\n",
    "# screening"
   ],
   "metadata": {
    "collapsed": false,
    "ExecuteTime": {
     "end_time": "2023-10-09T03:18:22.177577400Z",
     "start_time": "2023-10-09T03:18:22.124710800Z"
    }
   },
   "id": "ec1abf8736fa84e5"
  },
  {
   "cell_type": "code",
   "execution_count": 29,
   "outputs": [],
   "source": [
    "# merged_df = pd.merge(int_fcid, screening, on='rid', how='inner')\n",
    "# merged_df = merged_df[['rid', 'fcid', 'sex']]\n",
    "# merged_df['sex'].value_counts().to_clipboard()"
   ],
   "metadata": {
    "collapsed": false,
    "ExecuteTime": {
     "end_time": "2023-10-09T03:16:39.453443400Z",
     "start_time": "2023-10-09T03:16:39.400432Z"
    }
   },
   "id": "4dd043a760169b8f"
  },
  {
   "cell_type": "code",
   "execution_count": null,
   "outputs": [],
   "source": [
    "# scr223"
   ],
   "metadata": {
    "collapsed": false
   },
   "id": "50208731ee659160"
  },
  {
   "cell_type": "code",
   "execution_count": 32,
   "outputs": [
    {
     "data": {
      "text/plain": "    ntsp  ntspi    rid        fcid  nt        nt1        nt2        nt3 ntre  \\\n119   YQ    120  R0730  8110020124   2 2023-06-01 2023-06-20 2023-07-20  NaT   \n228   SA    103  R0725  8110050097   2 2023-07-14 2023-07-18 2023-07-25  NaT   \n229   SA    104  R0795  8110050098   2 2023-08-10 2023-08-24 2023-09-28  NaT   \n245   IJ     15  R0587  8110080015   1 2023-07-13 2023-07-20        NaT  NaT   \n248   LA      3  R0708  8110100003   2 2023-05-24 2023-06-01 2023-07-28  NaT   \n254   LA      9  R0644  8110100009   2 2023-06-02 2023-06-19 2023-07-25  NaT   \n255   LA     10  R0588  8110100010   1 2023-08-02 2023-08-17        NaT  NaT   \n256   LA     11  R0821  8110100011   1 2023-09-11 2023-09-18        NaT  NaT   \n260   MT      4  R0712  8110110004   1 2023-05-31 2023-07-03        NaT  NaT   \n261   MT      5  R0645  8110110005   1 2023-06-01 2023-07-28        NaT  NaT   \n262   MT      6  R0589  8110110006   1 2023-08-02 2023-08-17        NaT  NaT   \n\n     fom  ...  sts  vsva  vsvp  hrd  jrn  wov  stgbv  lgbti  other  vict  \n119    1  ...    1     0     1    0    0    1      1      0      0     7  \n228    0  ...    0     0     1    1    0    1      0      0      0     5  \n229    0  ...    1     0     1    0    0    1      0      0      0     5  \n245    0  ...    1     0     0    0    0    1      0      0      0     3  \n248    1  ...    1     0     1    1    0    1      1      0      0     8  \n254    0  ...    1     0     0    0    0    1      0      0      0     4  \n255    1  ...    1     0     0    0    0    1      0      0      0     3  \n256    0  ...    1     0     0    0    0    1      1      0      0     3  \n260    0  ...    0     0     0    0    0    1      0      0      0     3  \n261    0  ...    0     0     0    0    0    1      0      0      0     1  \n262    1  ...    1     0     0    0    0    1      0      0      0     3  \n\n[11 rows x 22 columns]",
      "text/html": "<div>\n<style scoped>\n    .dataframe tbody tr th:only-of-type {\n        vertical-align: middle;\n    }\n\n    .dataframe tbody tr th {\n        vertical-align: top;\n    }\n\n    .dataframe thead th {\n        text-align: right;\n    }\n</style>\n<table border=\"1\" class=\"dataframe\">\n  <thead>\n    <tr style=\"text-align: right;\">\n      <th></th>\n      <th>ntsp</th>\n      <th>ntspi</th>\n      <th>rid</th>\n      <th>fcid</th>\n      <th>nt</th>\n      <th>nt1</th>\n      <th>nt2</th>\n      <th>nt3</th>\n      <th>ntre</th>\n      <th>fom</th>\n      <th>...</th>\n      <th>sts</th>\n      <th>vsva</th>\n      <th>vsvp</th>\n      <th>hrd</th>\n      <th>jrn</th>\n      <th>wov</th>\n      <th>stgbv</th>\n      <th>lgbti</th>\n      <th>other</th>\n      <th>vict</th>\n    </tr>\n  </thead>\n  <tbody>\n    <tr>\n      <th>119</th>\n      <td>YQ</td>\n      <td>120</td>\n      <td>R0730</td>\n      <td>8110020124</td>\n      <td>2</td>\n      <td>2023-06-01</td>\n      <td>2023-06-20</td>\n      <td>2023-07-20</td>\n      <td>NaT</td>\n      <td>1</td>\n      <td>...</td>\n      <td>1</td>\n      <td>0</td>\n      <td>1</td>\n      <td>0</td>\n      <td>0</td>\n      <td>1</td>\n      <td>1</td>\n      <td>0</td>\n      <td>0</td>\n      <td>7</td>\n    </tr>\n    <tr>\n      <th>228</th>\n      <td>SA</td>\n      <td>103</td>\n      <td>R0725</td>\n      <td>8110050097</td>\n      <td>2</td>\n      <td>2023-07-14</td>\n      <td>2023-07-18</td>\n      <td>2023-07-25</td>\n      <td>NaT</td>\n      <td>0</td>\n      <td>...</td>\n      <td>0</td>\n      <td>0</td>\n      <td>1</td>\n      <td>1</td>\n      <td>0</td>\n      <td>1</td>\n      <td>0</td>\n      <td>0</td>\n      <td>0</td>\n      <td>5</td>\n    </tr>\n    <tr>\n      <th>229</th>\n      <td>SA</td>\n      <td>104</td>\n      <td>R0795</td>\n      <td>8110050098</td>\n      <td>2</td>\n      <td>2023-08-10</td>\n      <td>2023-08-24</td>\n      <td>2023-09-28</td>\n      <td>NaT</td>\n      <td>0</td>\n      <td>...</td>\n      <td>1</td>\n      <td>0</td>\n      <td>1</td>\n      <td>0</td>\n      <td>0</td>\n      <td>1</td>\n      <td>0</td>\n      <td>0</td>\n      <td>0</td>\n      <td>5</td>\n    </tr>\n    <tr>\n      <th>245</th>\n      <td>IJ</td>\n      <td>15</td>\n      <td>R0587</td>\n      <td>8110080015</td>\n      <td>1</td>\n      <td>2023-07-13</td>\n      <td>2023-07-20</td>\n      <td>NaT</td>\n      <td>NaT</td>\n      <td>0</td>\n      <td>...</td>\n      <td>1</td>\n      <td>0</td>\n      <td>0</td>\n      <td>0</td>\n      <td>0</td>\n      <td>1</td>\n      <td>0</td>\n      <td>0</td>\n      <td>0</td>\n      <td>3</td>\n    </tr>\n    <tr>\n      <th>248</th>\n      <td>LA</td>\n      <td>3</td>\n      <td>R0708</td>\n      <td>8110100003</td>\n      <td>2</td>\n      <td>2023-05-24</td>\n      <td>2023-06-01</td>\n      <td>2023-07-28</td>\n      <td>NaT</td>\n      <td>1</td>\n      <td>...</td>\n      <td>1</td>\n      <td>0</td>\n      <td>1</td>\n      <td>1</td>\n      <td>0</td>\n      <td>1</td>\n      <td>1</td>\n      <td>0</td>\n      <td>0</td>\n      <td>8</td>\n    </tr>\n    <tr>\n      <th>254</th>\n      <td>LA</td>\n      <td>9</td>\n      <td>R0644</td>\n      <td>8110100009</td>\n      <td>2</td>\n      <td>2023-06-02</td>\n      <td>2023-06-19</td>\n      <td>2023-07-25</td>\n      <td>NaT</td>\n      <td>0</td>\n      <td>...</td>\n      <td>1</td>\n      <td>0</td>\n      <td>0</td>\n      <td>0</td>\n      <td>0</td>\n      <td>1</td>\n      <td>0</td>\n      <td>0</td>\n      <td>0</td>\n      <td>4</td>\n    </tr>\n    <tr>\n      <th>255</th>\n      <td>LA</td>\n      <td>10</td>\n      <td>R0588</td>\n      <td>8110100010</td>\n      <td>1</td>\n      <td>2023-08-02</td>\n      <td>2023-08-17</td>\n      <td>NaT</td>\n      <td>NaT</td>\n      <td>1</td>\n      <td>...</td>\n      <td>1</td>\n      <td>0</td>\n      <td>0</td>\n      <td>0</td>\n      <td>0</td>\n      <td>1</td>\n      <td>0</td>\n      <td>0</td>\n      <td>0</td>\n      <td>3</td>\n    </tr>\n    <tr>\n      <th>256</th>\n      <td>LA</td>\n      <td>11</td>\n      <td>R0821</td>\n      <td>8110100011</td>\n      <td>1</td>\n      <td>2023-09-11</td>\n      <td>2023-09-18</td>\n      <td>NaT</td>\n      <td>NaT</td>\n      <td>0</td>\n      <td>...</td>\n      <td>1</td>\n      <td>0</td>\n      <td>0</td>\n      <td>0</td>\n      <td>0</td>\n      <td>1</td>\n      <td>1</td>\n      <td>0</td>\n      <td>0</td>\n      <td>3</td>\n    </tr>\n    <tr>\n      <th>260</th>\n      <td>MT</td>\n      <td>4</td>\n      <td>R0712</td>\n      <td>8110110004</td>\n      <td>1</td>\n      <td>2023-05-31</td>\n      <td>2023-07-03</td>\n      <td>NaT</td>\n      <td>NaT</td>\n      <td>0</td>\n      <td>...</td>\n      <td>0</td>\n      <td>0</td>\n      <td>0</td>\n      <td>0</td>\n      <td>0</td>\n      <td>1</td>\n      <td>0</td>\n      <td>0</td>\n      <td>0</td>\n      <td>3</td>\n    </tr>\n    <tr>\n      <th>261</th>\n      <td>MT</td>\n      <td>5</td>\n      <td>R0645</td>\n      <td>8110110005</td>\n      <td>1</td>\n      <td>2023-06-01</td>\n      <td>2023-07-28</td>\n      <td>NaT</td>\n      <td>NaT</td>\n      <td>0</td>\n      <td>...</td>\n      <td>0</td>\n      <td>0</td>\n      <td>0</td>\n      <td>0</td>\n      <td>0</td>\n      <td>1</td>\n      <td>0</td>\n      <td>0</td>\n      <td>0</td>\n      <td>1</td>\n    </tr>\n    <tr>\n      <th>262</th>\n      <td>MT</td>\n      <td>6</td>\n      <td>R0589</td>\n      <td>8110110006</td>\n      <td>1</td>\n      <td>2023-08-02</td>\n      <td>2023-08-17</td>\n      <td>NaT</td>\n      <td>NaT</td>\n      <td>1</td>\n      <td>...</td>\n      <td>1</td>\n      <td>0</td>\n      <td>0</td>\n      <td>0</td>\n      <td>0</td>\n      <td>1</td>\n      <td>0</td>\n      <td>0</td>\n      <td>0</td>\n      <td>3</td>\n    </tr>\n  </tbody>\n</table>\n<p>11 rows × 22 columns</p>\n</div>"
     },
     "execution_count": 32,
     "metadata": {},
     "output_type": "execute_result"
    }
   ],
   "source": [
    "nt23"
   ],
   "metadata": {
    "collapsed": false,
    "ExecuteTime": {
     "end_time": "2023-10-09T03:19:49.371058300Z",
     "start_time": "2023-10-09T03:19:49.336517200Z"
    }
   },
   "id": "b2f39ef1d75600c2"
  },
  {
   "cell_type": "code",
   "execution_count": 34,
   "outputs": [
    {
     "data": {
      "text/plain": "   column_name  count_1  count_0  count_nan\n0          fom        4        7          0\n1          sod        6        5          0\n2          pts        7        4          0\n3          sts        8        3          0\n4         vsva        0       11          0\n5         vsvp        4        7          0\n6          hrd        2        9          0\n7          jrn        0       11          0\n8          wov       11        0          0\n9        stgbv        3        8          0\n10       lgbti        0       11          0\n11       other        0       11          0",
      "text/html": "<div>\n<style scoped>\n    .dataframe tbody tr th:only-of-type {\n        vertical-align: middle;\n    }\n\n    .dataframe tbody tr th {\n        vertical-align: top;\n    }\n\n    .dataframe thead th {\n        text-align: right;\n    }\n</style>\n<table border=\"1\" class=\"dataframe\">\n  <thead>\n    <tr style=\"text-align: right;\">\n      <th></th>\n      <th>column_name</th>\n      <th>count_1</th>\n      <th>count_0</th>\n      <th>count_nan</th>\n    </tr>\n  </thead>\n  <tbody>\n    <tr>\n      <th>0</th>\n      <td>fom</td>\n      <td>4</td>\n      <td>7</td>\n      <td>0</td>\n    </tr>\n    <tr>\n      <th>1</th>\n      <td>sod</td>\n      <td>6</td>\n      <td>5</td>\n      <td>0</td>\n    </tr>\n    <tr>\n      <th>2</th>\n      <td>pts</td>\n      <td>7</td>\n      <td>4</td>\n      <td>0</td>\n    </tr>\n    <tr>\n      <th>3</th>\n      <td>sts</td>\n      <td>8</td>\n      <td>3</td>\n      <td>0</td>\n    </tr>\n    <tr>\n      <th>4</th>\n      <td>vsva</td>\n      <td>0</td>\n      <td>11</td>\n      <td>0</td>\n    </tr>\n    <tr>\n      <th>5</th>\n      <td>vsvp</td>\n      <td>4</td>\n      <td>7</td>\n      <td>0</td>\n    </tr>\n    <tr>\n      <th>6</th>\n      <td>hrd</td>\n      <td>2</td>\n      <td>9</td>\n      <td>0</td>\n    </tr>\n    <tr>\n      <th>7</th>\n      <td>jrn</td>\n      <td>0</td>\n      <td>11</td>\n      <td>0</td>\n    </tr>\n    <tr>\n      <th>8</th>\n      <td>wov</td>\n      <td>11</td>\n      <td>0</td>\n      <td>0</td>\n    </tr>\n    <tr>\n      <th>9</th>\n      <td>stgbv</td>\n      <td>3</td>\n      <td>8</td>\n      <td>0</td>\n    </tr>\n    <tr>\n      <th>10</th>\n      <td>lgbti</td>\n      <td>0</td>\n      <td>11</td>\n      <td>0</td>\n    </tr>\n    <tr>\n      <th>11</th>\n      <td>other</td>\n      <td>0</td>\n      <td>11</td>\n      <td>0</td>\n    </tr>\n  </tbody>\n</table>\n</div>"
     },
     "execution_count": 34,
     "metadata": {},
     "output_type": "execute_result"
    }
   ],
   "source": [
    "nt_victimhood = pd.DataFrame({\n",
    "    'column_name': victimhood,\n",
    "    'count_1': (nt23[victimhood] == 1).sum(),\n",
    "    'count_0': (nt23[victimhood] == 0).sum(),\n",
    "    'count_nan': (nt23[victimhood].isna().sum())\n",
    "}).reset_index(drop=True)\n",
    "\n",
    "nt_victimhood"
   ],
   "metadata": {
    "collapsed": false,
    "ExecuteTime": {
     "end_time": "2023-10-09T03:22:09.138504200Z",
     "start_time": "2023-10-09T03:22:09.093400300Z"
    }
   },
   "id": "95d6ac9fde19b942"
  },
  {
   "cell_type": "code",
   "execution_count": 35,
   "outputs": [],
   "source": [
    "nt_victimhood.to_clipboard()"
   ],
   "metadata": {
    "collapsed": false,
    "ExecuteTime": {
     "end_time": "2023-10-09T03:22:27.014727100Z",
     "start_time": "2023-10-09T03:22:26.951626200Z"
    }
   },
   "id": "eca2917b3c7c1c09"
  }
 ],
 "metadata": {
  "kernelspec": {
   "display_name": "Python 3",
   "language": "python",
   "name": "python3"
  },
  "language_info": {
   "codemirror_mode": {
    "name": "ipython",
    "version": 2
   },
   "file_extension": ".py",
   "mimetype": "text/x-python",
   "name": "python",
   "nbconvert_exporter": "python",
   "pygments_lexer": "ipython2",
   "version": "2.7.6"
  }
 },
 "nbformat": 4,
 "nbformat_minor": 5
}
