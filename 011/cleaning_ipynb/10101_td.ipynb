{
 "cells": [
  {
   "cell_type": "code",
   "execution_count": 1,
   "id": "bb97e206cc4d959c",
   "metadata": {
    "ExecuteTime": {
     "end_time": "2023-10-12T21:09:45.520295500Z",
     "start_time": "2023-10-12T21:09:44.600990100Z"
    }
   },
   "outputs": [],
   "source": [
    "import numpy as np\n",
    "import pandas as pd\n",
    "import warnings\n",
    "from my_static_data import *"
   ]
  },
  {
   "cell_type": "code",
   "execution_count": 2,
   "id": "979ea336f46591d6",
   "metadata": {
    "ExecuteTime": {
     "end_time": "2023-10-12T21:09:47.786250100Z",
     "start_time": "2023-10-12T21:09:47.729042100Z"
    }
   },
   "outputs": [],
   "source": [
    "pd.set_option('display.float_format', '{:.1f}'.format)\n",
    "# pd.reset_option('display.float_format')\n",
    "# Display maximum column width:\n",
    "pd.set_option('display.max_colwidth', None)\n",
    "# Suppress openpyxl data validation warning\n",
    "warnings.filterwarnings(\"ignore\", category=UserWarning, module=\"openpyxl\")\n",
    "threshold_date = pd.Timestamp('2023-06-30')"
   ]
  },
  {
   "cell_type": "code",
   "execution_count": 3,
   "id": "90e89bebf69ac2dc",
   "metadata": {
    "ExecuteTime": {
     "end_time": "2023-10-12T21:09:50.086738800Z",
     "start_time": "2023-10-12T21:09:50.047310Z"
    }
   },
   "outputs": [],
   "source": [
    "scr = pd.read_csv('0000_ps_sc_092310.csv')\n",
    "scrq = scr.drop_duplicates(subset='rid', keep='last')\n",
    "td = pd.read_csv('0111_ps_td_092310.csv')"
   ]
  },
  {
   "cell_type": "code",
   "execution_count": 4,
   "id": "initial_id",
   "metadata": {
    "ExecuteTime": {
     "end_time": "2023-10-12T21:09:52.385499600Z",
     "start_time": "2023-10-12T21:09:52.273666200Z"
    }
   },
   "outputs": [
    {
     "data": {
      "text/plain": "   tdsp  tdspi    rid        fcid  tdcc       cslt       csnt  ld  iu  cw  \\\n10   YQ     11  R0102  8110050015    11 2022-11-01 2022-11-01   1   1   1   \n16   YQ     17  R0336  8110050059    11 2022-12-02 2022-12-02   1   1   1   \n20   YQ     21  R0112  8110050019    11 2022-10-31 2022-10-31   0   1   1   \n23   YQ     24  R0452  8110050080    11 2023-08-23 2023-08-23   1   1   1   \n24   YQ     25  R0534  8110050087    11 2023-08-24 2023-08-24   1   1   1   \n25   YQ     26  R0378  8110050066    11 2023-08-25 2023-08-25   1   0   1   \n33   SA      8  R0077  8110060007   101 2023-08-01 2023-08-08   1   1   1   \n35   SA     10  R0066  8110060006    11 2023-05-03 2023-05-03   0   1   1   \n42   SA     17  R0255  8110070004    11 2022-12-19 2022-12-19   0   1   1   \n43   SA     18  R0089  8110060012    11 2022-12-01 2022-12-01   1   1   1   \n46   IJ      1  R0402  8110020119    11 2023-07-24 2023-07-24   0   1   1   \n47   IJ      2  R0314  8110020091    11 2023-07-31 2023-07-31   0   1   1   \n48   IJ      3  R0359  8110050048   101 2023-09-07 2023-09-12   0   1   1   \n49   IJ      4  R0215  8110020080   101 2023-09-07 2023-09-11   0   1   1   \n50   LA      1  R0300  8110020093   101 2023-08-04 2023-07-26   1   1   1   \n51   LA      2  R0083  8110060010    11 2023-09-07 2023-09-07   0   0   1   \n52   LA      3  R0294  8110020113    11 2023-09-11 2023-09-11   0   0   1   \n53   LA      4  R0521  8110020114    11 2023-09-26 2023-09-26   0   0   1   \n54   MT      1  R0501  8110020120   101 2023-08-03 2023-07-28   1   1   1   \n55   MT      2  R0333  8110020107     1 2023-08-03        NaT   1   1   1   \n56   MT      3  R0511  8110020112   101 2023-08-21 2023-08-28   0   1   1   \n57   MT      4  R0406  8110050045   101 2023-08-23 2023-08-29   1   1   1   \n58   MT      5  R0391  8110050067   101 2023-08-29 2023-09-05   1   1   1   \n59   MT      6  R0497  8110020115    11 2023-09-12 2023-09-12   1   1   1   \n60   MT      7  R0367  8110020110    11 2023-09-15 2023-09-15   0   1   1   \n\n    com  adv  tdis        is1        is2        is3  tdt  \n10    1    1   111 2023-07-28 2023-08-10 2023-08-17    3  \n16    1    1   110 2023-08-02 2023-08-09        NaT    2  \n20    1    1   110 2023-08-16 2023-08-23        NaT    2  \n23    0    0     0        NaT        NaT        NaT    0  \n24    1    0     0        NaT        NaT        NaT    0  \n25    0    0     0        NaT        NaT        NaT    0  \n33    1    1   110 2023-08-21 2023-08-28        NaT    2  \n35    1    1   111 2023-08-22 2023-08-29 2023-09-07    3  \n42    0    0   110 2023-07-28 2023-08-04        NaT    2  \n43    1    1   110 2023-08-03 2023-08-17        NaT    2  \n46    1    1   111 2023-07-08 2023-08-18 2023-09-15    3  \n47    1    0   110 2023-09-07 2023-09-15        NaT    2  \n48    1    0     0        NaT        NaT        NaT    0  \n49    1    0     0        NaT        NaT        NaT    0  \n50    0    1   111 2023-08-11 2023-08-17 2023-08-25    3  \n51    0    1     0        NaT        NaT        NaT    0  \n52    0    0     0        NaT        NaT        NaT    0  \n53    0    0     0        NaT        NaT        NaT    0  \n54    1    1   110 2023-08-09 2025-08-25        NaT    2  \n55    0    0     0        NaT        NaT        NaT    0  \n56    0    0     0        NaT        NaT        NaT    0  \n57    1    1     0        NaT        NaT        NaT    0  \n58    1    1     0        NaT        NaT        NaT    0  \n59    0    0     0        NaT        NaT        NaT    0  \n60    1    0     0        NaT        NaT        NaT    0  ",
      "text/html": "<div>\n<style scoped>\n    .dataframe tbody tr th:only-of-type {\n        vertical-align: middle;\n    }\n\n    .dataframe tbody tr th {\n        vertical-align: top;\n    }\n\n    .dataframe thead th {\n        text-align: right;\n    }\n</style>\n<table border=\"1\" class=\"dataframe\">\n  <thead>\n    <tr style=\"text-align: right;\">\n      <th></th>\n      <th>tdsp</th>\n      <th>tdspi</th>\n      <th>rid</th>\n      <th>fcid</th>\n      <th>tdcc</th>\n      <th>cslt</th>\n      <th>csnt</th>\n      <th>ld</th>\n      <th>iu</th>\n      <th>cw</th>\n      <th>com</th>\n      <th>adv</th>\n      <th>tdis</th>\n      <th>is1</th>\n      <th>is2</th>\n      <th>is3</th>\n      <th>tdt</th>\n    </tr>\n  </thead>\n  <tbody>\n    <tr>\n      <th>10</th>\n      <td>YQ</td>\n      <td>11</td>\n      <td>R0102</td>\n      <td>8110050015</td>\n      <td>11</td>\n      <td>2022-11-01</td>\n      <td>2022-11-01</td>\n      <td>1</td>\n      <td>1</td>\n      <td>1</td>\n      <td>1</td>\n      <td>1</td>\n      <td>111</td>\n      <td>2023-07-28</td>\n      <td>2023-08-10</td>\n      <td>2023-08-17</td>\n      <td>3</td>\n    </tr>\n    <tr>\n      <th>16</th>\n      <td>YQ</td>\n      <td>17</td>\n      <td>R0336</td>\n      <td>8110050059</td>\n      <td>11</td>\n      <td>2022-12-02</td>\n      <td>2022-12-02</td>\n      <td>1</td>\n      <td>1</td>\n      <td>1</td>\n      <td>1</td>\n      <td>1</td>\n      <td>110</td>\n      <td>2023-08-02</td>\n      <td>2023-08-09</td>\n      <td>NaT</td>\n      <td>2</td>\n    </tr>\n    <tr>\n      <th>20</th>\n      <td>YQ</td>\n      <td>21</td>\n      <td>R0112</td>\n      <td>8110050019</td>\n      <td>11</td>\n      <td>2022-10-31</td>\n      <td>2022-10-31</td>\n      <td>0</td>\n      <td>1</td>\n      <td>1</td>\n      <td>1</td>\n      <td>1</td>\n      <td>110</td>\n      <td>2023-08-16</td>\n      <td>2023-08-23</td>\n      <td>NaT</td>\n      <td>2</td>\n    </tr>\n    <tr>\n      <th>23</th>\n      <td>YQ</td>\n      <td>24</td>\n      <td>R0452</td>\n      <td>8110050080</td>\n      <td>11</td>\n      <td>2023-08-23</td>\n      <td>2023-08-23</td>\n      <td>1</td>\n      <td>1</td>\n      <td>1</td>\n      <td>0</td>\n      <td>0</td>\n      <td>0</td>\n      <td>NaT</td>\n      <td>NaT</td>\n      <td>NaT</td>\n      <td>0</td>\n    </tr>\n    <tr>\n      <th>24</th>\n      <td>YQ</td>\n      <td>25</td>\n      <td>R0534</td>\n      <td>8110050087</td>\n      <td>11</td>\n      <td>2023-08-24</td>\n      <td>2023-08-24</td>\n      <td>1</td>\n      <td>1</td>\n      <td>1</td>\n      <td>1</td>\n      <td>0</td>\n      <td>0</td>\n      <td>NaT</td>\n      <td>NaT</td>\n      <td>NaT</td>\n      <td>0</td>\n    </tr>\n    <tr>\n      <th>25</th>\n      <td>YQ</td>\n      <td>26</td>\n      <td>R0378</td>\n      <td>8110050066</td>\n      <td>11</td>\n      <td>2023-08-25</td>\n      <td>2023-08-25</td>\n      <td>1</td>\n      <td>0</td>\n      <td>1</td>\n      <td>0</td>\n      <td>0</td>\n      <td>0</td>\n      <td>NaT</td>\n      <td>NaT</td>\n      <td>NaT</td>\n      <td>0</td>\n    </tr>\n    <tr>\n      <th>33</th>\n      <td>SA</td>\n      <td>8</td>\n      <td>R0077</td>\n      <td>8110060007</td>\n      <td>101</td>\n      <td>2023-08-01</td>\n      <td>2023-08-08</td>\n      <td>1</td>\n      <td>1</td>\n      <td>1</td>\n      <td>1</td>\n      <td>1</td>\n      <td>110</td>\n      <td>2023-08-21</td>\n      <td>2023-08-28</td>\n      <td>NaT</td>\n      <td>2</td>\n    </tr>\n    <tr>\n      <th>35</th>\n      <td>SA</td>\n      <td>10</td>\n      <td>R0066</td>\n      <td>8110060006</td>\n      <td>11</td>\n      <td>2023-05-03</td>\n      <td>2023-05-03</td>\n      <td>0</td>\n      <td>1</td>\n      <td>1</td>\n      <td>1</td>\n      <td>1</td>\n      <td>111</td>\n      <td>2023-08-22</td>\n      <td>2023-08-29</td>\n      <td>2023-09-07</td>\n      <td>3</td>\n    </tr>\n    <tr>\n      <th>42</th>\n      <td>SA</td>\n      <td>17</td>\n      <td>R0255</td>\n      <td>8110070004</td>\n      <td>11</td>\n      <td>2022-12-19</td>\n      <td>2022-12-19</td>\n      <td>0</td>\n      <td>1</td>\n      <td>1</td>\n      <td>0</td>\n      <td>0</td>\n      <td>110</td>\n      <td>2023-07-28</td>\n      <td>2023-08-04</td>\n      <td>NaT</td>\n      <td>2</td>\n    </tr>\n    <tr>\n      <th>43</th>\n      <td>SA</td>\n      <td>18</td>\n      <td>R0089</td>\n      <td>8110060012</td>\n      <td>11</td>\n      <td>2022-12-01</td>\n      <td>2022-12-01</td>\n      <td>1</td>\n      <td>1</td>\n      <td>1</td>\n      <td>1</td>\n      <td>1</td>\n      <td>110</td>\n      <td>2023-08-03</td>\n      <td>2023-08-17</td>\n      <td>NaT</td>\n      <td>2</td>\n    </tr>\n    <tr>\n      <th>46</th>\n      <td>IJ</td>\n      <td>1</td>\n      <td>R0402</td>\n      <td>8110020119</td>\n      <td>11</td>\n      <td>2023-07-24</td>\n      <td>2023-07-24</td>\n      <td>0</td>\n      <td>1</td>\n      <td>1</td>\n      <td>1</td>\n      <td>1</td>\n      <td>111</td>\n      <td>2023-07-08</td>\n      <td>2023-08-18</td>\n      <td>2023-09-15</td>\n      <td>3</td>\n    </tr>\n    <tr>\n      <th>47</th>\n      <td>IJ</td>\n      <td>2</td>\n      <td>R0314</td>\n      <td>8110020091</td>\n      <td>11</td>\n      <td>2023-07-31</td>\n      <td>2023-07-31</td>\n      <td>0</td>\n      <td>1</td>\n      <td>1</td>\n      <td>1</td>\n      <td>0</td>\n      <td>110</td>\n      <td>2023-09-07</td>\n      <td>2023-09-15</td>\n      <td>NaT</td>\n      <td>2</td>\n    </tr>\n    <tr>\n      <th>48</th>\n      <td>IJ</td>\n      <td>3</td>\n      <td>R0359</td>\n      <td>8110050048</td>\n      <td>101</td>\n      <td>2023-09-07</td>\n      <td>2023-09-12</td>\n      <td>0</td>\n      <td>1</td>\n      <td>1</td>\n      <td>1</td>\n      <td>0</td>\n      <td>0</td>\n      <td>NaT</td>\n      <td>NaT</td>\n      <td>NaT</td>\n      <td>0</td>\n    </tr>\n    <tr>\n      <th>49</th>\n      <td>IJ</td>\n      <td>4</td>\n      <td>R0215</td>\n      <td>8110020080</td>\n      <td>101</td>\n      <td>2023-09-07</td>\n      <td>2023-09-11</td>\n      <td>0</td>\n      <td>1</td>\n      <td>1</td>\n      <td>1</td>\n      <td>0</td>\n      <td>0</td>\n      <td>NaT</td>\n      <td>NaT</td>\n      <td>NaT</td>\n      <td>0</td>\n    </tr>\n    <tr>\n      <th>50</th>\n      <td>LA</td>\n      <td>1</td>\n      <td>R0300</td>\n      <td>8110020093</td>\n      <td>101</td>\n      <td>2023-08-04</td>\n      <td>2023-07-26</td>\n      <td>1</td>\n      <td>1</td>\n      <td>1</td>\n      <td>0</td>\n      <td>1</td>\n      <td>111</td>\n      <td>2023-08-11</td>\n      <td>2023-08-17</td>\n      <td>2023-08-25</td>\n      <td>3</td>\n    </tr>\n    <tr>\n      <th>51</th>\n      <td>LA</td>\n      <td>2</td>\n      <td>R0083</td>\n      <td>8110060010</td>\n      <td>11</td>\n      <td>2023-09-07</td>\n      <td>2023-09-07</td>\n      <td>0</td>\n      <td>0</td>\n      <td>1</td>\n      <td>0</td>\n      <td>1</td>\n      <td>0</td>\n      <td>NaT</td>\n      <td>NaT</td>\n      <td>NaT</td>\n      <td>0</td>\n    </tr>\n    <tr>\n      <th>52</th>\n      <td>LA</td>\n      <td>3</td>\n      <td>R0294</td>\n      <td>8110020113</td>\n      <td>11</td>\n      <td>2023-09-11</td>\n      <td>2023-09-11</td>\n      <td>0</td>\n      <td>0</td>\n      <td>1</td>\n      <td>0</td>\n      <td>0</td>\n      <td>0</td>\n      <td>NaT</td>\n      <td>NaT</td>\n      <td>NaT</td>\n      <td>0</td>\n    </tr>\n    <tr>\n      <th>53</th>\n      <td>LA</td>\n      <td>4</td>\n      <td>R0521</td>\n      <td>8110020114</td>\n      <td>11</td>\n      <td>2023-09-26</td>\n      <td>2023-09-26</td>\n      <td>0</td>\n      <td>0</td>\n      <td>1</td>\n      <td>0</td>\n      <td>0</td>\n      <td>0</td>\n      <td>NaT</td>\n      <td>NaT</td>\n      <td>NaT</td>\n      <td>0</td>\n    </tr>\n    <tr>\n      <th>54</th>\n      <td>MT</td>\n      <td>1</td>\n      <td>R0501</td>\n      <td>8110020120</td>\n      <td>101</td>\n      <td>2023-08-03</td>\n      <td>2023-07-28</td>\n      <td>1</td>\n      <td>1</td>\n      <td>1</td>\n      <td>1</td>\n      <td>1</td>\n      <td>110</td>\n      <td>2023-08-09</td>\n      <td>2025-08-25</td>\n      <td>NaT</td>\n      <td>2</td>\n    </tr>\n    <tr>\n      <th>55</th>\n      <td>MT</td>\n      <td>2</td>\n      <td>R0333</td>\n      <td>8110020107</td>\n      <td>1</td>\n      <td>2023-08-03</td>\n      <td>NaT</td>\n      <td>1</td>\n      <td>1</td>\n      <td>1</td>\n      <td>0</td>\n      <td>0</td>\n      <td>0</td>\n      <td>NaT</td>\n      <td>NaT</td>\n      <td>NaT</td>\n      <td>0</td>\n    </tr>\n    <tr>\n      <th>56</th>\n      <td>MT</td>\n      <td>3</td>\n      <td>R0511</td>\n      <td>8110020112</td>\n      <td>101</td>\n      <td>2023-08-21</td>\n      <td>2023-08-28</td>\n      <td>0</td>\n      <td>1</td>\n      <td>1</td>\n      <td>0</td>\n      <td>0</td>\n      <td>0</td>\n      <td>NaT</td>\n      <td>NaT</td>\n      <td>NaT</td>\n      <td>0</td>\n    </tr>\n    <tr>\n      <th>57</th>\n      <td>MT</td>\n      <td>4</td>\n      <td>R0406</td>\n      <td>8110050045</td>\n      <td>101</td>\n      <td>2023-08-23</td>\n      <td>2023-08-29</td>\n      <td>1</td>\n      <td>1</td>\n      <td>1</td>\n      <td>1</td>\n      <td>1</td>\n      <td>0</td>\n      <td>NaT</td>\n      <td>NaT</td>\n      <td>NaT</td>\n      <td>0</td>\n    </tr>\n    <tr>\n      <th>58</th>\n      <td>MT</td>\n      <td>5</td>\n      <td>R0391</td>\n      <td>8110050067</td>\n      <td>101</td>\n      <td>2023-08-29</td>\n      <td>2023-09-05</td>\n      <td>1</td>\n      <td>1</td>\n      <td>1</td>\n      <td>1</td>\n      <td>1</td>\n      <td>0</td>\n      <td>NaT</td>\n      <td>NaT</td>\n      <td>NaT</td>\n      <td>0</td>\n    </tr>\n    <tr>\n      <th>59</th>\n      <td>MT</td>\n      <td>6</td>\n      <td>R0497</td>\n      <td>8110020115</td>\n      <td>11</td>\n      <td>2023-09-12</td>\n      <td>2023-09-12</td>\n      <td>1</td>\n      <td>1</td>\n      <td>1</td>\n      <td>0</td>\n      <td>0</td>\n      <td>0</td>\n      <td>NaT</td>\n      <td>NaT</td>\n      <td>NaT</td>\n      <td>0</td>\n    </tr>\n    <tr>\n      <th>60</th>\n      <td>MT</td>\n      <td>7</td>\n      <td>R0367</td>\n      <td>8110020110</td>\n      <td>11</td>\n      <td>2023-09-15</td>\n      <td>2023-09-15</td>\n      <td>0</td>\n      <td>1</td>\n      <td>1</td>\n      <td>1</td>\n      <td>0</td>\n      <td>0</td>\n      <td>NaT</td>\n      <td>NaT</td>\n      <td>NaT</td>\n      <td>0</td>\n    </tr>\n  </tbody>\n</table>\n</div>"
     },
     "execution_count": 4,
     "metadata": {},
     "output_type": "execute_result"
    }
   ],
   "source": [
    "td[td_date_columns] = td[td_date_columns].apply(pd.to_datetime)\n",
    "td[td_int_columns] = td[td_int_columns].astype('Int64')\n",
    "tdq323 = td[(td[td_date_columns] > threshold_date).any(axis=1)]\n",
    "tdq323"
   ]
  },
  {
   "cell_type": "code",
   "execution_count": null,
   "id": "80d7c7d2e43817b0",
   "metadata": {},
   "outputs": [],
   "source": [
    "td[td['fcid'] == 8110020035]"
   ]
  },
  {
   "cell_type": "code",
   "execution_count": null,
   "id": "7ac0871b6a7014e2",
   "metadata": {},
   "outputs": [],
   "source": [
    "td"
   ]
  },
  {
   "cell_type": "code",
   "execution_count": null,
   "id": "96659931bca2a08b",
   "metadata": {},
   "outputs": [],
   "source": [
    "cw = pd.read_csv('1000_ps_cw_092310.csv')\n",
    "cw"
   ]
  }
 ],
 "metadata": {
  "kernelspec": {
   "display_name": "Python 3",
   "language": "python",
   "name": "python3"
  },
  "language_info": {
   "codemirror_mode": {
    "name": "ipython",
    "version": 2
   },
   "file_extension": ".py",
   "mimetype": "text/x-python",
   "name": "python",
   "nbconvert_exporter": "python",
   "pygments_lexer": "ipython2",
   "version": "2.7.6"
  }
 },
 "nbformat": 4,
 "nbformat_minor": 5
}
