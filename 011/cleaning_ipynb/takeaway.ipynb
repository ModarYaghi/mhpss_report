{
 "cells": [
  {
   "cell_type": "code",
   "execution_count": 1,
   "id": "initial_id",
   "metadata": {
    "ExecuteTime": {
     "end_time": "2023-10-13T13:24:45.567692300Z",
     "start_time": "2023-10-13T13:24:44.940154700Z"
    }
   },
   "outputs": [],
   "source": [
    "import pandas as pd"
   ]
  },
  {
   "cell_type": "code",
   "execution_count": 2,
   "id": "d663f8586051c5db",
   "metadata": {
    "ExecuteTime": {
     "end_time": "2023-10-13T13:24:50.695362500Z",
     "start_time": "2023-10-13T13:24:50.625426800Z"
    }
   },
   "outputs": [],
   "source": [
    "screening = pd.read_csv(r'../011/0000_ps_sc_092310.csv')\n",
    "intake = pd.read_csv(r'../011/0001_ps_nt_092310.csv')"
   ]
  },
  {
   "cell_type": "code",
   "execution_count": 5,
   "outputs": [
    {
     "data": {
      "text/plain": "   awsp  awspi    rid  fcid  sex  age awloc  awindx         aws\n0    IJ      1  R0942   NaN    2   35    SF       2  2023-09-28\n1    IJ      2  R0943   NaN    1   36    SF       2  2023-09-28\n2    IJ      3  R0944   NaN    1   55    SF       2  2023-09-28\n3    IJ      4  R0945   NaN    2   54    SF       2  2023-09-28\n4    IJ      5  R0946   NaN    1   52    SF       2  2023-09-28\n5    IJ      6  R0947   NaN    2   36    SF       2  2023-09-28\n6    IJ      7  R0948   NaN    2   37    SF       2  2023-09-28\n7    IJ      8  R0958   NaN    2   37    SF       2  2023-09-28\n8    IJ      9  R0949   NaN    1   52    SF       2  2023-09-28\n9    IJ     10  R0950   NaN    2   28    SF       2  2023-09-28\n10   IJ     11  R0951   NaN    1   41    SF       2  2023-09-28\n11   IJ     12  R0952   NaN    2   49    SF       2  2023-09-28\n12   IJ     13  R0953   NaN    1   41    SF       2  2023-09-28\n13   IJ     14  R0954   NaN    2   43    SF       2  2023-09-28\n14   IJ     15  R0955   NaN    2   45    SF       2  2023-09-28\n15   IJ     16  R0956   NaN    2   45    SF       2  2023-09-28\n16   IJ     17  R0957   NaN    1   45    SF       2  2023-09-28\n17   MT      1  R0814   NaN    1   33   GTZ       1  2023-07-14\n18   MT      2  R0815   NaN    2   31   GTZ       1  2023-07-14\n19   MT      3  R0816   NaN    2   31   GTZ       1  2023-07-14\n20   MT      4  R0817   NaN    2   46   GTZ       1  2023-07-14\n21   MT      5  R0818   NaN    2   38   GTZ       1  2023-07-14",
      "text/html": "<div>\n<style scoped>\n    .dataframe tbody tr th:only-of-type {\n        vertical-align: middle;\n    }\n\n    .dataframe tbody tr th {\n        vertical-align: top;\n    }\n\n    .dataframe thead th {\n        text-align: right;\n    }\n</style>\n<table border=\"1\" class=\"dataframe\">\n  <thead>\n    <tr style=\"text-align: right;\">\n      <th></th>\n      <th>awsp</th>\n      <th>awspi</th>\n      <th>rid</th>\n      <th>fcid</th>\n      <th>sex</th>\n      <th>age</th>\n      <th>awloc</th>\n      <th>awindx</th>\n      <th>aws</th>\n    </tr>\n  </thead>\n  <tbody>\n    <tr>\n      <th>0</th>\n      <td>IJ</td>\n      <td>1</td>\n      <td>R0942</td>\n      <td>NaN</td>\n      <td>2</td>\n      <td>35</td>\n      <td>SF</td>\n      <td>2</td>\n      <td>2023-09-28</td>\n    </tr>\n    <tr>\n      <th>1</th>\n      <td>IJ</td>\n      <td>2</td>\n      <td>R0943</td>\n      <td>NaN</td>\n      <td>1</td>\n      <td>36</td>\n      <td>SF</td>\n      <td>2</td>\n      <td>2023-09-28</td>\n    </tr>\n    <tr>\n      <th>2</th>\n      <td>IJ</td>\n      <td>3</td>\n      <td>R0944</td>\n      <td>NaN</td>\n      <td>1</td>\n      <td>55</td>\n      <td>SF</td>\n      <td>2</td>\n      <td>2023-09-28</td>\n    </tr>\n    <tr>\n      <th>3</th>\n      <td>IJ</td>\n      <td>4</td>\n      <td>R0945</td>\n      <td>NaN</td>\n      <td>2</td>\n      <td>54</td>\n      <td>SF</td>\n      <td>2</td>\n      <td>2023-09-28</td>\n    </tr>\n    <tr>\n      <th>4</th>\n      <td>IJ</td>\n      <td>5</td>\n      <td>R0946</td>\n      <td>NaN</td>\n      <td>1</td>\n      <td>52</td>\n      <td>SF</td>\n      <td>2</td>\n      <td>2023-09-28</td>\n    </tr>\n    <tr>\n      <th>5</th>\n      <td>IJ</td>\n      <td>6</td>\n      <td>R0947</td>\n      <td>NaN</td>\n      <td>2</td>\n      <td>36</td>\n      <td>SF</td>\n      <td>2</td>\n      <td>2023-09-28</td>\n    </tr>\n    <tr>\n      <th>6</th>\n      <td>IJ</td>\n      <td>7</td>\n      <td>R0948</td>\n      <td>NaN</td>\n      <td>2</td>\n      <td>37</td>\n      <td>SF</td>\n      <td>2</td>\n      <td>2023-09-28</td>\n    </tr>\n    <tr>\n      <th>7</th>\n      <td>IJ</td>\n      <td>8</td>\n      <td>R0958</td>\n      <td>NaN</td>\n      <td>2</td>\n      <td>37</td>\n      <td>SF</td>\n      <td>2</td>\n      <td>2023-09-28</td>\n    </tr>\n    <tr>\n      <th>8</th>\n      <td>IJ</td>\n      <td>9</td>\n      <td>R0949</td>\n      <td>NaN</td>\n      <td>1</td>\n      <td>52</td>\n      <td>SF</td>\n      <td>2</td>\n      <td>2023-09-28</td>\n    </tr>\n    <tr>\n      <th>9</th>\n      <td>IJ</td>\n      <td>10</td>\n      <td>R0950</td>\n      <td>NaN</td>\n      <td>2</td>\n      <td>28</td>\n      <td>SF</td>\n      <td>2</td>\n      <td>2023-09-28</td>\n    </tr>\n    <tr>\n      <th>10</th>\n      <td>IJ</td>\n      <td>11</td>\n      <td>R0951</td>\n      <td>NaN</td>\n      <td>1</td>\n      <td>41</td>\n      <td>SF</td>\n      <td>2</td>\n      <td>2023-09-28</td>\n    </tr>\n    <tr>\n      <th>11</th>\n      <td>IJ</td>\n      <td>12</td>\n      <td>R0952</td>\n      <td>NaN</td>\n      <td>2</td>\n      <td>49</td>\n      <td>SF</td>\n      <td>2</td>\n      <td>2023-09-28</td>\n    </tr>\n    <tr>\n      <th>12</th>\n      <td>IJ</td>\n      <td>13</td>\n      <td>R0953</td>\n      <td>NaN</td>\n      <td>1</td>\n      <td>41</td>\n      <td>SF</td>\n      <td>2</td>\n      <td>2023-09-28</td>\n    </tr>\n    <tr>\n      <th>13</th>\n      <td>IJ</td>\n      <td>14</td>\n      <td>R0954</td>\n      <td>NaN</td>\n      <td>2</td>\n      <td>43</td>\n      <td>SF</td>\n      <td>2</td>\n      <td>2023-09-28</td>\n    </tr>\n    <tr>\n      <th>14</th>\n      <td>IJ</td>\n      <td>15</td>\n      <td>R0955</td>\n      <td>NaN</td>\n      <td>2</td>\n      <td>45</td>\n      <td>SF</td>\n      <td>2</td>\n      <td>2023-09-28</td>\n    </tr>\n    <tr>\n      <th>15</th>\n      <td>IJ</td>\n      <td>16</td>\n      <td>R0956</td>\n      <td>NaN</td>\n      <td>2</td>\n      <td>45</td>\n      <td>SF</td>\n      <td>2</td>\n      <td>2023-09-28</td>\n    </tr>\n    <tr>\n      <th>16</th>\n      <td>IJ</td>\n      <td>17</td>\n      <td>R0957</td>\n      <td>NaN</td>\n      <td>1</td>\n      <td>45</td>\n      <td>SF</td>\n      <td>2</td>\n      <td>2023-09-28</td>\n    </tr>\n    <tr>\n      <th>17</th>\n      <td>MT</td>\n      <td>1</td>\n      <td>R0814</td>\n      <td>NaN</td>\n      <td>1</td>\n      <td>33</td>\n      <td>GTZ</td>\n      <td>1</td>\n      <td>2023-07-14</td>\n    </tr>\n    <tr>\n      <th>18</th>\n      <td>MT</td>\n      <td>2</td>\n      <td>R0815</td>\n      <td>NaN</td>\n      <td>2</td>\n      <td>31</td>\n      <td>GTZ</td>\n      <td>1</td>\n      <td>2023-07-14</td>\n    </tr>\n    <tr>\n      <th>19</th>\n      <td>MT</td>\n      <td>3</td>\n      <td>R0816</td>\n      <td>NaN</td>\n      <td>2</td>\n      <td>31</td>\n      <td>GTZ</td>\n      <td>1</td>\n      <td>2023-07-14</td>\n    </tr>\n    <tr>\n      <th>20</th>\n      <td>MT</td>\n      <td>4</td>\n      <td>R0817</td>\n      <td>NaN</td>\n      <td>2</td>\n      <td>46</td>\n      <td>GTZ</td>\n      <td>1</td>\n      <td>2023-07-14</td>\n    </tr>\n    <tr>\n      <th>21</th>\n      <td>MT</td>\n      <td>5</td>\n      <td>R0818</td>\n      <td>NaN</td>\n      <td>2</td>\n      <td>38</td>\n      <td>GTZ</td>\n      <td>1</td>\n      <td>2023-07-14</td>\n    </tr>\n  </tbody>\n</table>\n</div>"
     },
     "execution_count": 5,
     "metadata": {},
     "output_type": "execute_result"
    }
   ],
   "source": [
    "aw = pd.read_csv(r'../011/1001_ps_aw_092310.csv')\n",
    "aw"
   ],
   "metadata": {
    "collapsed": false,
    "ExecuteTime": {
     "end_time": "2023-10-13T13:28:11.042981300Z",
     "start_time": "2023-10-13T13:28:11.025208500Z"
    }
   },
   "id": "c9bd6d99ca9e3ac4"
  },
  {
   "cell_type": "code",
   "execution_count": 4,
   "outputs": [
    {
     "data": {
      "text/plain": "awloc\nSF     17\nGTZ     5\nName: count, dtype: int64"
     },
     "execution_count": 4,
     "metadata": {},
     "output_type": "execute_result"
    }
   ],
   "source": [
    "aw['awloc'].value_counts()"
   ],
   "metadata": {
    "collapsed": false,
    "ExecuteTime": {
     "end_time": "2023-10-13T13:26:26.325306600Z",
     "start_time": "2023-10-13T13:26:26.295061Z"
    }
   },
   "id": "9ceb423be635dfa6"
  },
  {
   "cell_type": "code",
   "execution_count": 29,
   "outputs": [],
   "source": [
    "# screening.loc[screening['rid'] == 'R0486', 'sex'] = 'Male'\n"
   ],
   "metadata": {
    "collapsed": false,
    "ExecuteTime": {
     "end_time": "2023-10-12T14:52:21.998642200Z",
     "start_time": "2023-10-12T14:52:21.995123900Z"
    }
   },
   "id": "8c74967508063bd8"
  },
  {
   "cell_type": "code",
   "execution_count": 20,
   "outputs": [],
   "source": [
    "# screening.to_csv(r'../001/0000_ps_sc_092300', index=False)\n",
    "# screening.to_csv(r'../010/0000_ps_sc_092301')\n",
    "# screening.to_csv(r'../010/0000_ps_sc_092302')\n"
   ],
   "metadata": {
    "collapsed": false,
    "ExecuteTime": {
     "end_time": "2023-10-12T12:19:21.632658700Z",
     "start_time": "2023-10-12T12:19:21.607927200Z"
    }
   },
   "id": "4b51ba026ad0cccc"
  },
  {
   "cell_type": "code",
   "execution_count": 26,
   "outputs": [
    {
     "data": {
      "text/plain": "     Unnamed: 0 ntsp  ntspi    rid        fcid  nt         nt1         nt2  \\\n0             0   YQ      1  R0130  8110020011   3  2019-04-26  2019-05-28   \n1             1   YQ      2  R0024  8110020012   1  2019-12-26  2020-01-02   \n2             2   YQ      3  R0010  8110020013   1  2020-01-20  2020-01-29   \n3             3   YQ      4  R0009  8110020014   1  2020-01-14  2020-01-28   \n4             4   YQ      5  R0003  8110020015   3  2020-01-06  2020-01-13   \n..          ...  ...    ...    ...         ...  ..         ...         ...   \n258         258   MT      2  R0721  8110110002   2  2023-05-22  2023-06-05   \n259         259   MT      3  R0626  8110110003   1  2023-05-23  2023-06-13   \n260         260   MT      4  R0712  8110110004   1  2023-05-31  2023-07-03   \n261         261   MT      5  R0645  8110110005   1  2023-06-01  2023-07-28   \n262         262   MT      6  R0589  8110110006   1  2023-08-02  2023-08-17   \n\n            nt3        ntre  ...  sts  vsva  vsvp  hrd  jrn  wov  stgbv  \\\n0           NaN  2021-01-15  ...  0.0   NaN   NaN  NaN  NaN  1.0    0.0   \n1           NaN         NaN  ...  1.0   NaN   NaN  NaN  NaN  1.0    0.0   \n2           NaN         NaN  ...  1.0   NaN   NaN  NaN  NaN  1.0    0.0   \n3           NaN         NaN  ...  0.0   NaN   NaN  NaN  NaN  1.0    0.0   \n4           NaN  2021-11-23  ...  1.0   NaN   NaN  NaN  NaN  1.0    1.0   \n..          ...         ...  ...  ...   ...   ...  ...  ...  ...    ...   \n258  2023-06-13         NaN  ...  1.0   0.0   0.0  0.0  0.0  1.0    0.0   \n259         NaN         NaN  ...  0.0   0.0   0.0  0.0  0.0  1.0    0.0   \n260         NaN         NaN  ...  0.0   0.0   0.0  0.0  0.0  1.0    0.0   \n261         NaN         NaN  ...  0.0   0.0   0.0  0.0  0.0  1.0    0.0   \n262         NaN         NaN  ...  1.0   0.0   0.0  0.0  0.0  1.0    0.0   \n\n     lgbti  other  vict  \n0      0.0    0.0     2  \n1      0.0    0.0     4  \n2      0.0    0.0     3  \n3      0.0    0.0     1  \n4      0.0    0.0     3  \n..     ...    ...   ...  \n258    0.0    0.0     4  \n259    0.0    0.0     1  \n260    0.0    0.0     3  \n261    0.0    0.0     1  \n262    0.0    0.0     3  \n\n[263 rows x 23 columns]",
      "text/html": "<div>\n<style scoped>\n    .dataframe tbody tr th:only-of-type {\n        vertical-align: middle;\n    }\n\n    .dataframe tbody tr th {\n        vertical-align: top;\n    }\n\n    .dataframe thead th {\n        text-align: right;\n    }\n</style>\n<table border=\"1\" class=\"dataframe\">\n  <thead>\n    <tr style=\"text-align: right;\">\n      <th></th>\n      <th>Unnamed: 0</th>\n      <th>ntsp</th>\n      <th>ntspi</th>\n      <th>rid</th>\n      <th>fcid</th>\n      <th>nt</th>\n      <th>nt1</th>\n      <th>nt2</th>\n      <th>nt3</th>\n      <th>ntre</th>\n      <th>...</th>\n      <th>sts</th>\n      <th>vsva</th>\n      <th>vsvp</th>\n      <th>hrd</th>\n      <th>jrn</th>\n      <th>wov</th>\n      <th>stgbv</th>\n      <th>lgbti</th>\n      <th>other</th>\n      <th>vict</th>\n    </tr>\n  </thead>\n  <tbody>\n    <tr>\n      <th>0</th>\n      <td>0</td>\n      <td>YQ</td>\n      <td>1</td>\n      <td>R0130</td>\n      <td>8110020011</td>\n      <td>3</td>\n      <td>2019-04-26</td>\n      <td>2019-05-28</td>\n      <td>NaN</td>\n      <td>2021-01-15</td>\n      <td>...</td>\n      <td>0.0</td>\n      <td>NaN</td>\n      <td>NaN</td>\n      <td>NaN</td>\n      <td>NaN</td>\n      <td>1.0</td>\n      <td>0.0</td>\n      <td>0.0</td>\n      <td>0.0</td>\n      <td>2</td>\n    </tr>\n    <tr>\n      <th>1</th>\n      <td>1</td>\n      <td>YQ</td>\n      <td>2</td>\n      <td>R0024</td>\n      <td>8110020012</td>\n      <td>1</td>\n      <td>2019-12-26</td>\n      <td>2020-01-02</td>\n      <td>NaN</td>\n      <td>NaN</td>\n      <td>...</td>\n      <td>1.0</td>\n      <td>NaN</td>\n      <td>NaN</td>\n      <td>NaN</td>\n      <td>NaN</td>\n      <td>1.0</td>\n      <td>0.0</td>\n      <td>0.0</td>\n      <td>0.0</td>\n      <td>4</td>\n    </tr>\n    <tr>\n      <th>2</th>\n      <td>2</td>\n      <td>YQ</td>\n      <td>3</td>\n      <td>R0010</td>\n      <td>8110020013</td>\n      <td>1</td>\n      <td>2020-01-20</td>\n      <td>2020-01-29</td>\n      <td>NaN</td>\n      <td>NaN</td>\n      <td>...</td>\n      <td>1.0</td>\n      <td>NaN</td>\n      <td>NaN</td>\n      <td>NaN</td>\n      <td>NaN</td>\n      <td>1.0</td>\n      <td>0.0</td>\n      <td>0.0</td>\n      <td>0.0</td>\n      <td>3</td>\n    </tr>\n    <tr>\n      <th>3</th>\n      <td>3</td>\n      <td>YQ</td>\n      <td>4</td>\n      <td>R0009</td>\n      <td>8110020014</td>\n      <td>1</td>\n      <td>2020-01-14</td>\n      <td>2020-01-28</td>\n      <td>NaN</td>\n      <td>NaN</td>\n      <td>...</td>\n      <td>0.0</td>\n      <td>NaN</td>\n      <td>NaN</td>\n      <td>NaN</td>\n      <td>NaN</td>\n      <td>1.0</td>\n      <td>0.0</td>\n      <td>0.0</td>\n      <td>0.0</td>\n      <td>1</td>\n    </tr>\n    <tr>\n      <th>4</th>\n      <td>4</td>\n      <td>YQ</td>\n      <td>5</td>\n      <td>R0003</td>\n      <td>8110020015</td>\n      <td>3</td>\n      <td>2020-01-06</td>\n      <td>2020-01-13</td>\n      <td>NaN</td>\n      <td>2021-11-23</td>\n      <td>...</td>\n      <td>1.0</td>\n      <td>NaN</td>\n      <td>NaN</td>\n      <td>NaN</td>\n      <td>NaN</td>\n      <td>1.0</td>\n      <td>1.0</td>\n      <td>0.0</td>\n      <td>0.0</td>\n      <td>3</td>\n    </tr>\n    <tr>\n      <th>...</th>\n      <td>...</td>\n      <td>...</td>\n      <td>...</td>\n      <td>...</td>\n      <td>...</td>\n      <td>...</td>\n      <td>...</td>\n      <td>...</td>\n      <td>...</td>\n      <td>...</td>\n      <td>...</td>\n      <td>...</td>\n      <td>...</td>\n      <td>...</td>\n      <td>...</td>\n      <td>...</td>\n      <td>...</td>\n      <td>...</td>\n      <td>...</td>\n      <td>...</td>\n      <td>...</td>\n    </tr>\n    <tr>\n      <th>258</th>\n      <td>258</td>\n      <td>MT</td>\n      <td>2</td>\n      <td>R0721</td>\n      <td>8110110002</td>\n      <td>2</td>\n      <td>2023-05-22</td>\n      <td>2023-06-05</td>\n      <td>2023-06-13</td>\n      <td>NaN</td>\n      <td>...</td>\n      <td>1.0</td>\n      <td>0.0</td>\n      <td>0.0</td>\n      <td>0.0</td>\n      <td>0.0</td>\n      <td>1.0</td>\n      <td>0.0</td>\n      <td>0.0</td>\n      <td>0.0</td>\n      <td>4</td>\n    </tr>\n    <tr>\n      <th>259</th>\n      <td>259</td>\n      <td>MT</td>\n      <td>3</td>\n      <td>R0626</td>\n      <td>8110110003</td>\n      <td>1</td>\n      <td>2023-05-23</td>\n      <td>2023-06-13</td>\n      <td>NaN</td>\n      <td>NaN</td>\n      <td>...</td>\n      <td>0.0</td>\n      <td>0.0</td>\n      <td>0.0</td>\n      <td>0.0</td>\n      <td>0.0</td>\n      <td>1.0</td>\n      <td>0.0</td>\n      <td>0.0</td>\n      <td>0.0</td>\n      <td>1</td>\n    </tr>\n    <tr>\n      <th>260</th>\n      <td>260</td>\n      <td>MT</td>\n      <td>4</td>\n      <td>R0712</td>\n      <td>8110110004</td>\n      <td>1</td>\n      <td>2023-05-31</td>\n      <td>2023-07-03</td>\n      <td>NaN</td>\n      <td>NaN</td>\n      <td>...</td>\n      <td>0.0</td>\n      <td>0.0</td>\n      <td>0.0</td>\n      <td>0.0</td>\n      <td>0.0</td>\n      <td>1.0</td>\n      <td>0.0</td>\n      <td>0.0</td>\n      <td>0.0</td>\n      <td>3</td>\n    </tr>\n    <tr>\n      <th>261</th>\n      <td>261</td>\n      <td>MT</td>\n      <td>5</td>\n      <td>R0645</td>\n      <td>8110110005</td>\n      <td>1</td>\n      <td>2023-06-01</td>\n      <td>2023-07-28</td>\n      <td>NaN</td>\n      <td>NaN</td>\n      <td>...</td>\n      <td>0.0</td>\n      <td>0.0</td>\n      <td>0.0</td>\n      <td>0.0</td>\n      <td>0.0</td>\n      <td>1.0</td>\n      <td>0.0</td>\n      <td>0.0</td>\n      <td>0.0</td>\n      <td>1</td>\n    </tr>\n    <tr>\n      <th>262</th>\n      <td>262</td>\n      <td>MT</td>\n      <td>6</td>\n      <td>R0589</td>\n      <td>8110110006</td>\n      <td>1</td>\n      <td>2023-08-02</td>\n      <td>2023-08-17</td>\n      <td>NaN</td>\n      <td>NaN</td>\n      <td>...</td>\n      <td>1.0</td>\n      <td>0.0</td>\n      <td>0.0</td>\n      <td>0.0</td>\n      <td>0.0</td>\n      <td>1.0</td>\n      <td>0.0</td>\n      <td>0.0</td>\n      <td>0.0</td>\n      <td>3</td>\n    </tr>\n  </tbody>\n</table>\n<p>263 rows × 23 columns</p>\n</div>"
     },
     "execution_count": 26,
     "metadata": {},
     "output_type": "execute_result"
    }
   ],
   "source": [
    "intake"
   ],
   "metadata": {
    "collapsed": false,
    "ExecuteTime": {
     "end_time": "2023-10-12T14:48:41.098912100Z",
     "start_time": "2023-10-12T14:48:41.046546400Z"
    }
   },
   "id": "b18483ec7f40bb74"
  }
 ],
 "metadata": {
  "kernelspec": {
   "display_name": "Python 3",
   "language": "python",
   "name": "python3"
  },
  "language_info": {
   "codemirror_mode": {
    "name": "ipython",
    "version": 2
   },
   "file_extension": ".py",
   "mimetype": "text/x-python",
   "name": "python",
   "nbconvert_exporter": "python",
   "pygments_lexer": "ipython2",
   "version": "2.7.6"
  }
 },
 "nbformat": 4,
 "nbformat_minor": 5
}
