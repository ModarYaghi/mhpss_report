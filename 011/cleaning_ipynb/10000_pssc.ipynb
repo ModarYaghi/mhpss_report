{
 "cells": [
  {
   "cell_type": "code",
   "execution_count": null,
   "id": "initial_id",
   "metadata": {
    "collapsed": true
   },
   "outputs": [],
   "source": [
    "import numpy as np\n",
    "import pandas as pd\n",
    "import warnings\n",
    "from my_static_data import *\n",
    "# from plotting import *"
   ]
  },
  {
   "cell_type": "code",
   "execution_count": null,
   "outputs": [],
   "source": [
    "pd.set_option('display.float_format', '{:.1f}'.format)\n",
    "# pd.reset_option('display.float_format')\n",
    "# Display maximum column width:\n",
    "pd.set_option('display.max_colwidth', None)\n",
    "# Suppress openpyxl data validation warning\n",
    "warnings.filterwarnings(\"ignore\", category=UserWarning, module=\"openpyxl\")"
   ],
   "metadata": {
    "collapsed": false
   },
   "id": "fb7f9de78ce01688"
  },
  {
   "cell_type": "code",
   "execution_count": null,
   "outputs": [],
   "source": [
    "threshold_date = pd.Timestamp('2023-06-30')"
   ],
   "metadata": {
    "collapsed": false
   },
   "id": "2f67d0a333cd9037"
  },
  {
   "cell_type": "code",
   "execution_count": null,
   "outputs": [],
   "source": [
    "# screening = pd.read_csv('0000_ps_sc_092310.csv')\n",
    "# screening[screening_numerical_variables] = screening[screening_numerical_variables].astype('Int64')\n",
    "# screening[screening_date_columns] = screening[screening_date_columns].apply(pd.to_datetime)"
   ],
   "metadata": {
    "collapsed": false
   },
   "id": "44662ec8810720e9"
  },
  {
   "cell_type": "code",
   "execution_count": null,
   "outputs": [],
   "source": [
    "# scr23 = screening[(screening[['sc1', 'sc2', 'scre']] > threshold_date).any(axis=1)]"
   ],
   "metadata": {
    "collapsed": false
   },
   "id": "c574f6cd5db97b87"
  },
  {
   "cell_type": "code",
   "execution_count": null,
   "outputs": [],
   "source": [
    "# Processing Screening Session 1\n",
    "# scr123 = screening[(screening['sc1'] > threshold_date)]\n",
    "# scr123 = scr123.drop(['sc2', 'scre'], axis=1)\n",
    "# scr123.rename({'sc1': 'scdate'}, axis=1, inplace=True)"
   ],
   "metadata": {
    "collapsed": false
   },
   "id": "26a4eed80edcd237"
  },
  {
   "cell_type": "code",
   "execution_count": null,
   "outputs": [],
   "source": [
    "# if 'sctype' not in scr123.columns:\n",
    "#     scr123.insert(6, 'sctype', 1)"
   ],
   "metadata": {
    "collapsed": false
   },
   "id": "fd9cb5bf3e60486c"
  },
  {
   "cell_type": "code",
   "execution_count": null,
   "outputs": [],
   "source": [
    "# scr123"
   ],
   "metadata": {
    "collapsed": false
   },
   "id": "909344cf37036597"
  },
  {
   "cell_type": "code",
   "execution_count": null,
   "outputs": [],
   "source": [
    "# scr223 = screening[(screening['sc2'] > threshold_date)]\n",
    "# scr223 = scr223.drop(['sc1', 'scre'], axis=1)\n",
    "# scr223.rename({'sc2': 'scdate'}, axis=1, inplace=True)"
   ],
   "metadata": {
    "collapsed": false
   },
   "id": "cdca31d937cdb3f6"
  },
  {
   "cell_type": "code",
   "execution_count": null,
   "outputs": [],
   "source": [
    "# if 'sctype' not in scr223.columns:\n",
    "#     scr223.insert(6, 'sctype', 2)"
   ],
   "metadata": {
    "collapsed": false
   },
   "id": "9b59d86b97c854e8"
  },
  {
   "cell_type": "code",
   "execution_count": null,
   "outputs": [],
   "source": [
    "# scr223"
   ],
   "metadata": {
    "collapsed": false
   },
   "id": "50208731ee659160"
  },
  {
   "cell_type": "code",
   "execution_count": null,
   "outputs": [],
   "source": [
    "# scre = screening[(screening['scre'] > threshold_date)]\n",
    "# scre = scre.drop(['sc1', 'sc2'], axis=1)\n",
    "# scre.rename({'scre': 'scdate'}, axis=1, inplace=True)"
   ],
   "metadata": {
    "collapsed": false
   },
   "id": "767c2b5f3b937e3"
  },
  {
   "cell_type": "code",
   "execution_count": null,
   "outputs": [],
   "source": [
    "# if 'sctype' not in scre.columns:\n",
    "#     scre.insert(6, 'sctype', 3)"
   ],
   "metadata": {
    "collapsed": false
   },
   "id": "9bb12be0a67656e4"
  },
  {
   "cell_type": "code",
   "execution_count": null,
   "outputs": [],
   "source": [
    "# scre"
   ],
   "metadata": {
    "collapsed": false
   },
   "id": "e54bf7b1d9c4cef9"
  },
  {
   "cell_type": "code",
   "execution_count": null,
   "outputs": [],
   "source": [
    "# scrser_rows = scr123.shape[0] + scr223.shape[0] + scre.shape[0]\n",
    "# scrser_rows"
   ],
   "metadata": {
    "collapsed": false
   },
   "id": "837989e26cd8ab54"
  },
  {
   "cell_type": "code",
   "execution_count": null,
   "outputs": [],
   "source": [
    "# scrser = pd.concat([scr123, scr223, scre], ignore_index=True)\n",
    "# scrser.to_csv(r'10111_011/0000_10111_011_pssc.csv', index=False)"
   ],
   "metadata": {
    "collapsed": false
   },
   "id": "fe90d416de348f4e"
  },
  {
   "cell_type": "code",
   "execution_count": null,
   "outputs": [],
   "source": [
    "screening = pd.read_csv(r'10111_011/0000_10111_011_pssc.csv')\n",
    "screening[screening_numerical_variables] = screening[screening_numerical_variables].astype('Int64')\n",
    "screening['scdate'] = screening['scdate'].apply(pd.to_datetime)"
   ],
   "metadata": {
    "collapsed": false
   },
   "id": "ea88f2aff41c795c"
  },
  {
   "cell_type": "code",
   "execution_count": null,
   "outputs": [],
   "source": [
    "if 'scmonth' not in screening.columns:\n",
    "    screening.insert(8, 'scmonth', np.nan)"
   ],
   "metadata": {
    "collapsed": false
   },
   "id": "993ddcd472437743"
  },
  {
   "cell_type": "code",
   "execution_count": null,
   "outputs": [],
   "source": [
    "screening['scmonth'] = screening['scdate'].dt.strftime('%b')"
   ],
   "metadata": {
    "collapsed": false
   },
   "id": "e0b2a6c096921087"
  },
  {
   "cell_type": "code",
   "execution_count": null,
   "outputs": [],
   "source": [
    "screening"
   ],
   "metadata": {
    "collapsed": false
   },
   "id": "e27bb42bbe8f7c8b"
  },
  {
   "cell_type": "code",
   "execution_count": null,
   "outputs": [],
   "source": [
    "scr_mcounts = screening['scmonth'].value_counts()\n",
    "scr_mcounts"
   ],
   "metadata": {
    "collapsed": false
   },
   "id": "b2e1e73b6e47866"
  },
  {
   "cell_type": "code",
   "execution_count": null,
   "outputs": [],
   "source": [
    "scr_location = screening['scloc'].value_counts(dropna=False)\n",
    "scr_location.to_clipboard()"
   ],
   "metadata": {
    "collapsed": false
   },
   "id": "472369ea6dea925b"
  },
  {
   "cell_type": "code",
   "execution_count": null,
   "outputs": [],
   "source": [
    "if 'age_range' not in screening.columns:\n",
    "    screening.insert(5, 'age_range', np.nan)"
   ],
   "metadata": {
    "collapsed": false
   },
   "id": "70bddb3db45c4a5e"
  },
  {
   "cell_type": "code",
   "execution_count": null,
   "outputs": [],
   "source": [
    "bins = [18, 26, 36, 46, 56, 66, 76]\n",
    "labels = ['18-25', '26-35', '36-45', '46-55', '56-65', '66-75']\n",
    "screening['age_range'] = pd.cut(screening['age'], bins=bins, labels=labels, right=False, include_lowest=True)"
   ],
   "metadata": {
    "collapsed": false
   },
   "id": "c97234e0bd580ac"
  },
  {
   "cell_type": "code",
   "execution_count": null,
   "outputs": [],
   "source": [
    "scr_age = screening['age_range'].value_counts()\n",
    "scr_age.to_clipboard()"
   ],
   "metadata": {
    "collapsed": false
   },
   "id": "ee1acb0162dd894a"
  },
  {
   "cell_type": "code",
   "execution_count": null,
   "outputs": [],
   "source": [
    "scr_sex = screening['sex'].value_counts()\n",
    "scr_sex.to_clipboard()"
   ],
   "metadata": {
    "collapsed": false
   },
   "id": "45d94aabac0b6e16"
  },
  {
   "cell_type": "code",
   "execution_count": null,
   "outputs": [],
   "source": [
    "scr_referral_source = screening['srs'].value_counts(dropna=False)\n",
    "scr_referral_source.to_clipboard()"
   ],
   "metadata": {
    "collapsed": false
   },
   "id": "f7d8e580e18f3b6a"
  },
  {
   "cell_type": "code",
   "execution_count": null,
   "outputs": [],
   "source": [
    "screening"
   ],
   "metadata": {
    "collapsed": false
   },
   "id": "b2f39ef1d75600c2"
  },
  {
   "cell_type": "code",
   "execution_count": null,
   "outputs": [],
   "source": [
    "scr_to_service = pd.DataFrame({\n",
    "    'column_name': screening_to_service,\n",
    "    'count_1': (screening[screening_to_service] == 1).sum(),\n",
    "    'count_0': (screening[screening_to_service] == 0).sum(),\n",
    "    'count_nan': (screening[screening_to_service].isna().sum())\n",
    "}).reset_index(drop=True)\n",
    "\n",
    "scr_to_service"
   ],
   "metadata": {
    "collapsed": false
   },
   "id": "95d6ac9fde19b942"
  },
  {
   "cell_type": "code",
   "execution_count": null,
   "outputs": [],
   "source": [
    "scr_to_service.to_clipboard()"
   ],
   "metadata": {
    "collapsed": false
   },
   "id": "eca2917b3c7c1c09"
  },
  {
   "cell_type": "code",
   "execution_count": null,
   "outputs": [],
   "source": [],
   "metadata": {
    "collapsed": false
   },
   "id": "b4818f000901fb45"
  },
  {
   "cell_type": "code",
   "execution_count": null,
   "outputs": [],
   "source": [
    "scr11 = pd.read_csv(r'../011/0000_ps_sc_092310.csv')\n",
    "scr11[screening_date_columns] = scr11[screening_date_columns].apply(pd.to_datetime)"
   ],
   "metadata": {
    "collapsed": false
   },
   "id": "2dd305d0f62c78af"
  },
  {
   "cell_type": "code",
   "execution_count": null,
   "outputs": [],
   "source": [
    "scr11[(scr11[screening_date_columns] > threshold_date).any(axis=1)]"
   ],
   "metadata": {
    "collapsed": false
   },
   "id": "43493dc806901011"
  }
 ],
 "metadata": {
  "kernelspec": {
   "display_name": "Python 3",
   "language": "python",
   "name": "python3"
  },
  "language_info": {
   "codemirror_mode": {
    "name": "ipython",
    "version": 2
   },
   "file_extension": ".py",
   "mimetype": "text/x-python",
   "name": "python",
   "nbconvert_exporter": "python",
   "pygments_lexer": "ipython2",
   "version": "2.7.6"
  }
 },
 "nbformat": 4,
 "nbformat_minor": 5
}
