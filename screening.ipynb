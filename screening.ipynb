{
 "cells": [
  {
   "cell_type": "code",
   "execution_count": 1,
   "id": "initial_id",
   "metadata": {
    "collapsed": true,
    "ExecuteTime": {
     "end_time": "2023-10-19T13:42:38.801183700Z",
     "start_time": "2023-10-19T13:42:38.176131100Z"
    }
   },
   "outputs": [],
   "source": [
    "import pandas as pd\n",
    "from column_names_groups import *\n",
    "from mfyfunctions import *"
   ]
  },
  {
   "cell_type": "code",
   "execution_count": 2,
   "outputs": [],
   "source": [
    "pd.set_option('display.float_format', '{:.1f}'.format)\n",
    "pd.set_option('display.max_colwidth', None)\n",
    "threshold_date = pd.Timestamp('2022-09-30')"
   ],
   "metadata": {
    "collapsed": false,
    "ExecuteTime": {
     "end_time": "2023-10-19T13:42:38.809371500Z",
     "start_time": "2023-10-19T13:42:38.805780100Z"
    }
   },
   "id": "58f2c432c582f38c"
  },
  {
   "cell_type": "code",
   "execution_count": null,
   "outputs": [],
   "source": [
    "# scr = pd.read_csv(r'011/datasets/0000_ps_sc_092310.csv')\n",
    "# scr[screening_date_columns] = scr[screening_date_columns].apply(pd.to_datetime)\n",
    "# scr[screening_all_int_columns] = scr[screening_all_int_columns].astype('Int64')\n",
    "# scr = scr[(scr[screening_date_columns] > threshold_date).any(axis=1)]"
   ],
   "metadata": {
    "collapsed": false
   },
   "id": "e17083ab8996a257"
  },
  {
   "cell_type": "code",
   "execution_count": null,
   "outputs": [],
   "source": [
    "# melt_scr = melt_and_categorize_dates(scr, screening_date_columns, sort_by_date=True)"
   ],
   "metadata": {
    "collapsed": false
   },
   "id": "802f991430a2d392"
  },
  {
   "cell_type": "code",
   "execution_count": 11,
   "outputs": [],
   "source": [
    "# melt_scr"
   ],
   "metadata": {
    "collapsed": false,
    "ExecuteTime": {
     "end_time": "2023-10-19T14:18:01.731545100Z",
     "start_time": "2023-10-19T14:18:01.730450200Z"
    }
   },
   "id": "92cd343e4e82008f"
  },
  {
   "cell_type": "code",
   "execution_count": 10,
   "outputs": [],
   "source": [
    "# scr_2023 = melt_scr[(melt_scr['scdate'] > threshold_date)]\n",
    "# scr_2023.to_csv(r'soti_221001230930/screening_221001230930.csv')"
   ],
   "metadata": {
    "collapsed": false,
    "ExecuteTime": {
     "end_time": "2023-10-19T14:13:18.841327500Z",
     "start_time": "2023-10-19T14:13:18.810968800Z"
    }
   },
   "id": "4ab823bab2465d99"
  },
  {
   "cell_type": "code",
   "execution_count": 12,
   "outputs": [],
   "source": [
    "scr = pd.read_csv(r'soti_221001230930/screening_221001230930.csv')\n",
    "scr['scdate'] = scr['scdate'].apply(pd.to_datetime)\n",
    "scr[screening_all_int_columns] = scr[screening_all_int_columns].astype('Int64')"
   ],
   "metadata": {
    "collapsed": false,
    "ExecuteTime": {
     "end_time": "2023-10-19T14:18:12.323348800Z",
     "start_time": "2023-10-19T14:18:12.194011200Z"
    }
   },
   "id": "bdfd98015b3252ea"
  },
  {
   "cell_type": "code",
   "execution_count": 13,
   "outputs": [
    {
     "data": {
      "text/plain": "     Unnamed: 0 scsp  scspi    rid  sex  age scloc sctype     scdate  \\\n0           292   SA    122  R0553    1   31   GZT    sc1 2022-10-03   \n1           293   YQ    153  R0552    1   37   GZT    sc1 2022-10-04   \n2           294   SA    123  R0393    1   48   GZT    sc1 2022-10-10   \n3           295   SA    124  R0558    2   49   GZT    sc1 2022-10-21   \n4           296   YQ    154  R0556    2   63   GZT    sc1 2022-10-24   \n..          ...  ...    ...    ...  ...  ...   ...    ...        ...   \n204         496   IJ     60  R0941    2   52   GZT    sc1 2023-09-20   \n205         497   MT     42  R0934    2   33    SF    sc1 2023-09-25   \n206         498   LA     24  R0826    1   43   NaN    sc1 2023-09-26   \n207         499   SA    163  R0909    2   39   NaN    sc2 2023-09-27   \n208         500   LA     40  R0935    1   47   NaN    sc1 2023-09-28   \n\n                   srs srsorg  mhpss   trw  outref   tmh   pei  sert  \n0    ADMSP_Beneficiary    NA_   <NA>  <NA>    <NA>  <NA>  <NA>     0  \n1    ADMSP_Beneficiary    NA_   <NA>  <NA>    <NA>  <NA>  <NA>     0  \n2     Outreach_Session     FC   <NA>  <NA>    <NA>  <NA>  <NA>     0  \n3    ADMSP_Beneficiary    NA_   <NA>  <NA>    <NA>  <NA>  <NA>     0  \n4    ADMSP_Beneficiary    NA_   <NA>  <NA>    <NA>  <NA>  <NA>     0  \n..                 ...    ...    ...   ...     ...   ...   ...   ...  \n204  ADMSP_Beneficiary    NA_      1     0       0     1     1     3  \n205                IRM    NA_      0     0       0     1     1     2  \n206                NGO    NaN      1     0       0     0     1     2  \n207  ADMSP_Beneficiary    NA_      0     1       0     0     1     2  \n208                IRM    NA_      1     0       0     1     1     3  \n\n[209 rows x 17 columns]",
      "text/html": "<div>\n<style scoped>\n    .dataframe tbody tr th:only-of-type {\n        vertical-align: middle;\n    }\n\n    .dataframe tbody tr th {\n        vertical-align: top;\n    }\n\n    .dataframe thead th {\n        text-align: right;\n    }\n</style>\n<table border=\"1\" class=\"dataframe\">\n  <thead>\n    <tr style=\"text-align: right;\">\n      <th></th>\n      <th>Unnamed: 0</th>\n      <th>scsp</th>\n      <th>scspi</th>\n      <th>rid</th>\n      <th>sex</th>\n      <th>age</th>\n      <th>scloc</th>\n      <th>sctype</th>\n      <th>scdate</th>\n      <th>srs</th>\n      <th>srsorg</th>\n      <th>mhpss</th>\n      <th>trw</th>\n      <th>outref</th>\n      <th>tmh</th>\n      <th>pei</th>\n      <th>sert</th>\n    </tr>\n  </thead>\n  <tbody>\n    <tr>\n      <th>0</th>\n      <td>292</td>\n      <td>SA</td>\n      <td>122</td>\n      <td>R0553</td>\n      <td>1</td>\n      <td>31</td>\n      <td>GZT</td>\n      <td>sc1</td>\n      <td>2022-10-03</td>\n      <td>ADMSP_Beneficiary</td>\n      <td>NA_</td>\n      <td>&lt;NA&gt;</td>\n      <td>&lt;NA&gt;</td>\n      <td>&lt;NA&gt;</td>\n      <td>&lt;NA&gt;</td>\n      <td>&lt;NA&gt;</td>\n      <td>0</td>\n    </tr>\n    <tr>\n      <th>1</th>\n      <td>293</td>\n      <td>YQ</td>\n      <td>153</td>\n      <td>R0552</td>\n      <td>1</td>\n      <td>37</td>\n      <td>GZT</td>\n      <td>sc1</td>\n      <td>2022-10-04</td>\n      <td>ADMSP_Beneficiary</td>\n      <td>NA_</td>\n      <td>&lt;NA&gt;</td>\n      <td>&lt;NA&gt;</td>\n      <td>&lt;NA&gt;</td>\n      <td>&lt;NA&gt;</td>\n      <td>&lt;NA&gt;</td>\n      <td>0</td>\n    </tr>\n    <tr>\n      <th>2</th>\n      <td>294</td>\n      <td>SA</td>\n      <td>123</td>\n      <td>R0393</td>\n      <td>1</td>\n      <td>48</td>\n      <td>GZT</td>\n      <td>sc1</td>\n      <td>2022-10-10</td>\n      <td>Outreach_Session</td>\n      <td>FC</td>\n      <td>&lt;NA&gt;</td>\n      <td>&lt;NA&gt;</td>\n      <td>&lt;NA&gt;</td>\n      <td>&lt;NA&gt;</td>\n      <td>&lt;NA&gt;</td>\n      <td>0</td>\n    </tr>\n    <tr>\n      <th>3</th>\n      <td>295</td>\n      <td>SA</td>\n      <td>124</td>\n      <td>R0558</td>\n      <td>2</td>\n      <td>49</td>\n      <td>GZT</td>\n      <td>sc1</td>\n      <td>2022-10-21</td>\n      <td>ADMSP_Beneficiary</td>\n      <td>NA_</td>\n      <td>&lt;NA&gt;</td>\n      <td>&lt;NA&gt;</td>\n      <td>&lt;NA&gt;</td>\n      <td>&lt;NA&gt;</td>\n      <td>&lt;NA&gt;</td>\n      <td>0</td>\n    </tr>\n    <tr>\n      <th>4</th>\n      <td>296</td>\n      <td>YQ</td>\n      <td>154</td>\n      <td>R0556</td>\n      <td>2</td>\n      <td>63</td>\n      <td>GZT</td>\n      <td>sc1</td>\n      <td>2022-10-24</td>\n      <td>ADMSP_Beneficiary</td>\n      <td>NA_</td>\n      <td>&lt;NA&gt;</td>\n      <td>&lt;NA&gt;</td>\n      <td>&lt;NA&gt;</td>\n      <td>&lt;NA&gt;</td>\n      <td>&lt;NA&gt;</td>\n      <td>0</td>\n    </tr>\n    <tr>\n      <th>...</th>\n      <td>...</td>\n      <td>...</td>\n      <td>...</td>\n      <td>...</td>\n      <td>...</td>\n      <td>...</td>\n      <td>...</td>\n      <td>...</td>\n      <td>...</td>\n      <td>...</td>\n      <td>...</td>\n      <td>...</td>\n      <td>...</td>\n      <td>...</td>\n      <td>...</td>\n      <td>...</td>\n      <td>...</td>\n    </tr>\n    <tr>\n      <th>204</th>\n      <td>496</td>\n      <td>IJ</td>\n      <td>60</td>\n      <td>R0941</td>\n      <td>2</td>\n      <td>52</td>\n      <td>GZT</td>\n      <td>sc1</td>\n      <td>2023-09-20</td>\n      <td>ADMSP_Beneficiary</td>\n      <td>NA_</td>\n      <td>1</td>\n      <td>0</td>\n      <td>0</td>\n      <td>1</td>\n      <td>1</td>\n      <td>3</td>\n    </tr>\n    <tr>\n      <th>205</th>\n      <td>497</td>\n      <td>MT</td>\n      <td>42</td>\n      <td>R0934</td>\n      <td>2</td>\n      <td>33</td>\n      <td>SF</td>\n      <td>sc1</td>\n      <td>2023-09-25</td>\n      <td>IRM</td>\n      <td>NA_</td>\n      <td>0</td>\n      <td>0</td>\n      <td>0</td>\n      <td>1</td>\n      <td>1</td>\n      <td>2</td>\n    </tr>\n    <tr>\n      <th>206</th>\n      <td>498</td>\n      <td>LA</td>\n      <td>24</td>\n      <td>R0826</td>\n      <td>1</td>\n      <td>43</td>\n      <td>NaN</td>\n      <td>sc1</td>\n      <td>2023-09-26</td>\n      <td>NGO</td>\n      <td>NaN</td>\n      <td>1</td>\n      <td>0</td>\n      <td>0</td>\n      <td>0</td>\n      <td>1</td>\n      <td>2</td>\n    </tr>\n    <tr>\n      <th>207</th>\n      <td>499</td>\n      <td>SA</td>\n      <td>163</td>\n      <td>R0909</td>\n      <td>2</td>\n      <td>39</td>\n      <td>NaN</td>\n      <td>sc2</td>\n      <td>2023-09-27</td>\n      <td>ADMSP_Beneficiary</td>\n      <td>NA_</td>\n      <td>0</td>\n      <td>1</td>\n      <td>0</td>\n      <td>0</td>\n      <td>1</td>\n      <td>2</td>\n    </tr>\n    <tr>\n      <th>208</th>\n      <td>500</td>\n      <td>LA</td>\n      <td>40</td>\n      <td>R0935</td>\n      <td>1</td>\n      <td>47</td>\n      <td>NaN</td>\n      <td>sc1</td>\n      <td>2023-09-28</td>\n      <td>IRM</td>\n      <td>NA_</td>\n      <td>1</td>\n      <td>0</td>\n      <td>0</td>\n      <td>1</td>\n      <td>1</td>\n      <td>3</td>\n    </tr>\n  </tbody>\n</table>\n<p>209 rows × 17 columns</p>\n</div>"
     },
     "execution_count": 13,
     "metadata": {},
     "output_type": "execute_result"
    }
   ],
   "source": [
    "scr"
   ],
   "metadata": {
    "collapsed": false,
    "ExecuteTime": {
     "end_time": "2023-10-19T14:18:17.531522500Z",
     "start_time": "2023-10-19T14:18:17.491649700Z"
    }
   },
   "id": "4fa8d50ba6a69cf7"
  },
  {
   "cell_type": "code",
   "execution_count": null,
   "outputs": [],
   "source": [],
   "metadata": {
    "collapsed": false
   },
   "id": "747af5a4e84f422a"
  }
 ],
 "metadata": {
  "kernelspec": {
   "display_name": "Python 3",
   "language": "python",
   "name": "python3"
  },
  "language_info": {
   "codemirror_mode": {
    "name": "ipython",
    "version": 2
   },
   "file_extension": ".py",
   "mimetype": "text/x-python",
   "name": "python",
   "nbconvert_exporter": "python",
   "pygments_lexer": "ipython2",
   "version": "2.7.6"
  }
 },
 "nbformat": 4,
 "nbformat_minor": 5
}
