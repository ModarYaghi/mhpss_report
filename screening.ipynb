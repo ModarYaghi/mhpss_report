{
 "cells": [
  {
   "cell_type": "code",
   "execution_count": null,
   "id": "initial_id",
   "metadata": {
    "collapsed": true
   },
   "outputs": [],
   "source": [
    "import pandas as pd\n",
    "from column_names_groups import *\n",
    "from mfyfunctions import *"
   ]
  },
  {
   "cell_type": "code",
   "execution_count": null,
   "outputs": [],
   "source": [
    "pd.set_option('display.float_format', '{:.1f}'.format)\n",
    "pd.set_option('display.max_colwidth', None)\n",
    "threshold_date = pd.Timestamp('2022-09-30')"
   ],
   "metadata": {
    "collapsed": false
   },
   "id": "58f2c432c582f38c"
  },
  {
   "cell_type": "code",
   "execution_count": null,
   "outputs": [],
   "source": [
    "# scr = pd.read_csv(r'011/datasets/0000_ps_sc_092310.csv')\n",
    "# scr[screening_date_columns] = scr[screening_date_columns].apply(pd.to_datetime)\n",
    "# scr[screening_all_int_columns] = scr[screening_all_int_columns].astype('Int64')\n",
    "# scr = scr[(scr[screening_date_columns] > threshold_date).any(axis=1)]"
   ],
   "metadata": {
    "collapsed": false
   },
   "id": "e17083ab8996a257"
  },
  {
   "cell_type": "code",
   "execution_count": null,
   "outputs": [],
   "source": [
    "# melt_scr = melt_and_categorize_dates(scr, screening_date_columns, sort_by_date=True)"
   ],
   "metadata": {
    "collapsed": false
   },
   "id": "802f991430a2d392"
  },
  {
   "cell_type": "code",
   "execution_count": null,
   "outputs": [],
   "source": [
    "# melt_scr"
   ],
   "metadata": {
    "collapsed": false
   },
   "id": "92cd343e4e82008f"
  },
  {
   "cell_type": "code",
   "execution_count": null,
   "outputs": [],
   "source": [
    "# scr_2023 = melt_scr[(melt_scr['scdate'] > threshold_date)]\n",
    "# scr_2023.to_csv(r'soti_221001230930/screening_221001230930.csv')"
   ],
   "metadata": {
    "collapsed": false
   },
   "id": "4ab823bab2465d99"
  },
  {
   "cell_type": "code",
   "execution_count": null,
   "outputs": [],
   "source": [
    "scr = pd.read_csv(r'soti_221001230930/screening_221001230930.csv')\n",
    "scr['scdate'] = scr['scdate'].apply(pd.to_datetime)\n",
    "scr[screening_all_int_columns] = scr[screening_all_int_columns].astype('Int64')"
   ],
   "metadata": {
    "collapsed": false
   },
   "id": "bdfd98015b3252ea"
  },
  {
   "cell_type": "code",
   "execution_count": null,
   "outputs": [],
   "source": [
    "scr"
   ],
   "metadata": {
    "collapsed": false
   },
   "id": "4fa8d50ba6a69cf7"
  },
  {
   "cell_type": "code",
   "execution_count": null,
   "outputs": [],
   "source": [
    "scr[scr.duplicated('rid', keep=False)]"
   ],
   "metadata": {
    "collapsed": false
   },
   "id": "747af5a4e84f422a"
  },
  {
   "cell_type": "code",
   "execution_count": null,
   "outputs": [],
   "source": [
    "scr_new_clients = scr[scr['sctype'] == 'sc1']"
   ],
   "metadata": {
    "collapsed": false
   },
   "id": "5bf2e3fc2008d6e3"
  },
  {
   "cell_type": "code",
   "execution_count": null,
   "outputs": [],
   "source": [
    "scr_new_clients['sex'].value_counts()"
   ],
   "metadata": {
    "collapsed": false
   },
   "id": "e6a243cf7e904289"
  }
 ],
 "metadata": {
  "kernelspec": {
   "display_name": "Python 3",
   "language": "python",
   "name": "python3"
  },
  "language_info": {
   "codemirror_mode": {
    "name": "ipython",
    "version": 2
   },
   "file_extension": ".py",
   "mimetype": "text/x-python",
   "name": "python",
   "nbconvert_exporter": "python",
   "pygments_lexer": "ipython2",
   "version": "2.7.6"
  }
 },
 "nbformat": 4,
 "nbformat_minor": 5
}
