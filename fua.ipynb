{
 "cells": [
  {
   "cell_type": "code",
   "execution_count": null,
   "id": "initial_id",
   "metadata": {
    "collapsed": true
   },
   "outputs": [],
   "source": [
    "import pandas as pd\n",
    "from column_names_groups import *\n",
    "from mfyfunctions import *\n",
    "from analysis_functions import *"
   ]
  },
  {
   "cell_type": "code",
   "execution_count": null,
   "outputs": [],
   "source": [
    "pd.set_option('display.float_format', '{:.1f}'.format)\n",
    "pd.set_option('display.max_colwidth', None)\n",
    "# noinspection PyTypeChecker\n",
    "threshold_date = pd.Timestamp('2022-09-30')"
   ],
   "metadata": {
    "collapsed": false
   },
   "id": "58f2c432c582f38c"
  },
  {
   "cell_type": "code",
   "execution_count": null,
   "outputs": [],
   "source": [
    "follow_up = pd.read_csv(r'011/datasets/0100_ps_fu_092310.csv')\n",
    "follow_up[follow_up_date_columns] = follow_up[follow_up_date_columns].apply(pd.to_datetime)\n",
    "# group_counseling[g_numerical_variables] = intake0[intake_numerical_variables].astype('Int64')\n",
    "# intake0 = intake0[(intake0[intake_date_columns] > threshold_date).any(axis=1)]"
   ],
   "metadata": {
    "collapsed": false
   },
   "id": "e17083ab8996a257"
  },
  {
   "cell_type": "code",
   "execution_count": null,
   "outputs": [],
   "source": [
    "# Calling screening dataset to get some information for intake\n",
    "scr = pd.read_csv(r'011/datasets/0000_ps_sc_092310.csv')\n",
    "scr[screening_date_columns] = scr[screening_date_columns].apply(pd.to_datetime)\n",
    "scr[screening_all_int_columns] = scr[screening_all_int_columns].astype('Int64')\n",
    "unique_scr = scr.drop_duplicates(subset='rid')"
   ],
   "metadata": {
    "collapsed": false
   },
   "id": "81ad154ac43f04fa"
  },
  {
   "cell_type": "code",
   "execution_count": null,
   "outputs": [],
   "source": [
    "follow_up"
   ],
   "metadata": {
    "collapsed": false
   },
   "id": "fd73d46ae3bc8617"
  },
  {
   "cell_type": "code",
   "execution_count": null,
   "outputs": [],
   "source": [
    "follow_up = melt_and_categorize_dates(\n",
    "    follow_up,\n",
    "    date_columns=follow_up_date_columns,\n",
    "    sort_by_date=True,\n",
    "    var_name='type',\n",
    "    value_name='date',\n",
    "    var_position=4,\n",
    "    value_position=5\n",
    ")"
   ],
   "metadata": {
    "collapsed": false
   },
   "id": "533ecf5ccb5f6417"
  },
  {
   "cell_type": "code",
   "execution_count": null,
   "outputs": [],
   "source": [
    "follow_up"
   ],
   "metadata": {
    "collapsed": false
   },
   "id": "8897668a8dcc2597"
  },
  {
   "cell_type": "code",
   "execution_count": null,
   "outputs": [],
   "source": [
    "follow_up23 = follow_up[(follow_up['date'] > threshold_date)]"
   ],
   "metadata": {
    "collapsed": false
   },
   "id": "3ffd71a80f5cff0e"
  },
  {
   "cell_type": "code",
   "execution_count": null,
   "outputs": [],
   "source": [
    "follow_up23"
   ],
   "metadata": {
    "collapsed": false
   },
   "id": "72d87f877f7c5d7c"
  },
  {
   "cell_type": "code",
   "execution_count": null,
   "outputs": [],
   "source": [
    "fu23_sex = pd.merge(follow_up23, unique_scr[['rid', 'sex']], on='rid', how='left')"
   ],
   "metadata": {
    "collapsed": false
   },
   "id": "4c11a950c5b352f"
  },
  {
   "cell_type": "code",
   "execution_count": null,
   "outputs": [],
   "source": [
    "unique_client_fu23_sex = fu23_sex.drop_duplicates(subset='rid')\n",
    "unique_client_fu23_sex"
   ],
   "metadata": {
    "collapsed": false
   },
   "id": "f13e2cc23932a95e"
  },
  {
   "cell_type": "code",
   "execution_count": null,
   "outputs": [],
   "source": [
    "normalized_value_counts(unique_client_fu23_sex['sex'])"
   ],
   "metadata": {
    "collapsed": false
   },
   "id": "c9b41c59cfe19ffa"
  },
  {
   "cell_type": "code",
   "execution_count": null,
   "outputs": [],
   "source": [
    "normalized_value_counts(fu23_sex['type']).to_clipboard()"
   ],
   "metadata": {
    "collapsed": false
   },
   "id": "424b7c89af7d1f0b"
  },
  {
   "cell_type": "code",
   "execution_count": null,
   "outputs": [],
   "source": [
    "normalized_value_counts(unique_client_fu23_sex['closure_reason'])"
   ],
   "metadata": {
    "collapsed": false
   },
   "id": "6c5b11a6f3e72979"
  }
 ],
 "metadata": {
  "kernelspec": {
   "display_name": "Python 3",
   "language": "python",
   "name": "python3"
  },
  "language_info": {
   "codemirror_mode": {
    "name": "ipython",
    "version": 2
   },
   "file_extension": ".py",
   "mimetype": "text/x-python",
   "name": "python",
   "nbconvert_exporter": "python",
   "pygments_lexer": "ipython2",
   "version": "2.7.6"
  }
 },
 "nbformat": 4,
 "nbformat_minor": 5
}
