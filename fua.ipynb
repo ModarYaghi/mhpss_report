{
 "cells": [
  {
   "cell_type": "code",
   "execution_count": 11,
   "id": "initial_id",
   "metadata": {
    "collapsed": true,
    "ExecuteTime": {
     "end_time": "2023-10-23T07:53:50.047219Z",
     "start_time": "2023-10-23T07:53:50.027930600Z"
    }
   },
   "outputs": [],
   "source": [
    "import pandas as pd\n",
    "from column_names_groups import *\n",
    "from mfyfunctions import *\n",
    "from analysis_functions import *"
   ]
  },
  {
   "cell_type": "code",
   "execution_count": 12,
   "outputs": [],
   "source": [
    "pd.set_option('display.float_format', '{:.1f}'.format)\n",
    "pd.set_option('display.max_colwidth', None)\n",
    "# noinspection PyTypeChecker\n",
    "threshold_date = pd.Timestamp('2022-09-30')"
   ],
   "metadata": {
    "collapsed": false,
    "ExecuteTime": {
     "end_time": "2023-10-23T07:53:51.087297600Z",
     "start_time": "2023-10-23T07:53:51.071128500Z"
    }
   },
   "id": "58f2c432c582f38c"
  },
  {
   "cell_type": "code",
   "execution_count": 13,
   "outputs": [],
   "source": [
    "follow_up = pd.read_csv(r'011/datasets/0100_ps_fu_092310.csv')\n",
    "follow_up[follow_up_date_columns] = follow_up[follow_up_date_columns].apply(pd.to_datetime)\n",
    "# group_counseling[g_numerical_variables] = intake0[intake_numerical_variables].astype('Int64')\n",
    "# intake0 = intake0[(intake0[intake_date_columns] > threshold_date).any(axis=1)]"
   ],
   "metadata": {
    "collapsed": false,
    "ExecuteTime": {
     "end_time": "2023-10-23T07:53:51.761465900Z",
     "start_time": "2023-10-23T07:53:51.689758700Z"
    }
   },
   "id": "e17083ab8996a257"
  },
  {
   "cell_type": "code",
   "execution_count": 20,
   "outputs": [],
   "source": [
    "# Calling screening dataset to get some information for intake\n",
    "scr = pd.read_csv(r'011/datasets/0000_ps_sc_092310.csv')\n",
    "scr[screening_date_columns] = scr[screening_date_columns].apply(pd.to_datetime)\n",
    "scr[screening_all_int_columns] = scr[screening_all_int_columns].astype('Int64')\n",
    "unique_scr = scr.drop_duplicates(subset='rid')"
   ],
   "metadata": {
    "collapsed": false,
    "ExecuteTime": {
     "end_time": "2023-10-23T07:57:47.492633Z",
     "start_time": "2023-10-23T07:57:47.444496100Z"
    }
   },
   "id": "81ad154ac43f04fa"
  },
  {
   "cell_type": "code",
   "execution_count": 15,
   "outputs": [
    {
     "data": {
      "text/plain": "    fusp  fuspi    rid        fcid         3m         6m        12m  status  \\\n0     YQ      1  R0130  8110010011 2021-04-07        NaT        NaT       1   \n1     YQ      2  R0024  8110020012 2020-11-24 2021-02-15 2021-08-17       1   \n2     YQ      3  R0010  8110020013 2020-12-04 2020-02-15 2020-08-19       1   \n3     YQ      4  R0007  8110020016        NaT        NaT        NaT       1   \n4     YQ      5  R0006  8110020017 2020-11-10 2020-03-02 2021-08-05       1   \n..   ...    ...    ...         ...        ...        ...        ...     ...   \n161   IJ     10  R0567  8110090007        NaT        NaT        NaT       1   \n162   IJ     11  R0574  8110080007 2023-09-27        NaT        NaT       0   \n163   IJ     13  R0583  8110080011        NaT        NaT        NaT       1   \n164   IJ     14  R0518  8110090004 2023-09-27        NaT        NaT       0   \n165   IJ     15  R0591  8110050092 2023-09-29        NaT        NaT       0   \n\n     closure_reason  \n0              -2.0  \n1               1.0  \n2               1.0  \n3              -4.0  \n4               1.0  \n..              ...  \n161             NaN  \n162             NaN  \n163             NaN  \n164             NaN  \n165             NaN  \n\n[166 rows x 9 columns]",
      "text/html": "<div>\n<style scoped>\n    .dataframe tbody tr th:only-of-type {\n        vertical-align: middle;\n    }\n\n    .dataframe tbody tr th {\n        vertical-align: top;\n    }\n\n    .dataframe thead th {\n        text-align: right;\n    }\n</style>\n<table border=\"1\" class=\"dataframe\">\n  <thead>\n    <tr style=\"text-align: right;\">\n      <th></th>\n      <th>fusp</th>\n      <th>fuspi</th>\n      <th>rid</th>\n      <th>fcid</th>\n      <th>3m</th>\n      <th>6m</th>\n      <th>12m</th>\n      <th>status</th>\n      <th>closure_reason</th>\n    </tr>\n  </thead>\n  <tbody>\n    <tr>\n      <th>0</th>\n      <td>YQ</td>\n      <td>1</td>\n      <td>R0130</td>\n      <td>8110010011</td>\n      <td>2021-04-07</td>\n      <td>NaT</td>\n      <td>NaT</td>\n      <td>1</td>\n      <td>-2.0</td>\n    </tr>\n    <tr>\n      <th>1</th>\n      <td>YQ</td>\n      <td>2</td>\n      <td>R0024</td>\n      <td>8110020012</td>\n      <td>2020-11-24</td>\n      <td>2021-02-15</td>\n      <td>2021-08-17</td>\n      <td>1</td>\n      <td>1.0</td>\n    </tr>\n    <tr>\n      <th>2</th>\n      <td>YQ</td>\n      <td>3</td>\n      <td>R0010</td>\n      <td>8110020013</td>\n      <td>2020-12-04</td>\n      <td>2020-02-15</td>\n      <td>2020-08-19</td>\n      <td>1</td>\n      <td>1.0</td>\n    </tr>\n    <tr>\n      <th>3</th>\n      <td>YQ</td>\n      <td>4</td>\n      <td>R0007</td>\n      <td>8110020016</td>\n      <td>NaT</td>\n      <td>NaT</td>\n      <td>NaT</td>\n      <td>1</td>\n      <td>-4.0</td>\n    </tr>\n    <tr>\n      <th>4</th>\n      <td>YQ</td>\n      <td>5</td>\n      <td>R0006</td>\n      <td>8110020017</td>\n      <td>2020-11-10</td>\n      <td>2020-03-02</td>\n      <td>2021-08-05</td>\n      <td>1</td>\n      <td>1.0</td>\n    </tr>\n    <tr>\n      <th>...</th>\n      <td>...</td>\n      <td>...</td>\n      <td>...</td>\n      <td>...</td>\n      <td>...</td>\n      <td>...</td>\n      <td>...</td>\n      <td>...</td>\n      <td>...</td>\n    </tr>\n    <tr>\n      <th>161</th>\n      <td>IJ</td>\n      <td>10</td>\n      <td>R0567</td>\n      <td>8110090007</td>\n      <td>NaT</td>\n      <td>NaT</td>\n      <td>NaT</td>\n      <td>1</td>\n      <td>NaN</td>\n    </tr>\n    <tr>\n      <th>162</th>\n      <td>IJ</td>\n      <td>11</td>\n      <td>R0574</td>\n      <td>8110080007</td>\n      <td>2023-09-27</td>\n      <td>NaT</td>\n      <td>NaT</td>\n      <td>0</td>\n      <td>NaN</td>\n    </tr>\n    <tr>\n      <th>163</th>\n      <td>IJ</td>\n      <td>13</td>\n      <td>R0583</td>\n      <td>8110080011</td>\n      <td>NaT</td>\n      <td>NaT</td>\n      <td>NaT</td>\n      <td>1</td>\n      <td>NaN</td>\n    </tr>\n    <tr>\n      <th>164</th>\n      <td>IJ</td>\n      <td>14</td>\n      <td>R0518</td>\n      <td>8110090004</td>\n      <td>2023-09-27</td>\n      <td>NaT</td>\n      <td>NaT</td>\n      <td>0</td>\n      <td>NaN</td>\n    </tr>\n    <tr>\n      <th>165</th>\n      <td>IJ</td>\n      <td>15</td>\n      <td>R0591</td>\n      <td>8110050092</td>\n      <td>2023-09-29</td>\n      <td>NaT</td>\n      <td>NaT</td>\n      <td>0</td>\n      <td>NaN</td>\n    </tr>\n  </tbody>\n</table>\n<p>166 rows × 9 columns</p>\n</div>"
     },
     "execution_count": 15,
     "metadata": {},
     "output_type": "execute_result"
    }
   ],
   "source": [
    "follow_up"
   ],
   "metadata": {
    "collapsed": false,
    "ExecuteTime": {
     "end_time": "2023-10-23T07:53:54.393440100Z",
     "start_time": "2023-10-23T07:53:54.375174900Z"
    }
   },
   "id": "fd73d46ae3bc8617"
  },
  {
   "cell_type": "code",
   "execution_count": 16,
   "outputs": [],
   "source": [
    "follow_up = melt_and_categorize_dates(\n",
    "    follow_up,\n",
    "    date_columns=follow_up_date_columns,\n",
    "    sort_by_date=True,\n",
    "    var_name='type',\n",
    "    value_name='date',\n",
    "    var_position=4,\n",
    "    value_position=5\n",
    ")"
   ],
   "metadata": {
    "collapsed": false,
    "ExecuteTime": {
     "end_time": "2023-10-23T07:54:15.488037300Z",
     "start_time": "2023-10-23T07:54:15.466115600Z"
    }
   },
   "id": "533ecf5ccb5f6417"
  },
  {
   "cell_type": "code",
   "execution_count": 17,
   "outputs": [
    {
     "data": {
      "text/plain": "    fusp  fuspi    rid        fcid type       date  status  closure_reason\n0     YQ      3  R0010  8110020013   6m 2020-02-15       1             1.0\n1     YQ      9  R0005  8110020021   6m 2020-02-15       1             1.0\n2     YQ      5  R0006  8110020017   6m 2020-03-02       1             1.0\n3     YQ      9  R0005  8110020021  12m 2020-08-16       1             1.0\n4     YQ      3  R0010  8110020013  12m 2020-08-19       1             1.0\n..   ...    ...    ...         ...  ...        ...     ...             ...\n313   SA     59  R0444  8110050070   3m 2023-09-28       0             NaN\n314   YQ     91  R0485  8110020104   3m 2023-09-28       0             NaN\n315   YQ     87  R0120  8110020106   3m 2023-09-28       0             NaN\n316   IJ     15  R0591  8110050092   3m 2023-09-29       0             NaN\n317   IJ      9  R0460  8110090003   3m 2023-09-29       0             NaN\n\n[318 rows x 8 columns]",
      "text/html": "<div>\n<style scoped>\n    .dataframe tbody tr th:only-of-type {\n        vertical-align: middle;\n    }\n\n    .dataframe tbody tr th {\n        vertical-align: top;\n    }\n\n    .dataframe thead th {\n        text-align: right;\n    }\n</style>\n<table border=\"1\" class=\"dataframe\">\n  <thead>\n    <tr style=\"text-align: right;\">\n      <th></th>\n      <th>fusp</th>\n      <th>fuspi</th>\n      <th>rid</th>\n      <th>fcid</th>\n      <th>type</th>\n      <th>date</th>\n      <th>status</th>\n      <th>closure_reason</th>\n    </tr>\n  </thead>\n  <tbody>\n    <tr>\n      <th>0</th>\n      <td>YQ</td>\n      <td>3</td>\n      <td>R0010</td>\n      <td>8110020013</td>\n      <td>6m</td>\n      <td>2020-02-15</td>\n      <td>1</td>\n      <td>1.0</td>\n    </tr>\n    <tr>\n      <th>1</th>\n      <td>YQ</td>\n      <td>9</td>\n      <td>R0005</td>\n      <td>8110020021</td>\n      <td>6m</td>\n      <td>2020-02-15</td>\n      <td>1</td>\n      <td>1.0</td>\n    </tr>\n    <tr>\n      <th>2</th>\n      <td>YQ</td>\n      <td>5</td>\n      <td>R0006</td>\n      <td>8110020017</td>\n      <td>6m</td>\n      <td>2020-03-02</td>\n      <td>1</td>\n      <td>1.0</td>\n    </tr>\n    <tr>\n      <th>3</th>\n      <td>YQ</td>\n      <td>9</td>\n      <td>R0005</td>\n      <td>8110020021</td>\n      <td>12m</td>\n      <td>2020-08-16</td>\n      <td>1</td>\n      <td>1.0</td>\n    </tr>\n    <tr>\n      <th>4</th>\n      <td>YQ</td>\n      <td>3</td>\n      <td>R0010</td>\n      <td>8110020013</td>\n      <td>12m</td>\n      <td>2020-08-19</td>\n      <td>1</td>\n      <td>1.0</td>\n    </tr>\n    <tr>\n      <th>...</th>\n      <td>...</td>\n      <td>...</td>\n      <td>...</td>\n      <td>...</td>\n      <td>...</td>\n      <td>...</td>\n      <td>...</td>\n      <td>...</td>\n    </tr>\n    <tr>\n      <th>313</th>\n      <td>SA</td>\n      <td>59</td>\n      <td>R0444</td>\n      <td>8110050070</td>\n      <td>3m</td>\n      <td>2023-09-28</td>\n      <td>0</td>\n      <td>NaN</td>\n    </tr>\n    <tr>\n      <th>314</th>\n      <td>YQ</td>\n      <td>91</td>\n      <td>R0485</td>\n      <td>8110020104</td>\n      <td>3m</td>\n      <td>2023-09-28</td>\n      <td>0</td>\n      <td>NaN</td>\n    </tr>\n    <tr>\n      <th>315</th>\n      <td>YQ</td>\n      <td>87</td>\n      <td>R0120</td>\n      <td>8110020106</td>\n      <td>3m</td>\n      <td>2023-09-28</td>\n      <td>0</td>\n      <td>NaN</td>\n    </tr>\n    <tr>\n      <th>316</th>\n      <td>IJ</td>\n      <td>15</td>\n      <td>R0591</td>\n      <td>8110050092</td>\n      <td>3m</td>\n      <td>2023-09-29</td>\n      <td>0</td>\n      <td>NaN</td>\n    </tr>\n    <tr>\n      <th>317</th>\n      <td>IJ</td>\n      <td>9</td>\n      <td>R0460</td>\n      <td>8110090003</td>\n      <td>3m</td>\n      <td>2023-09-29</td>\n      <td>0</td>\n      <td>NaN</td>\n    </tr>\n  </tbody>\n</table>\n<p>318 rows × 8 columns</p>\n</div>"
     },
     "execution_count": 17,
     "metadata": {},
     "output_type": "execute_result"
    }
   ],
   "source": [
    "follow_up"
   ],
   "metadata": {
    "collapsed": false,
    "ExecuteTime": {
     "end_time": "2023-10-23T07:54:23.025099900Z",
     "start_time": "2023-10-23T07:54:23.010087300Z"
    }
   },
   "id": "8897668a8dcc2597"
  },
  {
   "cell_type": "code",
   "execution_count": 18,
   "outputs": [],
   "source": [
    "follow_up23 = follow_up[(follow_up['date'] > threshold_date)]"
   ],
   "metadata": {
    "collapsed": false,
    "ExecuteTime": {
     "end_time": "2023-10-23T07:54:51.728456900Z",
     "start_time": "2023-10-23T07:54:51.703029500Z"
    }
   },
   "id": "3ffd71a80f5cff0e"
  },
  {
   "cell_type": "code",
   "execution_count": 19,
   "outputs": [
    {
     "data": {
      "text/plain": "    fusp  fuspi    rid        fcid type       date  status  closure_reason\n189   SA      6  R0063  8110050010  12m 2022-10-13       1             1.0\n190   SA     16  R0066  8110060006  12m 2022-10-13       1             1.0\n191   YQ     59  R0185  8110020066   6m 2022-10-20       1             1.0\n192   YQ     81  R0415  8110020102   3m 2022-12-01       0             NaN\n193   YQ     63  R0189  8110050033   6m 2022-12-07       1             1.0\n..   ...    ...    ...         ...  ...        ...     ...             ...\n313   SA     59  R0444  8110050070   3m 2023-09-28       0             NaN\n314   YQ     91  R0485  8110020104   3m 2023-09-28       0             NaN\n315   YQ     87  R0120  8110020106   3m 2023-09-28       0             NaN\n316   IJ     15  R0591  8110050092   3m 2023-09-29       0             NaN\n317   IJ      9  R0460  8110090003   3m 2023-09-29       0             NaN\n\n[129 rows x 8 columns]",
      "text/html": "<div>\n<style scoped>\n    .dataframe tbody tr th:only-of-type {\n        vertical-align: middle;\n    }\n\n    .dataframe tbody tr th {\n        vertical-align: top;\n    }\n\n    .dataframe thead th {\n        text-align: right;\n    }\n</style>\n<table border=\"1\" class=\"dataframe\">\n  <thead>\n    <tr style=\"text-align: right;\">\n      <th></th>\n      <th>fusp</th>\n      <th>fuspi</th>\n      <th>rid</th>\n      <th>fcid</th>\n      <th>type</th>\n      <th>date</th>\n      <th>status</th>\n      <th>closure_reason</th>\n    </tr>\n  </thead>\n  <tbody>\n    <tr>\n      <th>189</th>\n      <td>SA</td>\n      <td>6</td>\n      <td>R0063</td>\n      <td>8110050010</td>\n      <td>12m</td>\n      <td>2022-10-13</td>\n      <td>1</td>\n      <td>1.0</td>\n    </tr>\n    <tr>\n      <th>190</th>\n      <td>SA</td>\n      <td>16</td>\n      <td>R0066</td>\n      <td>8110060006</td>\n      <td>12m</td>\n      <td>2022-10-13</td>\n      <td>1</td>\n      <td>1.0</td>\n    </tr>\n    <tr>\n      <th>191</th>\n      <td>YQ</td>\n      <td>59</td>\n      <td>R0185</td>\n      <td>8110020066</td>\n      <td>6m</td>\n      <td>2022-10-20</td>\n      <td>1</td>\n      <td>1.0</td>\n    </tr>\n    <tr>\n      <th>192</th>\n      <td>YQ</td>\n      <td>81</td>\n      <td>R0415</td>\n      <td>8110020102</td>\n      <td>3m</td>\n      <td>2022-12-01</td>\n      <td>0</td>\n      <td>NaN</td>\n    </tr>\n    <tr>\n      <th>193</th>\n      <td>YQ</td>\n      <td>63</td>\n      <td>R0189</td>\n      <td>8110050033</td>\n      <td>6m</td>\n      <td>2022-12-07</td>\n      <td>1</td>\n      <td>1.0</td>\n    </tr>\n    <tr>\n      <th>...</th>\n      <td>...</td>\n      <td>...</td>\n      <td>...</td>\n      <td>...</td>\n      <td>...</td>\n      <td>...</td>\n      <td>...</td>\n      <td>...</td>\n    </tr>\n    <tr>\n      <th>313</th>\n      <td>SA</td>\n      <td>59</td>\n      <td>R0444</td>\n      <td>8110050070</td>\n      <td>3m</td>\n      <td>2023-09-28</td>\n      <td>0</td>\n      <td>NaN</td>\n    </tr>\n    <tr>\n      <th>314</th>\n      <td>YQ</td>\n      <td>91</td>\n      <td>R0485</td>\n      <td>8110020104</td>\n      <td>3m</td>\n      <td>2023-09-28</td>\n      <td>0</td>\n      <td>NaN</td>\n    </tr>\n    <tr>\n      <th>315</th>\n      <td>YQ</td>\n      <td>87</td>\n      <td>R0120</td>\n      <td>8110020106</td>\n      <td>3m</td>\n      <td>2023-09-28</td>\n      <td>0</td>\n      <td>NaN</td>\n    </tr>\n    <tr>\n      <th>316</th>\n      <td>IJ</td>\n      <td>15</td>\n      <td>R0591</td>\n      <td>8110050092</td>\n      <td>3m</td>\n      <td>2023-09-29</td>\n      <td>0</td>\n      <td>NaN</td>\n    </tr>\n    <tr>\n      <th>317</th>\n      <td>IJ</td>\n      <td>9</td>\n      <td>R0460</td>\n      <td>8110090003</td>\n      <td>3m</td>\n      <td>2023-09-29</td>\n      <td>0</td>\n      <td>NaN</td>\n    </tr>\n  </tbody>\n</table>\n<p>129 rows × 8 columns</p>\n</div>"
     },
     "execution_count": 19,
     "metadata": {},
     "output_type": "execute_result"
    }
   ],
   "source": [
    "follow_up23"
   ],
   "metadata": {
    "collapsed": false,
    "ExecuteTime": {
     "end_time": "2023-10-23T07:54:55.175863400Z",
     "start_time": "2023-10-23T07:54:55.175337400Z"
    }
   },
   "id": "72d87f877f7c5d7c"
  },
  {
   "cell_type": "code",
   "execution_count": 21,
   "outputs": [],
   "source": [
    "fu23_sex = pd.merge(follow_up23, unique_scr[['rid', 'sex']], on='rid', how='left')"
   ],
   "metadata": {
    "collapsed": false,
    "ExecuteTime": {
     "end_time": "2023-10-23T07:59:28.802689200Z",
     "start_time": "2023-10-23T07:59:28.774729800Z"
    }
   },
   "id": "4c11a950c5b352f"
  },
  {
   "cell_type": "code",
   "execution_count": 28,
   "outputs": [
    {
     "data": {
      "text/plain": "    fusp  fuspi    rid        fcid type       date  status  closure_reason  \\\n0     SA      6  R0063  8110050010  12m 2022-10-13       1             1.0   \n1     SA     16  R0066  8110060006  12m 2022-10-13       1             1.0   \n2     YQ     59  R0185  8110020066   6m 2022-10-20       1             1.0   \n3     YQ     81  R0415  8110020102   3m 2022-12-01       0             NaN   \n4     YQ     63  R0189  8110050033   6m 2022-12-07       1             1.0   \n..   ...    ...    ...         ...  ...        ...     ...             ...   \n124   SA     59  R0444  8110050070   3m 2023-09-28       0             NaN   \n125   YQ     91  R0485  8110020104   3m 2023-09-28       0             NaN   \n126   YQ     87  R0120  8110020106   3m 2023-09-28       0             NaN   \n127   IJ     15  R0591  8110050092   3m 2023-09-29       0             NaN   \n128   IJ      9  R0460  8110090003   3m 2023-09-29       0             NaN   \n\n     sex  \n0      1  \n1      1  \n2      2  \n3      2  \n4      1  \n..   ...  \n124    1  \n125    2  \n126    2  \n127    1  \n128    1  \n\n[95 rows x 9 columns]",
      "text/html": "<div>\n<style scoped>\n    .dataframe tbody tr th:only-of-type {\n        vertical-align: middle;\n    }\n\n    .dataframe tbody tr th {\n        vertical-align: top;\n    }\n\n    .dataframe thead th {\n        text-align: right;\n    }\n</style>\n<table border=\"1\" class=\"dataframe\">\n  <thead>\n    <tr style=\"text-align: right;\">\n      <th></th>\n      <th>fusp</th>\n      <th>fuspi</th>\n      <th>rid</th>\n      <th>fcid</th>\n      <th>type</th>\n      <th>date</th>\n      <th>status</th>\n      <th>closure_reason</th>\n      <th>sex</th>\n    </tr>\n  </thead>\n  <tbody>\n    <tr>\n      <th>0</th>\n      <td>SA</td>\n      <td>6</td>\n      <td>R0063</td>\n      <td>8110050010</td>\n      <td>12m</td>\n      <td>2022-10-13</td>\n      <td>1</td>\n      <td>1.0</td>\n      <td>1</td>\n    </tr>\n    <tr>\n      <th>1</th>\n      <td>SA</td>\n      <td>16</td>\n      <td>R0066</td>\n      <td>8110060006</td>\n      <td>12m</td>\n      <td>2022-10-13</td>\n      <td>1</td>\n      <td>1.0</td>\n      <td>1</td>\n    </tr>\n    <tr>\n      <th>2</th>\n      <td>YQ</td>\n      <td>59</td>\n      <td>R0185</td>\n      <td>8110020066</td>\n      <td>6m</td>\n      <td>2022-10-20</td>\n      <td>1</td>\n      <td>1.0</td>\n      <td>2</td>\n    </tr>\n    <tr>\n      <th>3</th>\n      <td>YQ</td>\n      <td>81</td>\n      <td>R0415</td>\n      <td>8110020102</td>\n      <td>3m</td>\n      <td>2022-12-01</td>\n      <td>0</td>\n      <td>NaN</td>\n      <td>2</td>\n    </tr>\n    <tr>\n      <th>4</th>\n      <td>YQ</td>\n      <td>63</td>\n      <td>R0189</td>\n      <td>8110050033</td>\n      <td>6m</td>\n      <td>2022-12-07</td>\n      <td>1</td>\n      <td>1.0</td>\n      <td>1</td>\n    </tr>\n    <tr>\n      <th>...</th>\n      <td>...</td>\n      <td>...</td>\n      <td>...</td>\n      <td>...</td>\n      <td>...</td>\n      <td>...</td>\n      <td>...</td>\n      <td>...</td>\n      <td>...</td>\n    </tr>\n    <tr>\n      <th>124</th>\n      <td>SA</td>\n      <td>59</td>\n      <td>R0444</td>\n      <td>8110050070</td>\n      <td>3m</td>\n      <td>2023-09-28</td>\n      <td>0</td>\n      <td>NaN</td>\n      <td>1</td>\n    </tr>\n    <tr>\n      <th>125</th>\n      <td>YQ</td>\n      <td>91</td>\n      <td>R0485</td>\n      <td>8110020104</td>\n      <td>3m</td>\n      <td>2023-09-28</td>\n      <td>0</td>\n      <td>NaN</td>\n      <td>2</td>\n    </tr>\n    <tr>\n      <th>126</th>\n      <td>YQ</td>\n      <td>87</td>\n      <td>R0120</td>\n      <td>8110020106</td>\n      <td>3m</td>\n      <td>2023-09-28</td>\n      <td>0</td>\n      <td>NaN</td>\n      <td>2</td>\n    </tr>\n    <tr>\n      <th>127</th>\n      <td>IJ</td>\n      <td>15</td>\n      <td>R0591</td>\n      <td>8110050092</td>\n      <td>3m</td>\n      <td>2023-09-29</td>\n      <td>0</td>\n      <td>NaN</td>\n      <td>1</td>\n    </tr>\n    <tr>\n      <th>128</th>\n      <td>IJ</td>\n      <td>9</td>\n      <td>R0460</td>\n      <td>8110090003</td>\n      <td>3m</td>\n      <td>2023-09-29</td>\n      <td>0</td>\n      <td>NaN</td>\n      <td>1</td>\n    </tr>\n  </tbody>\n</table>\n<p>95 rows × 9 columns</p>\n</div>"
     },
     "execution_count": 28,
     "metadata": {},
     "output_type": "execute_result"
    }
   ],
   "source": [
    "unique_client_fu23_sex = fu23_sex.drop_duplicates(subset='rid')\n",
    "unique_client_fu23_sex"
   ],
   "metadata": {
    "collapsed": false,
    "ExecuteTime": {
     "end_time": "2023-10-23T08:31:18.644127800Z",
     "start_time": "2023-10-23T08:31:18.614227500Z"
    }
   },
   "id": "f13e2cc23932a95e"
  },
  {
   "cell_type": "code",
   "execution_count": 27,
   "outputs": [
    {
     "data": {
      "text/plain": "       N       %\nsex             \n1     85  89.47%\n2      9   9.47%\n<NA>   1   1.05%",
      "text/html": "<div>\n<style scoped>\n    .dataframe tbody tr th:only-of-type {\n        vertical-align: middle;\n    }\n\n    .dataframe tbody tr th {\n        vertical-align: top;\n    }\n\n    .dataframe thead th {\n        text-align: right;\n    }\n</style>\n<table border=\"1\" class=\"dataframe\">\n  <thead>\n    <tr style=\"text-align: right;\">\n      <th></th>\n      <th>N</th>\n      <th>%</th>\n    </tr>\n    <tr>\n      <th>sex</th>\n      <th></th>\n      <th></th>\n    </tr>\n  </thead>\n  <tbody>\n    <tr>\n      <th>1</th>\n      <td>85</td>\n      <td>89.47%</td>\n    </tr>\n    <tr>\n      <th>2</th>\n      <td>9</td>\n      <td>9.47%</td>\n    </tr>\n    <tr>\n      <th>&lt;NA&gt;</th>\n      <td>1</td>\n      <td>1.05%</td>\n    </tr>\n  </tbody>\n</table>\n</div>"
     },
     "execution_count": 27,
     "metadata": {},
     "output_type": "execute_result"
    }
   ],
   "source": [
    "normalized_value_counts(unique_client_fu23_sex['sex'])"
   ],
   "metadata": {
    "collapsed": false,
    "ExecuteTime": {
     "end_time": "2023-10-23T08:24:58.464689400Z",
     "start_time": "2023-10-23T08:24:58.420866500Z"
    }
   },
   "id": "c9b41c59cfe19ffa"
  },
  {
   "cell_type": "code",
   "execution_count": 30,
   "outputs": [],
   "source": [
    "normalized_value_counts(fu23_sex['type']).to_clipboard()"
   ],
   "metadata": {
    "collapsed": false,
    "ExecuteTime": {
     "end_time": "2023-10-23T08:51:43.943088800Z",
     "start_time": "2023-10-23T08:51:43.892920700Z"
    }
   },
   "id": "424b7c89af7d1f0b"
  },
  {
   "cell_type": "code",
   "execution_count": 31,
   "outputs": [
    {
     "data": {
      "text/plain": "                 N       %\nclosure_reason            \nNaN             48  50.53%\n1.0             45  47.37%\n-2.0             1   1.05%\n-7.0             1   1.05%",
      "text/html": "<div>\n<style scoped>\n    .dataframe tbody tr th:only-of-type {\n        vertical-align: middle;\n    }\n\n    .dataframe tbody tr th {\n        vertical-align: top;\n    }\n\n    .dataframe thead th {\n        text-align: right;\n    }\n</style>\n<table border=\"1\" class=\"dataframe\">\n  <thead>\n    <tr style=\"text-align: right;\">\n      <th></th>\n      <th>N</th>\n      <th>%</th>\n    </tr>\n    <tr>\n      <th>closure_reason</th>\n      <th></th>\n      <th></th>\n    </tr>\n  </thead>\n  <tbody>\n    <tr>\n      <th>NaN</th>\n      <td>48</td>\n      <td>50.53%</td>\n    </tr>\n    <tr>\n      <th>1.0</th>\n      <td>45</td>\n      <td>47.37%</td>\n    </tr>\n    <tr>\n      <th>-2.0</th>\n      <td>1</td>\n      <td>1.05%</td>\n    </tr>\n    <tr>\n      <th>-7.0</th>\n      <td>1</td>\n      <td>1.05%</td>\n    </tr>\n  </tbody>\n</table>\n</div>"
     },
     "execution_count": 31,
     "metadata": {},
     "output_type": "execute_result"
    }
   ],
   "source": [
    "normalized_value_counts(unique_client_fu23_sex['closure_reason'])"
   ],
   "metadata": {
    "collapsed": false,
    "ExecuteTime": {
     "end_time": "2023-10-23T09:10:34.557270500Z",
     "start_time": "2023-10-23T09:10:34.527227Z"
    }
   },
   "id": "6c5b11a6f3e72979"
  }
 ],
 "metadata": {
  "kernelspec": {
   "display_name": "Python 3",
   "language": "python",
   "name": "python3"
  },
  "language_info": {
   "codemirror_mode": {
    "name": "ipython",
    "version": 2
   },
   "file_extension": ".py",
   "mimetype": "text/x-python",
   "name": "python",
   "nbconvert_exporter": "python",
   "pygments_lexer": "ipython2",
   "version": "2.7.6"
  }
 },
 "nbformat": 4,
 "nbformat_minor": 5
}
