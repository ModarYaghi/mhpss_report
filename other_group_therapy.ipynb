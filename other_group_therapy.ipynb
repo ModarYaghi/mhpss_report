{
 "cells": [
  {
   "cell_type": "code",
   "execution_count": 1,
   "id": "initial_id",
   "metadata": {
    "collapsed": true,
    "ExecuteTime": {
     "end_time": "2023-10-23T11:58:53.868389100Z",
     "start_time": "2023-10-23T11:58:53.226200100Z"
    }
   },
   "outputs": [],
   "source": [
    "import pandas as pd\n",
    "from column_names_groups import *\n",
    "from mfyfunctions import *\n",
    "from analysis_functions import *"
   ]
  },
  {
   "cell_type": "code",
   "execution_count": 2,
   "outputs": [],
   "source": [
    "pd.set_option('display.float_format', '{:.1f}'.format)\n",
    "pd.set_option('display.max_colwidth', None)\n",
    "# noinspection PyTypeChecker\n",
    "threshold_date = pd.Timestamp('2022-09-30')"
   ],
   "metadata": {
    "collapsed": false,
    "ExecuteTime": {
     "end_time": "2023-10-23T11:58:54.486017700Z",
     "start_time": "2023-10-23T11:58:54.461075100Z"
    }
   },
   "id": "58f2c432c582f38c"
  },
  {
   "cell_type": "code",
   "execution_count": null,
   "outputs": [],
   "source": [
    "# pei = pd.read_csv(r'011/datasets/0101_ps_pe_092310.csv')\n",
    "# pei[pei_date_columns] = pei[pei_date_columns].apply(pd.to_datetime)"
   ],
   "metadata": {
    "collapsed": false
   },
   "id": "e17083ab8996a257"
  },
  {
   "cell_type": "code",
   "execution_count": 3,
   "outputs": [],
   "source": [
    "# Calling screening dataset to get some information for intake\n",
    "scr = pd.read_csv(r'011/datasets/0000_ps_sc_092310.csv')\n",
    "scr[screening_date_columns] = scr[screening_date_columns].apply(pd.to_datetime)\n",
    "scr[screening_all_int_columns] = scr[screening_all_int_columns].astype('Int64')\n",
    "unique_scr = scr.drop_duplicates(subset='rid')"
   ],
   "metadata": {
    "collapsed": false,
    "ExecuteTime": {
     "end_time": "2023-10-23T11:58:59.786302500Z",
     "start_time": "2023-10-23T11:58:59.746037900Z"
    }
   },
   "id": "81ad154ac43f04fa"
  },
  {
   "cell_type": "code",
   "execution_count": null,
   "outputs": [],
   "source": [
    "# pei"
   ],
   "metadata": {
    "collapsed": false
   },
   "id": "fd73d46ae3bc8617"
  },
  {
   "cell_type": "code",
   "execution_count": null,
   "outputs": [],
   "source": [
    "# pei = pd.merge(pei, unique_scr[['rid', 'sex', 'age']], on='rid', how='left')\n",
    "# pei"
   ],
   "metadata": {
    "collapsed": false
   },
   "id": "1dc1ff5005bd34fe"
  },
  {
   "cell_type": "code",
   "execution_count": null,
   "outputs": [],
   "source": [
    "# pei['pef'].value_counts()"
   ],
   "metadata": {
    "collapsed": false
   },
   "id": "42065e54dcccb15f"
  },
  {
   "cell_type": "code",
   "execution_count": null,
   "outputs": [],
   "source": [
    "# trw = pd.read_csv(r'011/datasets/0110_ps_tr_092310.csv')\n",
    "# trw[trw_date_columns] = trw[trw_date_columns].apply(pd.to_datetime)"
   ],
   "metadata": {
    "collapsed": false
   },
   "id": "6afb603164ea4496"
  },
  {
   "cell_type": "code",
   "execution_count": null,
   "outputs": [],
   "source": [
    "# trw_sex = pd.merge(trw, unique_scr[['rid', 'sex']], on='rid', how='left')\n",
    "# trw23 = trw_sex[(trw_sex[trw_date_columns] > threshold_date).any(axis=1)]"
   ],
   "metadata": {
    "collapsed": false
   },
   "id": "e50092525aedd107"
  },
  {
   "cell_type": "code",
   "execution_count": null,
   "outputs": [],
   "source": [
    "# trw23"
   ],
   "metadata": {
    "collapsed": false
   },
   "id": "ad6f2647ac17f65b"
  },
  {
   "cell_type": "code",
   "execution_count": 4,
   "outputs": [],
   "source": [
    "td = pd.read_csv(r'011/datasets/0111_ps_td_092310.csv')\n",
    "td[td_date_columns] = td[td_date_columns].apply(pd.to_datetime)"
   ],
   "metadata": {
    "collapsed": false,
    "ExecuteTime": {
     "end_time": "2023-10-23T11:59:06.707117500Z",
     "start_time": "2023-10-23T11:59:06.686062700Z"
    }
   },
   "id": "519bcdf3a46a0d4a"
  },
  {
   "cell_type": "code",
   "execution_count": 5,
   "outputs": [],
   "source": [
    "td_sex = pd.merge(td, unique_scr[['rid','sex']], on='rid', how='left')"
   ],
   "metadata": {
    "collapsed": false,
    "ExecuteTime": {
     "end_time": "2023-10-23T11:59:08.496201400Z",
     "start_time": "2023-10-23T11:59:08.466290Z"
    }
   },
   "id": "6ed67e289b6184c1"
  },
  {
   "cell_type": "code",
   "execution_count": 6,
   "outputs": [],
   "source": [
    "td_sex_cs = td_sex.drop(['is1', 'is2', 'is3', 'tdt'], axis=1)"
   ],
   "metadata": {
    "collapsed": false,
    "ExecuteTime": {
     "end_time": "2023-10-23T11:59:11.371033800Z",
     "start_time": "2023-10-23T11:59:11.345903Z"
    }
   },
   "id": "e50eaaa9a01afafe"
  },
  {
   "cell_type": "code",
   "execution_count": 7,
   "outputs": [],
   "source": [
    "td_sex_cs23 = td_sex_cs[(td_sex_cs[['cslt', 'csnt']] > threshold_date).any(axis=1)]"
   ],
   "metadata": {
    "collapsed": false,
    "ExecuteTime": {
     "end_time": "2023-10-23T11:59:13.478530800Z",
     "start_time": "2023-10-23T11:59:13.457778800Z"
    }
   },
   "id": "cfd76b2e1b5346f5"
  },
  {
   "cell_type": "code",
   "execution_count": 8,
   "outputs": [
    {
     "data": {
      "text/plain": "   tdsp  tdspi    rid        fcid  tdcc       cslt       csnt  ld  iu  cw  \\\n7    YQ      8  R0110  8110050018    11 2022-10-31 2022-10-31   0   1   1   \n8    YQ      9  R0109  8110050020    11 2022-10-31 2022-10-31   1   1   1   \n9    YQ     10  R0096  8110020057    11 2022-10-31 2022-10-31   1   0   1   \n10   YQ     11  R0102  8110050015    11 2022-11-01 2022-11-01   1   1   1   \n11   YQ     12  R0125  8110050025    11 2022-12-05 2022-12-05   0   0   1   \n12   YQ     13  R0129  8110050029    11 2022-12-05 2022-12-05   0   0   1   \n13   YQ     14  R0226  8110050042    11 2022-12-02 2022-12-02   1   1   1   \n14   YQ     15  R0184  8110050032    11 2022-12-02 2022-12-02   0   1   1   \n15   YQ     16  R0346  8110050053    11 2022-12-22 2022-12-22   0   1   1   \n16   YQ     17  R0336  8110050059    11 2022-12-02 2022-12-02   1   1   1   \n17   YQ     18  R0049  8110060002    11 2022-12-21 2022-12-21   1   1   1   \n18   YQ     19  R0057  8110050006    11 2022-12-21 2022-12-21   1   1   1   \n19   YQ     20  R0357  8110050036    11 2022-12-21 2022-12-21   1   1   1   \n20   YQ     21  R0112  8110050019    11 2022-10-31 2022-10-31   0   1   1   \n21   YQ     22  R0114  8110050021    11 2022-10-31 2022-10-31   0   1   1   \n22   YQ     23  R0415  8110020102    11 2023-05-11 2023-05-11   1   1   0   \n23   YQ     24  R0452  8110050080    11 2023-08-23 2023-08-23   1   1   1   \n24   YQ     25  R0534  8110050087    11 2023-08-24 2023-08-24   1   1   1   \n25   YQ     26  R0378  8110050066    11 2023-08-25 2023-08-25   1   0   1   \n31   SA      6  R0400  8110050037    11 2023-06-15 2023-06-15   1   0   1   \n33   SA      8  R0077  8110060007   101 2023-08-01 2023-08-08   1   1   1   \n34   SA      9  R0065  8110060004    11 2023-05-03 2023-05-03   0   1   1   \n35   SA     10  R0066  8110060006    11 2023-05-03 2023-05-03   0   1   1   \n36   SA     11  R0059  8110050007    11 2023-06-21 2023-06-21   0   0   1   \n37   SA     12  R0061  8110020050    11 2023-05-03 2023-05-03   1   1   1   \n38   SA     13  R0118  8110020068    11 2022-11-30 2022-11-30   1   1   1   \n39   SA     14  R0155  8110020067    11 2022-11-30 2022-11-30   1   1   1   \n40   SA     15  R0334  8110020081    11 2022-11-21 2022-11-21   1   1   1   \n41   SA     16  R0140  8110020070    11 2022-11-30 2022-11-30   0   1   1   \n42   SA     17  R0255  8110070004    11 2022-12-19 2022-12-19   0   1   1   \n43   SA     18  R0089  8110060012    11 2022-12-01 2022-12-01   1   1   1   \n44   SA     19  R0094  8110050013    11 2022-10-31 2022-10-31   0   1   1   \n45   SA     20  R0095  8110050012    11 2022-10-31 2022-10-31   0   1   1   \n46   IJ      1  R0402  8110020119    11 2023-07-24 2023-07-24   0   1   1   \n47   IJ      2  R0314  8110020091    11 2023-07-31 2023-07-31   0   1   1   \n48   IJ      3  R0359  8110050048   101 2023-09-07 2023-09-12   0   1   1   \n49   IJ      4  R0215  8110020080   101 2023-09-07 2023-09-11   0   1   1   \n50   LA      1  R0300  8110020093   101 2023-08-04 2023-07-26   1   1   1   \n51   LA      2  R0083  8110060010    11 2023-09-07 2023-09-07   0   0   1   \n52   LA      3  R0294  8110020113    11 2023-09-11 2023-09-11   0   0   1   \n53   LA      4  R0521  8110020114    11 2023-09-26 2023-09-26   0   0   1   \n54   MT      1  R0501  8110020120   101 2023-08-03 2023-07-28   1   1   1   \n55   MT      2  R0333  8110020107     1 2023-08-03        NaT   1   1   1   \n56   MT      3  R0511  8110020112   101 2023-08-21 2023-08-28   0   1   1   \n57   MT      4  R0406  8110050045   101 2023-08-23 2023-08-29   1   1   1   \n58   MT      5  R0391  8110050067   101 2023-08-29 2023-09-05   1   1   1   \n59   MT      6  R0497  8110020115    11 2023-09-12 2023-09-12   1   1   1   \n60   MT      7  R0367  8110020110    11 2023-09-15 2023-09-15   0   1   1   \n\n    com  adv  tdis   sex  \n7     1    1   110     1  \n8     1    1     0     1  \n9     0    1     0     1  \n10    1    1   111     1  \n11    0    1     0     1  \n12    0    0     0     1  \n13    1    1     0     1  \n14    1    1     0     1  \n15    1    1     0     1  \n16    1    1   110     1  \n17    1    1     0     1  \n18    1    1     0     1  \n19    1    1     0     1  \n20    1    1   110     1  \n21    1    1   110     1  \n22    1    1     0     2  \n23    0    0     0     1  \n24    1    0     0     1  \n25    0    0     0     1  \n31    0    1     0     1  \n33    1    1   110     1  \n34    1    1   110     1  \n35    1    1   111     1  \n36    0    1     0  <NA>  \n37    1    1     0     1  \n38    1    1     0     1  \n39    1    1   110     1  \n40    1    1     0     1  \n41    0    1     0     1  \n42    0    0   110     1  \n43    1    1   110     1  \n44    0    1     0     1  \n45    0    0     0     1  \n46    1    1   111     1  \n47    1    0   110     1  \n48    1    0     0     1  \n49    1    0     0     1  \n50    0    1   111     1  \n51    0    1     0     1  \n52    0    0     0     1  \n53    0    0     0     1  \n54    1    1   110     1  \n55    0    0     0     1  \n56    0    0     0     1  \n57    1    1     0     1  \n58    1    1     0     1  \n59    0    0     0     1  \n60    1    0     0     1  ",
      "text/html": "<div>\n<style scoped>\n    .dataframe tbody tr th:only-of-type {\n        vertical-align: middle;\n    }\n\n    .dataframe tbody tr th {\n        vertical-align: top;\n    }\n\n    .dataframe thead th {\n        text-align: right;\n    }\n</style>\n<table border=\"1\" class=\"dataframe\">\n  <thead>\n    <tr style=\"text-align: right;\">\n      <th></th>\n      <th>tdsp</th>\n      <th>tdspi</th>\n      <th>rid</th>\n      <th>fcid</th>\n      <th>tdcc</th>\n      <th>cslt</th>\n      <th>csnt</th>\n      <th>ld</th>\n      <th>iu</th>\n      <th>cw</th>\n      <th>com</th>\n      <th>adv</th>\n      <th>tdis</th>\n      <th>sex</th>\n    </tr>\n  </thead>\n  <tbody>\n    <tr>\n      <th>7</th>\n      <td>YQ</td>\n      <td>8</td>\n      <td>R0110</td>\n      <td>8110050018</td>\n      <td>11</td>\n      <td>2022-10-31</td>\n      <td>2022-10-31</td>\n      <td>0</td>\n      <td>1</td>\n      <td>1</td>\n      <td>1</td>\n      <td>1</td>\n      <td>110</td>\n      <td>1</td>\n    </tr>\n    <tr>\n      <th>8</th>\n      <td>YQ</td>\n      <td>9</td>\n      <td>R0109</td>\n      <td>8110050020</td>\n      <td>11</td>\n      <td>2022-10-31</td>\n      <td>2022-10-31</td>\n      <td>1</td>\n      <td>1</td>\n      <td>1</td>\n      <td>1</td>\n      <td>1</td>\n      <td>0</td>\n      <td>1</td>\n    </tr>\n    <tr>\n      <th>9</th>\n      <td>YQ</td>\n      <td>10</td>\n      <td>R0096</td>\n      <td>8110020057</td>\n      <td>11</td>\n      <td>2022-10-31</td>\n      <td>2022-10-31</td>\n      <td>1</td>\n      <td>0</td>\n      <td>1</td>\n      <td>0</td>\n      <td>1</td>\n      <td>0</td>\n      <td>1</td>\n    </tr>\n    <tr>\n      <th>10</th>\n      <td>YQ</td>\n      <td>11</td>\n      <td>R0102</td>\n      <td>8110050015</td>\n      <td>11</td>\n      <td>2022-11-01</td>\n      <td>2022-11-01</td>\n      <td>1</td>\n      <td>1</td>\n      <td>1</td>\n      <td>1</td>\n      <td>1</td>\n      <td>111</td>\n      <td>1</td>\n    </tr>\n    <tr>\n      <th>11</th>\n      <td>YQ</td>\n      <td>12</td>\n      <td>R0125</td>\n      <td>8110050025</td>\n      <td>11</td>\n      <td>2022-12-05</td>\n      <td>2022-12-05</td>\n      <td>0</td>\n      <td>0</td>\n      <td>1</td>\n      <td>0</td>\n      <td>1</td>\n      <td>0</td>\n      <td>1</td>\n    </tr>\n    <tr>\n      <th>12</th>\n      <td>YQ</td>\n      <td>13</td>\n      <td>R0129</td>\n      <td>8110050029</td>\n      <td>11</td>\n      <td>2022-12-05</td>\n      <td>2022-12-05</td>\n      <td>0</td>\n      <td>0</td>\n      <td>1</td>\n      <td>0</td>\n      <td>0</td>\n      <td>0</td>\n      <td>1</td>\n    </tr>\n    <tr>\n      <th>13</th>\n      <td>YQ</td>\n      <td>14</td>\n      <td>R0226</td>\n      <td>8110050042</td>\n      <td>11</td>\n      <td>2022-12-02</td>\n      <td>2022-12-02</td>\n      <td>1</td>\n      <td>1</td>\n      <td>1</td>\n      <td>1</td>\n      <td>1</td>\n      <td>0</td>\n      <td>1</td>\n    </tr>\n    <tr>\n      <th>14</th>\n      <td>YQ</td>\n      <td>15</td>\n      <td>R0184</td>\n      <td>8110050032</td>\n      <td>11</td>\n      <td>2022-12-02</td>\n      <td>2022-12-02</td>\n      <td>0</td>\n      <td>1</td>\n      <td>1</td>\n      <td>1</td>\n      <td>1</td>\n      <td>0</td>\n      <td>1</td>\n    </tr>\n    <tr>\n      <th>15</th>\n      <td>YQ</td>\n      <td>16</td>\n      <td>R0346</td>\n      <td>8110050053</td>\n      <td>11</td>\n      <td>2022-12-22</td>\n      <td>2022-12-22</td>\n      <td>0</td>\n      <td>1</td>\n      <td>1</td>\n      <td>1</td>\n      <td>1</td>\n      <td>0</td>\n      <td>1</td>\n    </tr>\n    <tr>\n      <th>16</th>\n      <td>YQ</td>\n      <td>17</td>\n      <td>R0336</td>\n      <td>8110050059</td>\n      <td>11</td>\n      <td>2022-12-02</td>\n      <td>2022-12-02</td>\n      <td>1</td>\n      <td>1</td>\n      <td>1</td>\n      <td>1</td>\n      <td>1</td>\n      <td>110</td>\n      <td>1</td>\n    </tr>\n    <tr>\n      <th>17</th>\n      <td>YQ</td>\n      <td>18</td>\n      <td>R0049</td>\n      <td>8110060002</td>\n      <td>11</td>\n      <td>2022-12-21</td>\n      <td>2022-12-21</td>\n      <td>1</td>\n      <td>1</td>\n      <td>1</td>\n      <td>1</td>\n      <td>1</td>\n      <td>0</td>\n      <td>1</td>\n    </tr>\n    <tr>\n      <th>18</th>\n      <td>YQ</td>\n      <td>19</td>\n      <td>R0057</td>\n      <td>8110050006</td>\n      <td>11</td>\n      <td>2022-12-21</td>\n      <td>2022-12-21</td>\n      <td>1</td>\n      <td>1</td>\n      <td>1</td>\n      <td>1</td>\n      <td>1</td>\n      <td>0</td>\n      <td>1</td>\n    </tr>\n    <tr>\n      <th>19</th>\n      <td>YQ</td>\n      <td>20</td>\n      <td>R0357</td>\n      <td>8110050036</td>\n      <td>11</td>\n      <td>2022-12-21</td>\n      <td>2022-12-21</td>\n      <td>1</td>\n      <td>1</td>\n      <td>1</td>\n      <td>1</td>\n      <td>1</td>\n      <td>0</td>\n      <td>1</td>\n    </tr>\n    <tr>\n      <th>20</th>\n      <td>YQ</td>\n      <td>21</td>\n      <td>R0112</td>\n      <td>8110050019</td>\n      <td>11</td>\n      <td>2022-10-31</td>\n      <td>2022-10-31</td>\n      <td>0</td>\n      <td>1</td>\n      <td>1</td>\n      <td>1</td>\n      <td>1</td>\n      <td>110</td>\n      <td>1</td>\n    </tr>\n    <tr>\n      <th>21</th>\n      <td>YQ</td>\n      <td>22</td>\n      <td>R0114</td>\n      <td>8110050021</td>\n      <td>11</td>\n      <td>2022-10-31</td>\n      <td>2022-10-31</td>\n      <td>0</td>\n      <td>1</td>\n      <td>1</td>\n      <td>1</td>\n      <td>1</td>\n      <td>110</td>\n      <td>1</td>\n    </tr>\n    <tr>\n      <th>22</th>\n      <td>YQ</td>\n      <td>23</td>\n      <td>R0415</td>\n      <td>8110020102</td>\n      <td>11</td>\n      <td>2023-05-11</td>\n      <td>2023-05-11</td>\n      <td>1</td>\n      <td>1</td>\n      <td>0</td>\n      <td>1</td>\n      <td>1</td>\n      <td>0</td>\n      <td>2</td>\n    </tr>\n    <tr>\n      <th>23</th>\n      <td>YQ</td>\n      <td>24</td>\n      <td>R0452</td>\n      <td>8110050080</td>\n      <td>11</td>\n      <td>2023-08-23</td>\n      <td>2023-08-23</td>\n      <td>1</td>\n      <td>1</td>\n      <td>1</td>\n      <td>0</td>\n      <td>0</td>\n      <td>0</td>\n      <td>1</td>\n    </tr>\n    <tr>\n      <th>24</th>\n      <td>YQ</td>\n      <td>25</td>\n      <td>R0534</td>\n      <td>8110050087</td>\n      <td>11</td>\n      <td>2023-08-24</td>\n      <td>2023-08-24</td>\n      <td>1</td>\n      <td>1</td>\n      <td>1</td>\n      <td>1</td>\n      <td>0</td>\n      <td>0</td>\n      <td>1</td>\n    </tr>\n    <tr>\n      <th>25</th>\n      <td>YQ</td>\n      <td>26</td>\n      <td>R0378</td>\n      <td>8110050066</td>\n      <td>11</td>\n      <td>2023-08-25</td>\n      <td>2023-08-25</td>\n      <td>1</td>\n      <td>0</td>\n      <td>1</td>\n      <td>0</td>\n      <td>0</td>\n      <td>0</td>\n      <td>1</td>\n    </tr>\n    <tr>\n      <th>31</th>\n      <td>SA</td>\n      <td>6</td>\n      <td>R0400</td>\n      <td>8110050037</td>\n      <td>11</td>\n      <td>2023-06-15</td>\n      <td>2023-06-15</td>\n      <td>1</td>\n      <td>0</td>\n      <td>1</td>\n      <td>0</td>\n      <td>1</td>\n      <td>0</td>\n      <td>1</td>\n    </tr>\n    <tr>\n      <th>33</th>\n      <td>SA</td>\n      <td>8</td>\n      <td>R0077</td>\n      <td>8110060007</td>\n      <td>101</td>\n      <td>2023-08-01</td>\n      <td>2023-08-08</td>\n      <td>1</td>\n      <td>1</td>\n      <td>1</td>\n      <td>1</td>\n      <td>1</td>\n      <td>110</td>\n      <td>1</td>\n    </tr>\n    <tr>\n      <th>34</th>\n      <td>SA</td>\n      <td>9</td>\n      <td>R0065</td>\n      <td>8110060004</td>\n      <td>11</td>\n      <td>2023-05-03</td>\n      <td>2023-05-03</td>\n      <td>0</td>\n      <td>1</td>\n      <td>1</td>\n      <td>1</td>\n      <td>1</td>\n      <td>110</td>\n      <td>1</td>\n    </tr>\n    <tr>\n      <th>35</th>\n      <td>SA</td>\n      <td>10</td>\n      <td>R0066</td>\n      <td>8110060006</td>\n      <td>11</td>\n      <td>2023-05-03</td>\n      <td>2023-05-03</td>\n      <td>0</td>\n      <td>1</td>\n      <td>1</td>\n      <td>1</td>\n      <td>1</td>\n      <td>111</td>\n      <td>1</td>\n    </tr>\n    <tr>\n      <th>36</th>\n      <td>SA</td>\n      <td>11</td>\n      <td>R0059</td>\n      <td>8110050007</td>\n      <td>11</td>\n      <td>2023-06-21</td>\n      <td>2023-06-21</td>\n      <td>0</td>\n      <td>0</td>\n      <td>1</td>\n      <td>0</td>\n      <td>1</td>\n      <td>0</td>\n      <td>&lt;NA&gt;</td>\n    </tr>\n    <tr>\n      <th>37</th>\n      <td>SA</td>\n      <td>12</td>\n      <td>R0061</td>\n      <td>8110020050</td>\n      <td>11</td>\n      <td>2023-05-03</td>\n      <td>2023-05-03</td>\n      <td>1</td>\n      <td>1</td>\n      <td>1</td>\n      <td>1</td>\n      <td>1</td>\n      <td>0</td>\n      <td>1</td>\n    </tr>\n    <tr>\n      <th>38</th>\n      <td>SA</td>\n      <td>13</td>\n      <td>R0118</td>\n      <td>8110020068</td>\n      <td>11</td>\n      <td>2022-11-30</td>\n      <td>2022-11-30</td>\n      <td>1</td>\n      <td>1</td>\n      <td>1</td>\n      <td>1</td>\n      <td>1</td>\n      <td>0</td>\n      <td>1</td>\n    </tr>\n    <tr>\n      <th>39</th>\n      <td>SA</td>\n      <td>14</td>\n      <td>R0155</td>\n      <td>8110020067</td>\n      <td>11</td>\n      <td>2022-11-30</td>\n      <td>2022-11-30</td>\n      <td>1</td>\n      <td>1</td>\n      <td>1</td>\n      <td>1</td>\n      <td>1</td>\n      <td>110</td>\n      <td>1</td>\n    </tr>\n    <tr>\n      <th>40</th>\n      <td>SA</td>\n      <td>15</td>\n      <td>R0334</td>\n      <td>8110020081</td>\n      <td>11</td>\n      <td>2022-11-21</td>\n      <td>2022-11-21</td>\n      <td>1</td>\n      <td>1</td>\n      <td>1</td>\n      <td>1</td>\n      <td>1</td>\n      <td>0</td>\n      <td>1</td>\n    </tr>\n    <tr>\n      <th>41</th>\n      <td>SA</td>\n      <td>16</td>\n      <td>R0140</td>\n      <td>8110020070</td>\n      <td>11</td>\n      <td>2022-11-30</td>\n      <td>2022-11-30</td>\n      <td>0</td>\n      <td>1</td>\n      <td>1</td>\n      <td>0</td>\n      <td>1</td>\n      <td>0</td>\n      <td>1</td>\n    </tr>\n    <tr>\n      <th>42</th>\n      <td>SA</td>\n      <td>17</td>\n      <td>R0255</td>\n      <td>8110070004</td>\n      <td>11</td>\n      <td>2022-12-19</td>\n      <td>2022-12-19</td>\n      <td>0</td>\n      <td>1</td>\n      <td>1</td>\n      <td>0</td>\n      <td>0</td>\n      <td>110</td>\n      <td>1</td>\n    </tr>\n    <tr>\n      <th>43</th>\n      <td>SA</td>\n      <td>18</td>\n      <td>R0089</td>\n      <td>8110060012</td>\n      <td>11</td>\n      <td>2022-12-01</td>\n      <td>2022-12-01</td>\n      <td>1</td>\n      <td>1</td>\n      <td>1</td>\n      <td>1</td>\n      <td>1</td>\n      <td>110</td>\n      <td>1</td>\n    </tr>\n    <tr>\n      <th>44</th>\n      <td>SA</td>\n      <td>19</td>\n      <td>R0094</td>\n      <td>8110050013</td>\n      <td>11</td>\n      <td>2022-10-31</td>\n      <td>2022-10-31</td>\n      <td>0</td>\n      <td>1</td>\n      <td>1</td>\n      <td>0</td>\n      <td>1</td>\n      <td>0</td>\n      <td>1</td>\n    </tr>\n    <tr>\n      <th>45</th>\n      <td>SA</td>\n      <td>20</td>\n      <td>R0095</td>\n      <td>8110050012</td>\n      <td>11</td>\n      <td>2022-10-31</td>\n      <td>2022-10-31</td>\n      <td>0</td>\n      <td>1</td>\n      <td>1</td>\n      <td>0</td>\n      <td>0</td>\n      <td>0</td>\n      <td>1</td>\n    </tr>\n    <tr>\n      <th>46</th>\n      <td>IJ</td>\n      <td>1</td>\n      <td>R0402</td>\n      <td>8110020119</td>\n      <td>11</td>\n      <td>2023-07-24</td>\n      <td>2023-07-24</td>\n      <td>0</td>\n      <td>1</td>\n      <td>1</td>\n      <td>1</td>\n      <td>1</td>\n      <td>111</td>\n      <td>1</td>\n    </tr>\n    <tr>\n      <th>47</th>\n      <td>IJ</td>\n      <td>2</td>\n      <td>R0314</td>\n      <td>8110020091</td>\n      <td>11</td>\n      <td>2023-07-31</td>\n      <td>2023-07-31</td>\n      <td>0</td>\n      <td>1</td>\n      <td>1</td>\n      <td>1</td>\n      <td>0</td>\n      <td>110</td>\n      <td>1</td>\n    </tr>\n    <tr>\n      <th>48</th>\n      <td>IJ</td>\n      <td>3</td>\n      <td>R0359</td>\n      <td>8110050048</td>\n      <td>101</td>\n      <td>2023-09-07</td>\n      <td>2023-09-12</td>\n      <td>0</td>\n      <td>1</td>\n      <td>1</td>\n      <td>1</td>\n      <td>0</td>\n      <td>0</td>\n      <td>1</td>\n    </tr>\n    <tr>\n      <th>49</th>\n      <td>IJ</td>\n      <td>4</td>\n      <td>R0215</td>\n      <td>8110020080</td>\n      <td>101</td>\n      <td>2023-09-07</td>\n      <td>2023-09-11</td>\n      <td>0</td>\n      <td>1</td>\n      <td>1</td>\n      <td>1</td>\n      <td>0</td>\n      <td>0</td>\n      <td>1</td>\n    </tr>\n    <tr>\n      <th>50</th>\n      <td>LA</td>\n      <td>1</td>\n      <td>R0300</td>\n      <td>8110020093</td>\n      <td>101</td>\n      <td>2023-08-04</td>\n      <td>2023-07-26</td>\n      <td>1</td>\n      <td>1</td>\n      <td>1</td>\n      <td>0</td>\n      <td>1</td>\n      <td>111</td>\n      <td>1</td>\n    </tr>\n    <tr>\n      <th>51</th>\n      <td>LA</td>\n      <td>2</td>\n      <td>R0083</td>\n      <td>8110060010</td>\n      <td>11</td>\n      <td>2023-09-07</td>\n      <td>2023-09-07</td>\n      <td>0</td>\n      <td>0</td>\n      <td>1</td>\n      <td>0</td>\n      <td>1</td>\n      <td>0</td>\n      <td>1</td>\n    </tr>\n    <tr>\n      <th>52</th>\n      <td>LA</td>\n      <td>3</td>\n      <td>R0294</td>\n      <td>8110020113</td>\n      <td>11</td>\n      <td>2023-09-11</td>\n      <td>2023-09-11</td>\n      <td>0</td>\n      <td>0</td>\n      <td>1</td>\n      <td>0</td>\n      <td>0</td>\n      <td>0</td>\n      <td>1</td>\n    </tr>\n    <tr>\n      <th>53</th>\n      <td>LA</td>\n      <td>4</td>\n      <td>R0521</td>\n      <td>8110020114</td>\n      <td>11</td>\n      <td>2023-09-26</td>\n      <td>2023-09-26</td>\n      <td>0</td>\n      <td>0</td>\n      <td>1</td>\n      <td>0</td>\n      <td>0</td>\n      <td>0</td>\n      <td>1</td>\n    </tr>\n    <tr>\n      <th>54</th>\n      <td>MT</td>\n      <td>1</td>\n      <td>R0501</td>\n      <td>8110020120</td>\n      <td>101</td>\n      <td>2023-08-03</td>\n      <td>2023-07-28</td>\n      <td>1</td>\n      <td>1</td>\n      <td>1</td>\n      <td>1</td>\n      <td>1</td>\n      <td>110</td>\n      <td>1</td>\n    </tr>\n    <tr>\n      <th>55</th>\n      <td>MT</td>\n      <td>2</td>\n      <td>R0333</td>\n      <td>8110020107</td>\n      <td>1</td>\n      <td>2023-08-03</td>\n      <td>NaT</td>\n      <td>1</td>\n      <td>1</td>\n      <td>1</td>\n      <td>0</td>\n      <td>0</td>\n      <td>0</td>\n      <td>1</td>\n    </tr>\n    <tr>\n      <th>56</th>\n      <td>MT</td>\n      <td>3</td>\n      <td>R0511</td>\n      <td>8110020112</td>\n      <td>101</td>\n      <td>2023-08-21</td>\n      <td>2023-08-28</td>\n      <td>0</td>\n      <td>1</td>\n      <td>1</td>\n      <td>0</td>\n      <td>0</td>\n      <td>0</td>\n      <td>1</td>\n    </tr>\n    <tr>\n      <th>57</th>\n      <td>MT</td>\n      <td>4</td>\n      <td>R0406</td>\n      <td>8110050045</td>\n      <td>101</td>\n      <td>2023-08-23</td>\n      <td>2023-08-29</td>\n      <td>1</td>\n      <td>1</td>\n      <td>1</td>\n      <td>1</td>\n      <td>1</td>\n      <td>0</td>\n      <td>1</td>\n    </tr>\n    <tr>\n      <th>58</th>\n      <td>MT</td>\n      <td>5</td>\n      <td>R0391</td>\n      <td>8110050067</td>\n      <td>101</td>\n      <td>2023-08-29</td>\n      <td>2023-09-05</td>\n      <td>1</td>\n      <td>1</td>\n      <td>1</td>\n      <td>1</td>\n      <td>1</td>\n      <td>0</td>\n      <td>1</td>\n    </tr>\n    <tr>\n      <th>59</th>\n      <td>MT</td>\n      <td>6</td>\n      <td>R0497</td>\n      <td>8110020115</td>\n      <td>11</td>\n      <td>2023-09-12</td>\n      <td>2023-09-12</td>\n      <td>1</td>\n      <td>1</td>\n      <td>1</td>\n      <td>0</td>\n      <td>0</td>\n      <td>0</td>\n      <td>1</td>\n    </tr>\n    <tr>\n      <th>60</th>\n      <td>MT</td>\n      <td>7</td>\n      <td>R0367</td>\n      <td>8110020110</td>\n      <td>11</td>\n      <td>2023-09-15</td>\n      <td>2023-09-15</td>\n      <td>0</td>\n      <td>1</td>\n      <td>1</td>\n      <td>1</td>\n      <td>0</td>\n      <td>0</td>\n      <td>1</td>\n    </tr>\n  </tbody>\n</table>\n</div>"
     },
     "execution_count": 8,
     "metadata": {},
     "output_type": "execute_result"
    }
   ],
   "source": [
    "td_sex_cs23"
   ],
   "metadata": {
    "collapsed": false,
    "ExecuteTime": {
     "end_time": "2023-10-23T11:59:15.172755100Z",
     "start_time": "2023-10-23T11:59:15.118170300Z"
    }
   },
   "id": "995b6dd57a4099b6"
  },
  {
   "cell_type": "code",
   "execution_count": 13,
   "outputs": [
    {
     "data": {
      "text/plain": "  Column  Count of 1s  Total Observation  Percentage of 1s\n0     ld           25                 48               0.5\n1     iu           39                 48               0.8\n2     cw           47                 48               1.0\n3    com           30                 48               0.6\n4    adv           33                 48               0.7",
      "text/html": "<div>\n<style scoped>\n    .dataframe tbody tr th:only-of-type {\n        vertical-align: middle;\n    }\n\n    .dataframe tbody tr th {\n        vertical-align: top;\n    }\n\n    .dataframe thead th {\n        text-align: right;\n    }\n</style>\n<table border=\"1\" class=\"dataframe\">\n  <thead>\n    <tr style=\"text-align: right;\">\n      <th></th>\n      <th>Column</th>\n      <th>Count of 1s</th>\n      <th>Total Observation</th>\n      <th>Percentage of 1s</th>\n    </tr>\n  </thead>\n  <tbody>\n    <tr>\n      <th>0</th>\n      <td>ld</td>\n      <td>25</td>\n      <td>48</td>\n      <td>0.5</td>\n    </tr>\n    <tr>\n      <th>1</th>\n      <td>iu</td>\n      <td>39</td>\n      <td>48</td>\n      <td>0.8</td>\n    </tr>\n    <tr>\n      <th>2</th>\n      <td>cw</td>\n      <td>47</td>\n      <td>48</td>\n      <td>1.0</td>\n    </tr>\n    <tr>\n      <th>3</th>\n      <td>com</td>\n      <td>30</td>\n      <td>48</td>\n      <td>0.6</td>\n    </tr>\n    <tr>\n      <th>4</th>\n      <td>adv</td>\n      <td>33</td>\n      <td>48</td>\n      <td>0.7</td>\n    </tr>\n  </tbody>\n</table>\n</div>"
     },
     "execution_count": 13,
     "metadata": {},
     "output_type": "execute_result"
    }
   ],
   "source": [
    "td_sex_cs23_pathways = td_sex_cs23[td_pathways]\n",
    "counts = td_sex_cs23_pathways.apply(lambda x: (x ==1).sum())\n",
    "total_counts = td_sex_cs23_pathways.count()\n",
    "percentages = (counts / total_counts).round(2)\n",
    "counts_df = pd.DataFrame({\n",
    "    'Column': counts.index,\n",
    "    'Count of 1s': counts.values,\n",
    "    'Total Observation': total_counts.values,\n",
    "    'Percentage of 1s': percentages.values\n",
    "})\n",
    "\n",
    "counts_df"
   ],
   "metadata": {
    "collapsed": false,
    "ExecuteTime": {
     "end_time": "2023-10-23T12:02:02.485818600Z",
     "start_time": "2023-10-23T12:02:02.445939500Z"
    }
   },
   "id": "86bbbbc35c62a499"
  },
  {
   "cell_type": "code",
   "execution_count": 15,
   "outputs": [
    {
     "data": {
      "text/plain": "sex\n1       46\n2        1\n<NA>     1\nName: count, dtype: Int64"
     },
     "execution_count": 15,
     "metadata": {},
     "output_type": "execute_result"
    }
   ],
   "source": [
    "td_sex_cs23['sex'].value_counts(dropna=False)"
   ],
   "metadata": {
    "collapsed": false,
    "ExecuteTime": {
     "end_time": "2023-10-23T12:15:35.010027700Z",
     "start_time": "2023-10-23T12:15:34.999996200Z"
    }
   },
   "id": "b23b89a72bdab9c1"
  },
  {
   "cell_type": "code",
   "execution_count": 16,
   "outputs": [
    {
     "data": {
      "text/plain": "   tdsp  tdspi    rid        fcid  tdcc       cslt       csnt  ld  iu  cw  \\\n7    YQ      8  R0110  8110050018    11 2022-10-31 2022-10-31   0   1   1   \n10   YQ     11  R0102  8110050015    11 2022-11-01 2022-11-01   1   1   1   \n16   YQ     17  R0336  8110050059    11 2022-12-02 2022-12-02   1   1   1   \n20   YQ     21  R0112  8110050019    11 2022-10-31 2022-10-31   0   1   1   \n21   YQ     22  R0114  8110050021    11 2022-10-31 2022-10-31   0   1   1   \n33   SA      8  R0077  8110060007   101 2023-08-01 2023-08-08   1   1   1   \n34   SA      9  R0065  8110060004    11 2023-05-03 2023-05-03   0   1   1   \n35   SA     10  R0066  8110060006    11 2023-05-03 2023-05-03   0   1   1   \n39   SA     14  R0155  8110020067    11 2022-11-30 2022-11-30   1   1   1   \n42   SA     17  R0255  8110070004    11 2022-12-19 2022-12-19   0   1   1   \n43   SA     18  R0089  8110060012    11 2022-12-01 2022-12-01   1   1   1   \n46   IJ      1  R0402  8110020119    11 2023-07-24 2023-07-24   0   1   1   \n47   IJ      2  R0314  8110020091    11 2023-07-31 2023-07-31   0   1   1   \n50   LA      1  R0300  8110020093   101 2023-08-04 2023-07-26   1   1   1   \n54   MT      1  R0501  8110020120   101 2023-08-03 2023-07-28   1   1   1   \n\n    com  adv  tdis        is1        is2        is3  tdt  sex  \n7     1    1   110 2023-05-04 2023-05-18        NaT    2    1  \n10    1    1   111 2023-07-28 2023-08-10 2023-08-17    3    1  \n16    1    1   110 2023-08-02 2023-08-09        NaT    2    1  \n20    1    1   110 2023-08-16 2023-08-23        NaT    2    1  \n21    1    1   110 2023-05-16 2023-05-23        NaT    2    1  \n33    1    1   110 2023-08-21 2023-08-28        NaT    2    1  \n34    1    1   110 2023-06-02 2023-06-05        NaT    2    1  \n35    1    1   111 2023-08-22 2023-08-29 2023-09-07    3    1  \n39    1    1   110 2023-05-31 2023-06-05        NaT    2    1  \n42    0    0   110 2023-07-28 2023-08-04        NaT    2    1  \n43    1    1   110 2023-08-03 2023-08-17        NaT    2    1  \n46    1    1   111 2023-07-08 2023-08-18 2023-09-15    3    1  \n47    1    0   110 2023-09-07 2023-09-15        NaT    2    1  \n50    0    1   111 2023-08-11 2023-08-17 2023-08-25    3    1  \n54    1    1   110 2023-08-09 2025-08-25        NaT    2    1  ",
      "text/html": "<div>\n<style scoped>\n    .dataframe tbody tr th:only-of-type {\n        vertical-align: middle;\n    }\n\n    .dataframe tbody tr th {\n        vertical-align: top;\n    }\n\n    .dataframe thead th {\n        text-align: right;\n    }\n</style>\n<table border=\"1\" class=\"dataframe\">\n  <thead>\n    <tr style=\"text-align: right;\">\n      <th></th>\n      <th>tdsp</th>\n      <th>tdspi</th>\n      <th>rid</th>\n      <th>fcid</th>\n      <th>tdcc</th>\n      <th>cslt</th>\n      <th>csnt</th>\n      <th>ld</th>\n      <th>iu</th>\n      <th>cw</th>\n      <th>com</th>\n      <th>adv</th>\n      <th>tdis</th>\n      <th>is1</th>\n      <th>is2</th>\n      <th>is3</th>\n      <th>tdt</th>\n      <th>sex</th>\n    </tr>\n  </thead>\n  <tbody>\n    <tr>\n      <th>7</th>\n      <td>YQ</td>\n      <td>8</td>\n      <td>R0110</td>\n      <td>8110050018</td>\n      <td>11</td>\n      <td>2022-10-31</td>\n      <td>2022-10-31</td>\n      <td>0</td>\n      <td>1</td>\n      <td>1</td>\n      <td>1</td>\n      <td>1</td>\n      <td>110</td>\n      <td>2023-05-04</td>\n      <td>2023-05-18</td>\n      <td>NaT</td>\n      <td>2</td>\n      <td>1</td>\n    </tr>\n    <tr>\n      <th>10</th>\n      <td>YQ</td>\n      <td>11</td>\n      <td>R0102</td>\n      <td>8110050015</td>\n      <td>11</td>\n      <td>2022-11-01</td>\n      <td>2022-11-01</td>\n      <td>1</td>\n      <td>1</td>\n      <td>1</td>\n      <td>1</td>\n      <td>1</td>\n      <td>111</td>\n      <td>2023-07-28</td>\n      <td>2023-08-10</td>\n      <td>2023-08-17</td>\n      <td>3</td>\n      <td>1</td>\n    </tr>\n    <tr>\n      <th>16</th>\n      <td>YQ</td>\n      <td>17</td>\n      <td>R0336</td>\n      <td>8110050059</td>\n      <td>11</td>\n      <td>2022-12-02</td>\n      <td>2022-12-02</td>\n      <td>1</td>\n      <td>1</td>\n      <td>1</td>\n      <td>1</td>\n      <td>1</td>\n      <td>110</td>\n      <td>2023-08-02</td>\n      <td>2023-08-09</td>\n      <td>NaT</td>\n      <td>2</td>\n      <td>1</td>\n    </tr>\n    <tr>\n      <th>20</th>\n      <td>YQ</td>\n      <td>21</td>\n      <td>R0112</td>\n      <td>8110050019</td>\n      <td>11</td>\n      <td>2022-10-31</td>\n      <td>2022-10-31</td>\n      <td>0</td>\n      <td>1</td>\n      <td>1</td>\n      <td>1</td>\n      <td>1</td>\n      <td>110</td>\n      <td>2023-08-16</td>\n      <td>2023-08-23</td>\n      <td>NaT</td>\n      <td>2</td>\n      <td>1</td>\n    </tr>\n    <tr>\n      <th>21</th>\n      <td>YQ</td>\n      <td>22</td>\n      <td>R0114</td>\n      <td>8110050021</td>\n      <td>11</td>\n      <td>2022-10-31</td>\n      <td>2022-10-31</td>\n      <td>0</td>\n      <td>1</td>\n      <td>1</td>\n      <td>1</td>\n      <td>1</td>\n      <td>110</td>\n      <td>2023-05-16</td>\n      <td>2023-05-23</td>\n      <td>NaT</td>\n      <td>2</td>\n      <td>1</td>\n    </tr>\n    <tr>\n      <th>33</th>\n      <td>SA</td>\n      <td>8</td>\n      <td>R0077</td>\n      <td>8110060007</td>\n      <td>101</td>\n      <td>2023-08-01</td>\n      <td>2023-08-08</td>\n      <td>1</td>\n      <td>1</td>\n      <td>1</td>\n      <td>1</td>\n      <td>1</td>\n      <td>110</td>\n      <td>2023-08-21</td>\n      <td>2023-08-28</td>\n      <td>NaT</td>\n      <td>2</td>\n      <td>1</td>\n    </tr>\n    <tr>\n      <th>34</th>\n      <td>SA</td>\n      <td>9</td>\n      <td>R0065</td>\n      <td>8110060004</td>\n      <td>11</td>\n      <td>2023-05-03</td>\n      <td>2023-05-03</td>\n      <td>0</td>\n      <td>1</td>\n      <td>1</td>\n      <td>1</td>\n      <td>1</td>\n      <td>110</td>\n      <td>2023-06-02</td>\n      <td>2023-06-05</td>\n      <td>NaT</td>\n      <td>2</td>\n      <td>1</td>\n    </tr>\n    <tr>\n      <th>35</th>\n      <td>SA</td>\n      <td>10</td>\n      <td>R0066</td>\n      <td>8110060006</td>\n      <td>11</td>\n      <td>2023-05-03</td>\n      <td>2023-05-03</td>\n      <td>0</td>\n      <td>1</td>\n      <td>1</td>\n      <td>1</td>\n      <td>1</td>\n      <td>111</td>\n      <td>2023-08-22</td>\n      <td>2023-08-29</td>\n      <td>2023-09-07</td>\n      <td>3</td>\n      <td>1</td>\n    </tr>\n    <tr>\n      <th>39</th>\n      <td>SA</td>\n      <td>14</td>\n      <td>R0155</td>\n      <td>8110020067</td>\n      <td>11</td>\n      <td>2022-11-30</td>\n      <td>2022-11-30</td>\n      <td>1</td>\n      <td>1</td>\n      <td>1</td>\n      <td>1</td>\n      <td>1</td>\n      <td>110</td>\n      <td>2023-05-31</td>\n      <td>2023-06-05</td>\n      <td>NaT</td>\n      <td>2</td>\n      <td>1</td>\n    </tr>\n    <tr>\n      <th>42</th>\n      <td>SA</td>\n      <td>17</td>\n      <td>R0255</td>\n      <td>8110070004</td>\n      <td>11</td>\n      <td>2022-12-19</td>\n      <td>2022-12-19</td>\n      <td>0</td>\n      <td>1</td>\n      <td>1</td>\n      <td>0</td>\n      <td>0</td>\n      <td>110</td>\n      <td>2023-07-28</td>\n      <td>2023-08-04</td>\n      <td>NaT</td>\n      <td>2</td>\n      <td>1</td>\n    </tr>\n    <tr>\n      <th>43</th>\n      <td>SA</td>\n      <td>18</td>\n      <td>R0089</td>\n      <td>8110060012</td>\n      <td>11</td>\n      <td>2022-12-01</td>\n      <td>2022-12-01</td>\n      <td>1</td>\n      <td>1</td>\n      <td>1</td>\n      <td>1</td>\n      <td>1</td>\n      <td>110</td>\n      <td>2023-08-03</td>\n      <td>2023-08-17</td>\n      <td>NaT</td>\n      <td>2</td>\n      <td>1</td>\n    </tr>\n    <tr>\n      <th>46</th>\n      <td>IJ</td>\n      <td>1</td>\n      <td>R0402</td>\n      <td>8110020119</td>\n      <td>11</td>\n      <td>2023-07-24</td>\n      <td>2023-07-24</td>\n      <td>0</td>\n      <td>1</td>\n      <td>1</td>\n      <td>1</td>\n      <td>1</td>\n      <td>111</td>\n      <td>2023-07-08</td>\n      <td>2023-08-18</td>\n      <td>2023-09-15</td>\n      <td>3</td>\n      <td>1</td>\n    </tr>\n    <tr>\n      <th>47</th>\n      <td>IJ</td>\n      <td>2</td>\n      <td>R0314</td>\n      <td>8110020091</td>\n      <td>11</td>\n      <td>2023-07-31</td>\n      <td>2023-07-31</td>\n      <td>0</td>\n      <td>1</td>\n      <td>1</td>\n      <td>1</td>\n      <td>0</td>\n      <td>110</td>\n      <td>2023-09-07</td>\n      <td>2023-09-15</td>\n      <td>NaT</td>\n      <td>2</td>\n      <td>1</td>\n    </tr>\n    <tr>\n      <th>50</th>\n      <td>LA</td>\n      <td>1</td>\n      <td>R0300</td>\n      <td>8110020093</td>\n      <td>101</td>\n      <td>2023-08-04</td>\n      <td>2023-07-26</td>\n      <td>1</td>\n      <td>1</td>\n      <td>1</td>\n      <td>0</td>\n      <td>1</td>\n      <td>111</td>\n      <td>2023-08-11</td>\n      <td>2023-08-17</td>\n      <td>2023-08-25</td>\n      <td>3</td>\n      <td>1</td>\n    </tr>\n    <tr>\n      <th>54</th>\n      <td>MT</td>\n      <td>1</td>\n      <td>R0501</td>\n      <td>8110020120</td>\n      <td>101</td>\n      <td>2023-08-03</td>\n      <td>2023-07-28</td>\n      <td>1</td>\n      <td>1</td>\n      <td>1</td>\n      <td>1</td>\n      <td>1</td>\n      <td>110</td>\n      <td>2023-08-09</td>\n      <td>2025-08-25</td>\n      <td>NaT</td>\n      <td>2</td>\n      <td>1</td>\n    </tr>\n  </tbody>\n</table>\n</div>"
     },
     "execution_count": 16,
     "metadata": {},
     "output_type": "execute_result"
    }
   ],
   "source": [
    "td_sex_is23 = td_sex[(td_sex[['is1', 'is2', 'is3']] > threshold_date).any(axis=1)]\n",
    "td_sex_is23"
   ],
   "metadata": {
    "collapsed": false,
    "ExecuteTime": {
     "end_time": "2023-10-23T12:32:27.924034500Z",
     "start_time": "2023-10-23T12:32:27.883835700Z"
    }
   },
   "id": "9677364164cd98cb"
  },
  {
   "cell_type": "code",
   "execution_count": 18,
   "outputs": [],
   "source": [
    "creative_ws = pd.read_csv(r'011/datasets/1000_ps_cw_092310.csv')\n",
    "creative_ws[cws_date_columns] = creative_ws[cws_date_columns].apply(pd.to_datetime)"
   ],
   "metadata": {
    "collapsed": false,
    "ExecuteTime": {
     "end_time": "2023-10-23T12:37:05.363793200Z",
     "start_time": "2023-10-23T12:37:05.313347100Z"
    }
   },
   "id": "f6a8eedf920217d4"
  },
  {
   "cell_type": "code",
   "execution_count": 21,
   "outputs": [],
   "source": [
    "creative_ws_sex = pd.merge(creative_ws, unique_scr[['rid', 'sex']], on='rid', how='left')\n",
    "creative_ws_sex23 = creative_ws_sex[(creative_ws_sex[cws_date_columns] > threshold_date).any(axis=1)]"
   ],
   "metadata": {
    "collapsed": false,
    "ExecuteTime": {
     "end_time": "2023-10-23T12:39:11.073954900Z",
     "start_time": "2023-10-23T12:39:11.033684200Z"
    }
   },
   "id": "6318efbc23478ce7"
  },
  {
   "cell_type": "code",
   "execution_count": 24,
   "outputs": [],
   "source": [
    "# creative_ws_sex23"
   ],
   "metadata": {
    "collapsed": false,
    "ExecuteTime": {
     "end_time": "2023-10-23T12:44:52.052904900Z",
     "start_time": "2023-10-23T12:44:52.043102400Z"
    }
   },
   "id": "e70e4930784c35fa"
  },
  {
   "cell_type": "code",
   "execution_count": 25,
   "outputs": [],
   "source": [
    "# creative_ws_sex23['cwindx'].value_counts()"
   ],
   "metadata": {
    "collapsed": false,
    "ExecuteTime": {
     "end_time": "2023-10-23T12:44:55.693306200Z",
     "start_time": "2023-10-23T12:44:55.658087Z"
    }
   },
   "id": "bd58fc5668cad3b6"
  },
  {
   "cell_type": "code",
   "execution_count": 35,
   "outputs": [],
   "source": [
    "awareness = pd.read_csv(r'011/datasets/1001_ps_aw_092310.csv')\n",
    "awareness['aws'] = awareness['aws'].apply(pd.to_datetime)\n",
    "# awareness_sex = pd.merge(awareness, unique_scr[['rid', 'sex']], on='rid', how='left')"
   ],
   "metadata": {
    "collapsed": false,
    "ExecuteTime": {
     "end_time": "2023-10-23T12:52:47.802719400Z",
     "start_time": "2023-10-23T12:52:47.767679400Z"
    }
   },
   "id": "fb572903f52bd3ad"
  },
  {
   "cell_type": "code",
   "execution_count": 31,
   "outputs": [],
   "source": [
    "# awareness_sex23 = creative_ws_sex[(creative_ws_sex[cws_date_columns] > threshold_date).any(axis=1)]"
   ],
   "metadata": {
    "collapsed": false,
    "ExecuteTime": {
     "end_time": "2023-10-23T12:51:47.332786800Z",
     "start_time": "2023-10-23T12:51:47.292609100Z"
    }
   },
   "id": "ac14d88afba8e3e2"
  },
  {
   "cell_type": "code",
   "execution_count": 36,
   "outputs": [
    {
     "data": {
      "text/plain": "   awsp  awspi    rid  fcid  sex  age awloc  awindx        aws\n0    IJ      1  R0942   NaN    2   35    SF       2 2023-09-28\n1    IJ      2  R0943   NaN    1   36    SF       2 2023-09-28\n2    IJ      3  R0944   NaN    1   55    SF       2 2023-09-28\n3    IJ      4  R0945   NaN    2   54    SF       2 2023-09-28\n4    IJ      5  R0946   NaN    1   52    SF       2 2023-09-28\n5    IJ      6  R0947   NaN    2   36    SF       2 2023-09-28\n6    IJ      7  R0948   NaN    2   37    SF       2 2023-09-28\n7    IJ      8  R0958   NaN    2   37    SF       2 2023-09-28\n8    IJ      9  R0949   NaN    1   52    SF       2 2023-09-28\n9    IJ     10  R0950   NaN    2   28    SF       2 2023-09-28\n10   IJ     11  R0951   NaN    1   41    SF       2 2023-09-28\n11   IJ     12  R0952   NaN    2   49    SF       2 2023-09-28\n12   IJ     13  R0953   NaN    1   41    SF       2 2023-09-28\n13   IJ     14  R0954   NaN    2   43    SF       2 2023-09-28\n14   IJ     15  R0955   NaN    2   45    SF       2 2023-09-28\n15   IJ     16  R0956   NaN    2   45    SF       2 2023-09-28\n16   IJ     17  R0957   NaN    1   45    SF       2 2023-09-28\n17   MT      1  R0814   NaN    1   33   GTZ       1 2023-07-14\n18   MT      2  R0815   NaN    2   31   GTZ       1 2023-07-14\n19   MT      3  R0816   NaN    2   31   GTZ       1 2023-07-14\n20   MT      4  R0817   NaN    2   46   GTZ       1 2023-07-14\n21   MT      5  R0818   NaN    2   38   GTZ       1 2023-07-14",
      "text/html": "<div>\n<style scoped>\n    .dataframe tbody tr th:only-of-type {\n        vertical-align: middle;\n    }\n\n    .dataframe tbody tr th {\n        vertical-align: top;\n    }\n\n    .dataframe thead th {\n        text-align: right;\n    }\n</style>\n<table border=\"1\" class=\"dataframe\">\n  <thead>\n    <tr style=\"text-align: right;\">\n      <th></th>\n      <th>awsp</th>\n      <th>awspi</th>\n      <th>rid</th>\n      <th>fcid</th>\n      <th>sex</th>\n      <th>age</th>\n      <th>awloc</th>\n      <th>awindx</th>\n      <th>aws</th>\n    </tr>\n  </thead>\n  <tbody>\n    <tr>\n      <th>0</th>\n      <td>IJ</td>\n      <td>1</td>\n      <td>R0942</td>\n      <td>NaN</td>\n      <td>2</td>\n      <td>35</td>\n      <td>SF</td>\n      <td>2</td>\n      <td>2023-09-28</td>\n    </tr>\n    <tr>\n      <th>1</th>\n      <td>IJ</td>\n      <td>2</td>\n      <td>R0943</td>\n      <td>NaN</td>\n      <td>1</td>\n      <td>36</td>\n      <td>SF</td>\n      <td>2</td>\n      <td>2023-09-28</td>\n    </tr>\n    <tr>\n      <th>2</th>\n      <td>IJ</td>\n      <td>3</td>\n      <td>R0944</td>\n      <td>NaN</td>\n      <td>1</td>\n      <td>55</td>\n      <td>SF</td>\n      <td>2</td>\n      <td>2023-09-28</td>\n    </tr>\n    <tr>\n      <th>3</th>\n      <td>IJ</td>\n      <td>4</td>\n      <td>R0945</td>\n      <td>NaN</td>\n      <td>2</td>\n      <td>54</td>\n      <td>SF</td>\n      <td>2</td>\n      <td>2023-09-28</td>\n    </tr>\n    <tr>\n      <th>4</th>\n      <td>IJ</td>\n      <td>5</td>\n      <td>R0946</td>\n      <td>NaN</td>\n      <td>1</td>\n      <td>52</td>\n      <td>SF</td>\n      <td>2</td>\n      <td>2023-09-28</td>\n    </tr>\n    <tr>\n      <th>5</th>\n      <td>IJ</td>\n      <td>6</td>\n      <td>R0947</td>\n      <td>NaN</td>\n      <td>2</td>\n      <td>36</td>\n      <td>SF</td>\n      <td>2</td>\n      <td>2023-09-28</td>\n    </tr>\n    <tr>\n      <th>6</th>\n      <td>IJ</td>\n      <td>7</td>\n      <td>R0948</td>\n      <td>NaN</td>\n      <td>2</td>\n      <td>37</td>\n      <td>SF</td>\n      <td>2</td>\n      <td>2023-09-28</td>\n    </tr>\n    <tr>\n      <th>7</th>\n      <td>IJ</td>\n      <td>8</td>\n      <td>R0958</td>\n      <td>NaN</td>\n      <td>2</td>\n      <td>37</td>\n      <td>SF</td>\n      <td>2</td>\n      <td>2023-09-28</td>\n    </tr>\n    <tr>\n      <th>8</th>\n      <td>IJ</td>\n      <td>9</td>\n      <td>R0949</td>\n      <td>NaN</td>\n      <td>1</td>\n      <td>52</td>\n      <td>SF</td>\n      <td>2</td>\n      <td>2023-09-28</td>\n    </tr>\n    <tr>\n      <th>9</th>\n      <td>IJ</td>\n      <td>10</td>\n      <td>R0950</td>\n      <td>NaN</td>\n      <td>2</td>\n      <td>28</td>\n      <td>SF</td>\n      <td>2</td>\n      <td>2023-09-28</td>\n    </tr>\n    <tr>\n      <th>10</th>\n      <td>IJ</td>\n      <td>11</td>\n      <td>R0951</td>\n      <td>NaN</td>\n      <td>1</td>\n      <td>41</td>\n      <td>SF</td>\n      <td>2</td>\n      <td>2023-09-28</td>\n    </tr>\n    <tr>\n      <th>11</th>\n      <td>IJ</td>\n      <td>12</td>\n      <td>R0952</td>\n      <td>NaN</td>\n      <td>2</td>\n      <td>49</td>\n      <td>SF</td>\n      <td>2</td>\n      <td>2023-09-28</td>\n    </tr>\n    <tr>\n      <th>12</th>\n      <td>IJ</td>\n      <td>13</td>\n      <td>R0953</td>\n      <td>NaN</td>\n      <td>1</td>\n      <td>41</td>\n      <td>SF</td>\n      <td>2</td>\n      <td>2023-09-28</td>\n    </tr>\n    <tr>\n      <th>13</th>\n      <td>IJ</td>\n      <td>14</td>\n      <td>R0954</td>\n      <td>NaN</td>\n      <td>2</td>\n      <td>43</td>\n      <td>SF</td>\n      <td>2</td>\n      <td>2023-09-28</td>\n    </tr>\n    <tr>\n      <th>14</th>\n      <td>IJ</td>\n      <td>15</td>\n      <td>R0955</td>\n      <td>NaN</td>\n      <td>2</td>\n      <td>45</td>\n      <td>SF</td>\n      <td>2</td>\n      <td>2023-09-28</td>\n    </tr>\n    <tr>\n      <th>15</th>\n      <td>IJ</td>\n      <td>16</td>\n      <td>R0956</td>\n      <td>NaN</td>\n      <td>2</td>\n      <td>45</td>\n      <td>SF</td>\n      <td>2</td>\n      <td>2023-09-28</td>\n    </tr>\n    <tr>\n      <th>16</th>\n      <td>IJ</td>\n      <td>17</td>\n      <td>R0957</td>\n      <td>NaN</td>\n      <td>1</td>\n      <td>45</td>\n      <td>SF</td>\n      <td>2</td>\n      <td>2023-09-28</td>\n    </tr>\n    <tr>\n      <th>17</th>\n      <td>MT</td>\n      <td>1</td>\n      <td>R0814</td>\n      <td>NaN</td>\n      <td>1</td>\n      <td>33</td>\n      <td>GTZ</td>\n      <td>1</td>\n      <td>2023-07-14</td>\n    </tr>\n    <tr>\n      <th>18</th>\n      <td>MT</td>\n      <td>2</td>\n      <td>R0815</td>\n      <td>NaN</td>\n      <td>2</td>\n      <td>31</td>\n      <td>GTZ</td>\n      <td>1</td>\n      <td>2023-07-14</td>\n    </tr>\n    <tr>\n      <th>19</th>\n      <td>MT</td>\n      <td>3</td>\n      <td>R0816</td>\n      <td>NaN</td>\n      <td>2</td>\n      <td>31</td>\n      <td>GTZ</td>\n      <td>1</td>\n      <td>2023-07-14</td>\n    </tr>\n    <tr>\n      <th>20</th>\n      <td>MT</td>\n      <td>4</td>\n      <td>R0817</td>\n      <td>NaN</td>\n      <td>2</td>\n      <td>46</td>\n      <td>GTZ</td>\n      <td>1</td>\n      <td>2023-07-14</td>\n    </tr>\n    <tr>\n      <th>21</th>\n      <td>MT</td>\n      <td>5</td>\n      <td>R0818</td>\n      <td>NaN</td>\n      <td>2</td>\n      <td>38</td>\n      <td>GTZ</td>\n      <td>1</td>\n      <td>2023-07-14</td>\n    </tr>\n  </tbody>\n</table>\n</div>"
     },
     "execution_count": 36,
     "metadata": {},
     "output_type": "execute_result"
    }
   ],
   "source": [
    "# awareness_sex23\n",
    "awareness"
   ],
   "metadata": {
    "collapsed": false,
    "ExecuteTime": {
     "end_time": "2023-10-23T12:52:51.532727500Z",
     "start_time": "2023-10-23T12:52:51.507634300Z"
    }
   },
   "id": "345049c3f2b8e4bc"
  }
 ],
 "metadata": {
  "kernelspec": {
   "display_name": "Python 3",
   "language": "python",
   "name": "python3"
  },
  "language_info": {
   "codemirror_mode": {
    "name": "ipython",
    "version": 2
   },
   "file_extension": ".py",
   "mimetype": "text/x-python",
   "name": "python",
   "nbconvert_exporter": "python",
   "pygments_lexer": "ipython2",
   "version": "2.7.6"
  }
 },
 "nbformat": 4,
 "nbformat_minor": 5
}
