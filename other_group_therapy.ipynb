{
 "cells": [
  {
   "cell_type": "code",
   "execution_count": null,
   "id": "initial_id",
   "metadata": {
    "collapsed": true
   },
   "outputs": [],
   "source": [
    "import pandas as pd\n",
    "from column_names_groups import *\n",
    "from mfyfunctions import *\n",
    "from analysis_functions import *"
   ]
  },
  {
   "cell_type": "code",
   "execution_count": null,
   "outputs": [],
   "source": [
    "pd.set_option('display.float_format', '{:.1f}'.format)\n",
    "pd.set_option('display.max_colwidth', None)\n",
    "# noinspection PyTypeChecker\n",
    "threshold_date = pd.Timestamp('2022-09-30')"
   ],
   "metadata": {
    "collapsed": false
   },
   "id": "58f2c432c582f38c"
  },
  {
   "cell_type": "code",
   "execution_count": null,
   "outputs": [],
   "source": [
    "# pei = pd.read_csv(r'011/datasets/0101_ps_pe_092310.csv')\n",
    "# pei[pei_date_columns] = pei[pei_date_columns].apply(pd.to_datetime)"
   ],
   "metadata": {
    "collapsed": false
   },
   "id": "e17083ab8996a257"
  },
  {
   "cell_type": "code",
   "execution_count": null,
   "outputs": [],
   "source": [
    "# Calling screening dataset to get some information for intake\n",
    "scr = pd.read_csv(r'011/datasets/0000_ps_sc_092310.csv')\n",
    "scr[screening_date_columns] = scr[screening_date_columns].apply(pd.to_datetime)\n",
    "scr[screening_all_int_columns] = scr[screening_all_int_columns].astype('Int64')\n",
    "unique_scr = scr.drop_duplicates(subset='rid')"
   ],
   "metadata": {
    "collapsed": false
   },
   "id": "81ad154ac43f04fa"
  },
  {
   "cell_type": "code",
   "execution_count": null,
   "outputs": [],
   "source": [
    "# pei"
   ],
   "metadata": {
    "collapsed": false
   },
   "id": "fd73d46ae3bc8617"
  },
  {
   "cell_type": "code",
   "execution_count": null,
   "outputs": [],
   "source": [
    "# pei = pd.merge(pei, unique_scr[['rid', 'sex', 'age']], on='rid', how='left')\n",
    "# pei"
   ],
   "metadata": {
    "collapsed": false
   },
   "id": "1dc1ff5005bd34fe"
  },
  {
   "cell_type": "code",
   "execution_count": null,
   "outputs": [],
   "source": [
    "# pei['pef'].value_counts()"
   ],
   "metadata": {
    "collapsed": false
   },
   "id": "42065e54dcccb15f"
  },
  {
   "cell_type": "code",
   "execution_count": null,
   "outputs": [],
   "source": [
    "trw = pd.read_csv(r'011/datasets/0110_ps_tr_092310.csv')\n",
    "trw[trw_date_columns] = trw[trw_date_columns].apply(pd.to_datetime)"
   ],
   "metadata": {
    "collapsed": false
   },
   "id": "6afb603164ea4496"
  },
  {
   "cell_type": "code",
   "execution_count": null,
   "outputs": [],
   "source": [
    "trw"
   ],
   "metadata": {
    "collapsed": false
   },
   "id": "d5e9f29aacb9ed18"
  },
  {
   "cell_type": "code",
   "execution_count": null,
   "outputs": [],
   "source": [
    "trw_sex = pd.merge(trw, unique_scr[['rid', 'sex']], on='rid', how='left')"
   ],
   "metadata": {
    "collapsed": false
   },
   "id": "e1f060bdd1856232"
  },
  {
   "cell_type": "code",
   "execution_count": null,
   "outputs": [],
   "source": [
    "trw_sex"
   ],
   "metadata": {
    "collapsed": false
   },
   "id": "ddf4204cafbe552"
  },
  {
   "cell_type": "code",
   "execution_count": null,
   "outputs": [],
   "source": [
    "trw23 = trw_sex[(trw_sex[trw_date_columns] > threshold_date).any(axis=1)]"
   ],
   "metadata": {
    "collapsed": false
   },
   "id": "e50092525aedd107"
  },
  {
   "cell_type": "code",
   "execution_count": null,
   "outputs": [],
   "source": [
    "trw23"
   ],
   "metadata": {
    "collapsed": false
   },
   "id": "ad6f2647ac17f65b"
  },
  {
   "cell_type": "code",
   "execution_count": null,
   "outputs": [],
   "source": [
    "td = pd.read_csv(r'011/datasets/0111_ps_td_092310.csv')\n",
    "td[td_date_columns] = td[td_date_columns].apply(pd.to_datetime)"
   ],
   "metadata": {
    "collapsed": false
   },
   "id": "519bcdf3a46a0d4a"
  },
  {
   "cell_type": "code",
   "execution_count": null,
   "outputs": [],
   "source": [
    "td[(td['cslt'] > threshold_date)]"
   ],
   "metadata": {
    "collapsed": false
   },
   "id": "3e50a3a1ac0db50a"
  },
  {
   "cell_type": "code",
   "execution_count": null,
   "outputs": [],
   "source": [
    "td_sex = pd.merge(td, unique_scr[['rid','sex']], on='rid', how='left')"
   ],
   "metadata": {
    "collapsed": false
   },
   "id": "6ed67e289b6184c1"
  },
  {
   "cell_type": "code",
   "execution_count": null,
   "outputs": [],
   "source": [
    "td_sex_cs = td_sex.drop(['is1', 'is2', 'is3', 'tdt'], axis=1)"
   ],
   "metadata": {
    "collapsed": false
   },
   "id": "e50eaaa9a01afafe"
  },
  {
   "cell_type": "code",
   "execution_count": null,
   "outputs": [],
   "source": [
    "td_sex_cs23 = td_sex_cs[(td_sex_cs[['cslt', 'csnt']] > threshold_date).any(axis=1)]"
   ],
   "metadata": {
    "collapsed": false
   },
   "id": "cfd76b2e1b5346f5"
  },
  {
   "cell_type": "code",
   "execution_count": null,
   "outputs": [],
   "source": [
    "td_sex_cs23"
   ],
   "metadata": {
    "collapsed": false
   },
   "id": "995b6dd57a4099b6"
  },
  {
   "cell_type": "code",
   "execution_count": null,
   "outputs": [],
   "source": [
    "td_sex_cs23_pathways = td_sex_cs23[td_pathways]\n",
    "counts = td_sex_cs23_pathways.apply(lambda x: (x ==1).sum())\n",
    "total_counts = td_sex_cs23_pathways.count()\n",
    "percentages = (counts / total_counts).round(2)\n",
    "counts_df = pd.DataFrame({\n",
    "    'Column': counts.index,\n",
    "    'Count of 1s': counts.values,\n",
    "    'Total Observation': total_counts.values,\n",
    "    'Percentage of 1s': percentages.values\n",
    "})\n",
    "\n",
    "counts_df"
   ],
   "metadata": {
    "collapsed": false
   },
   "id": "86bbbbc35c62a499"
  },
  {
   "cell_type": "code",
   "execution_count": null,
   "outputs": [],
   "source": [
    "td_sex_cs23['sex'].value_counts(dropna=False)"
   ],
   "metadata": {
    "collapsed": false
   },
   "id": "b23b89a72bdab9c1"
  },
  {
   "cell_type": "code",
   "execution_count": null,
   "outputs": [],
   "source": [
    "td_sex_is23 = td_sex[(td_sex[['is1', 'is2', 'is3']] > threshold_date).any(axis=1)]\n",
    "td_sex_is23"
   ],
   "metadata": {
    "collapsed": false
   },
   "id": "9677364164cd98cb"
  },
  {
   "cell_type": "code",
   "execution_count": null,
   "outputs": [],
   "source": [
    "creative_ws = pd.read_csv(r'011/datasets/1000_ps_cw_092310.csv')\n",
    "creative_ws[cws_date_columns] = creative_ws[cws_date_columns].apply(pd.to_datetime)"
   ],
   "metadata": {
    "collapsed": false
   },
   "id": "f6a8eedf920217d4"
  },
  {
   "cell_type": "code",
   "execution_count": null,
   "outputs": [],
   "source": [
    "creative_ws_sex = pd.merge(creative_ws, unique_scr[['rid', 'sex']], on='rid', how='left')\n",
    "# creative_ws_sex23 = creative_ws_sex[(creative_ws_sex[cws_date_columns] > threshold_date).any(axis=1)]"
   ],
   "metadata": {
    "collapsed": false
   },
   "id": "6318efbc23478ce7"
  },
  {
   "cell_type": "code",
   "execution_count": null,
   "outputs": [],
   "source": [
    "creative_ws_sex"
   ],
   "metadata": {
    "collapsed": false
   },
   "id": "e70e4930784c35fa"
  },
  {
   "cell_type": "code",
   "execution_count": null,
   "outputs": [],
   "source": [
    "# creative_ws_sex23['cwindx'].value_counts()"
   ],
   "metadata": {
    "collapsed": false
   },
   "id": "bd58fc5668cad3b6"
  },
  {
   "cell_type": "code",
   "execution_count": null,
   "outputs": [],
   "source": [
    "awareness = pd.read_csv(r'011/datasets/1001_ps_aw_092310.csv')\n",
    "awareness['aws'] = awareness['aws'].apply(pd.to_datetime)\n",
    "# awareness_sex = pd.merge(awareness, unique_scr[['rid', 'sex']], on='rid', how='left')"
   ],
   "metadata": {
    "collapsed": false
   },
   "id": "fb572903f52bd3ad"
  },
  {
   "cell_type": "code",
   "execution_count": null,
   "outputs": [],
   "source": [
    "# awareness_sex23 = creative_ws_sex[(creative_ws_sex[cws_date_columns] > threshold_date).any(axis=1)]"
   ],
   "metadata": {
    "collapsed": false
   },
   "id": "ac14d88afba8e3e2"
  },
  {
   "cell_type": "code",
   "execution_count": null,
   "outputs": [],
   "source": [
    "# awareness_sex23\n",
    "awareness"
   ],
   "metadata": {
    "collapsed": false
   },
   "id": "345049c3f2b8e4bc"
  }
 ],
 "metadata": {
  "kernelspec": {
   "display_name": "Python 3",
   "language": "python",
   "name": "python3"
  },
  "language_info": {
   "codemirror_mode": {
    "name": "ipython",
    "version": 2
   },
   "file_extension": ".py",
   "mimetype": "text/x-python",
   "name": "python",
   "nbconvert_exporter": "python",
   "pygments_lexer": "ipython2",
   "version": "2.7.6"
  }
 },
 "nbformat": 4,
 "nbformat_minor": 5
}
