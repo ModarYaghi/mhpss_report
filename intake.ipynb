{
 "cells": [
  {
   "cell_type": "code",
   "execution_count": null,
   "id": "initial_id",
   "metadata": {
    "collapsed": true
   },
   "outputs": [],
   "source": [
    "import pandas as pd\n",
    "from column_names_groups import *\n",
    "from mfyfunctions import *\n",
    "from analysis_functions import *"
   ]
  },
  {
   "cell_type": "code",
   "execution_count": null,
   "outputs": [],
   "source": [
    "pd.set_option('display.float_format', '{:.1f}'.format)\n",
    "pd.set_option('display.max_colwidth', None)\n",
    "# noinspection PyTypeChecker\n",
    "threshold_date = pd.Timestamp('2022-09-30')"
   ],
   "metadata": {
    "collapsed": false
   },
   "id": "58f2c432c582f38c"
  },
  {
   "cell_type": "code",
   "execution_count": null,
   "outputs": [],
   "source": [
    "# intake0 = pd.read_csv(r'011/datasets/0001_ps_nt_092310.csv')\n",
    "# intake0[intake_date_columns] = intake0[intake_date_columns].apply(pd.to_datetime)\n",
    "# intake0[intake_numerical_variables] = intake0[intake_numerical_variables].astype('Int64')\n",
    "# intake0 = intake0[(intake0[intake_date_columns] > threshold_date).any(axis=1)]"
   ],
   "metadata": {
    "collapsed": false
   },
   "id": "e17083ab8996a257"
  },
  {
   "cell_type": "code",
   "execution_count": null,
   "outputs": [],
   "source": [
    "# Exclude not completed intake assessments \n",
    "# intake0 = intake0[intake0['nt'] != -1]\n",
    "# intake0['nt1'].count() + intake0['nt2'].count() + intake0['nt3'].count() + intake0['ntre'].count()"
   ],
   "metadata": {
    "collapsed": false
   },
   "id": "e1cb104a665de44e"
  },
  {
   "cell_type": "code",
   "execution_count": null,
   "outputs": [],
   "source": [
    "# intake0"
   ],
   "metadata": {
    "collapsed": false
   },
   "id": "78971d5095ea4b5b"
  },
  {
   "cell_type": "code",
   "execution_count": null,
   "outputs": [],
   "source": [
    "# to calculate intake assessment occurrences, I will count only the first intake session and drop the 2nd and 3rd sessions.\n",
    "# intake = intake.drop(['nt2', 'nt3'], axis=1)\n",
    "# intake"
   ],
   "metadata": {
    "collapsed": false
   },
   "id": "70da82d208213434"
  },
  {
   "cell_type": "code",
   "execution_count": null,
   "outputs": [],
   "source": [
    "# melt_intake = melt_and_categorize_dates(\n",
    "#     input_df=intake,\n",
    "#     date_columns=['nt1', 'ntre'],\n",
    "#     sort_by_date=True,\n",
    "#     var_name='type',\n",
    "#     value_name='date',\n",
    "#     var_position=6,\n",
    "#     value_position=7\n",
    "# )"
   ],
   "metadata": {
    "collapsed": false
   },
   "id": "802f991430a2d392"
  },
  {
   "cell_type": "code",
   "execution_count": null,
   "outputs": [],
   "source": [
    "# melt_intake"
   ],
   "metadata": {
    "collapsed": false
   },
   "id": "92cd343e4e82008f"
  },
  {
   "cell_type": "code",
   "execution_count": null,
   "outputs": [],
   "source": [
    "# melt_intake.to_csv(r'soti_221001230930/intake_221001230930.csv')"
   ],
   "metadata": {
    "collapsed": false
   },
   "id": "4ab823bab2465d99"
  },
  {
   "cell_type": "code",
   "execution_count": null,
   "outputs": [],
   "source": [
    "intake = pd.read_csv(r'soti_221001230930/intake_221001230930.csv')\n",
    "intake['date'] = intake['date'].apply(pd.to_datetime)\n",
    "intake[intake_numerical_variables] = intake[intake_numerical_variables].astype('Int64')\n",
    "intake = intake[(intake['date'] > threshold_date)]"
   ],
   "metadata": {
    "collapsed": false
   },
   "id": "bdfd98015b3252ea"
  },
  {
   "cell_type": "code",
   "execution_count": null,
   "outputs": [],
   "source": [
    "intake"
   ],
   "metadata": {
    "collapsed": false
   },
   "id": "4fa8d50ba6a69cf7"
  },
  {
   "cell_type": "code",
   "execution_count": null,
   "outputs": [],
   "source": [
    "# intake_assessment = intake[intake['type'] == 'ntre']\n",
    "# intake_assessment[intake_assessment.duplicated(keep=False)]\n",
    "# intake_assessment"
   ],
   "metadata": {
    "collapsed": false
   },
   "id": "5bf2e3fc2008d6e3"
  },
  {
   "cell_type": "code",
   "execution_count": null,
   "outputs": [],
   "source": [
    "# Calling screening dataset to get some information for intake\n",
    "scr = pd.read_csv(r'011/datasets/0000_ps_sc_092310.csv')\n",
    "scr[screening_date_columns] = scr[screening_date_columns].apply(pd.to_datetime)\n",
    "scr[screening_all_int_columns] = scr[screening_all_int_columns].astype('Int64')"
   ],
   "metadata": {
    "collapsed": false
   },
   "id": "9833f14e90d3c3da"
  },
  {
   "cell_type": "code",
   "execution_count": null,
   "outputs": [],
   "source": [
    "# scr"
   ],
   "metadata": {
    "collapsed": false
   },
   "id": "a5cbd9842a213867"
  },
  {
   "cell_type": "code",
   "execution_count": null,
   "outputs": [],
   "source": [
    "unique_scr = scr.drop_duplicates(subset='rid')\n",
    "intake_with_sex_and_age = pd.merge(intake, unique_scr[['rid','sex', 'age']], on='rid', how='left')"
   ],
   "metadata": {
    "collapsed": false
   },
   "id": "1416a41d83ad55d2"
  },
  {
   "cell_type": "code",
   "execution_count": null,
   "outputs": [],
   "source": [
    "intake_with_sex_and_age"
   ],
   "metadata": {
    "collapsed": false
   },
   "id": "c39370b643c73069"
  },
  {
   "cell_type": "code",
   "execution_count": null,
   "outputs": [],
   "source": [
    "new_intake_with_sex_and_age = intake_with_sex_and_age[intake_with_sex_and_age['type'] == 'nt1']\n",
    "new_intake_with_sex_and_age"
   ],
   "metadata": {
    "collapsed": false
   },
   "id": "ffc595d57a0391bc"
  },
  {
   "cell_type": "code",
   "execution_count": null,
   "outputs": [],
   "source": [
    "normalized_value_counts(new_intake_with_sex_and_age['sex'])"
   ],
   "metadata": {
    "collapsed": false
   },
   "id": "e6a243cf7e904289"
  },
  {
   "cell_type": "code",
   "execution_count": null,
   "outputs": [],
   "source": [
    "ages = new_intake_with_sex_and_age['age']"
   ],
   "metadata": {
    "collapsed": false
   },
   "id": "346336acd362968e"
  },
  {
   "cell_type": "code",
   "execution_count": null,
   "outputs": [],
   "source": [
    "age_groups = categorize_and_count_ages(ages)"
   ],
   "metadata": {
    "collapsed": false
   },
   "id": "6ddb150527f9e8de"
  },
  {
   "cell_type": "code",
   "execution_count": null,
   "outputs": [],
   "source": [
    "normalized_value_counts(age_groups)"
   ],
   "metadata": {
    "collapsed": false
   },
   "id": "29f37c3d3b9c229"
  },
  {
   "cell_type": "code",
   "execution_count": null,
   "outputs": [],
   "source": [
    "# Counting intake over quarters\n",
    "# first, I need to make the date column is the index\n",
    "date_intake = intake.set_index('date')\n",
    "quarterly_counts = date_intake.resample('Q').size()\n",
    "quarterly_counts"
   ],
   "metadata": {
    "collapsed": false
   },
   "id": "3b099f74fbc38a9c"
  },
  {
   "cell_type": "code",
   "execution_count": null,
   "outputs": [],
   "source": [],
   "metadata": {
    "collapsed": false
   },
   "id": "d07bdad306841308"
  },
  {
   "cell_type": "code",
   "execution_count": null,
   "outputs": [],
   "source": [
    "intake_victimhood = intake[victimhood]\n",
    "counts = intake_victimhood.apply(lambda x: (x ==1).sum())\n",
    "total_counts = intake_victimhood.count()\n",
    "percentages = (counts / total_counts * 100).round(2)\n",
    "counts_df = pd.DataFrame({\n",
    "    'Column': counts.index,\n",
    "    'Count of 1s': counts.values,\n",
    "    'Total Observation': total_counts.values,\n",
    "    'Percentage of 1s': percentages.values\n",
    "})\n",
    "\n",
    "counts_df"
   ],
   "metadata": {
    "collapsed": false
   },
   "id": "8f2297ead69ba261"
  },
  {
   "cell_type": "code",
   "execution_count": null,
   "outputs": [],
   "source": [],
   "metadata": {
    "collapsed": false
   },
   "id": "29c50511d3e90c8f"
  }
 ],
 "metadata": {
  "kernelspec": {
   "display_name": "Python 3",
   "language": "python",
   "name": "python3"
  },
  "language_info": {
   "codemirror_mode": {
    "name": "ipython",
    "version": 2
   },
   "file_extension": ".py",
   "mimetype": "text/x-python",
   "name": "python",
   "nbconvert_exporter": "python",
   "pygments_lexer": "ipython2",
   "version": "2.7.6"
  }
 },
 "nbformat": 4,
 "nbformat_minor": 5
}
