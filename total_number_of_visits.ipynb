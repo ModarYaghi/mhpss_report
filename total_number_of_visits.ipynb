{
 "cells": [
  {
   "cell_type": "code",
   "execution_count": null,
   "id": "initial_id",
   "metadata": {
    "collapsed": true
   },
   "outputs": [],
   "source": [
    "import pandas as pd\n",
    "from column_names_groups import *\n",
    "from mfyfunctions import *\n",
    "from analysis_functions import *\n",
    "import os"
   ]
  },
  {
   "cell_type": "code",
   "execution_count": null,
   "outputs": [],
   "source": [
    "pd.set_option('display.float_format', '{:.1f}'.format)\n",
    "pd.set_option('display.max_colwidth', None)\n",
    "# noinspection PyTypeChecker\n",
    "threshold_date = pd.Timestamp('2022-09-30')"
   ],
   "metadata": {
    "collapsed": false
   },
   "id": "f273845b5c4bbe60"
  },
  {
   "cell_type": "code",
   "execution_count": null,
   "outputs": [],
   "source": [
    "# datasets_repo = '011/datasets'\n",
    "# datasets = [f for f in os.listdir(datasets_repo) if f.endswith('.csv')]\n",
    "datasets = []"
   ],
   "metadata": {
    "collapsed": false
   },
   "id": "2575cf43a5c1000"
  },
  {
   "cell_type": "code",
   "execution_count": null,
   "outputs": [],
   "source": [
    "scr = pd.read_csv(r'011/datasets/0000_ps_sc_092310.csv')\n",
    "intake = pd.read_csv(r'011/datasets/0001_ps_nt_092310.csv')\n",
    "gc = pd.read_csv(r'011/datasets/0010_ps_gc_092310.csv')\n",
    "ic = pd.read_csv(r'011/datasets/0011_ps_ic_092310.csv')\n",
    "fu = pd.read_csv(r'011/datasets/0100_ps_fu_092310.csv')\n",
    "pei = pd.read_csv(r'011/datasets/0101_ps_pe_092310.csv')\n",
    "trw = pd.read_csv(r'011/datasets/0110_ps_tr_092310.csv')\n",
    "td = pd.read_csv(r'011/datasets/0111_ps_td_092310.csv')\n",
    "cws = pd.read_csv(r'011/datasets/1000_ps_cw_092310.csv')\n",
    "aws = pd.read_csv(r'011/datasets/1001_ps_aw_092310.csv')\n",
    "psfs = pd.read_csv(r'011/datasets/1010_pt_pf_092310.csv')\n",
    "ptnt = pd.read_csv(r'011/datasets/1011_pt_nt_092310.csv')\n",
    "ptre = pd.read_csv(r'011/datasets/1100_pt_re_092310.csv')\n",
    "ptgc = pd.read_csv(r'011/datasets/1101_pt_gc_092310.csv')\n",
    "ptic = pd.read_csv(r'011/datasets/1110_pt_ic_092310.csv')\n",
    "ptfu = pd.read_csv(r'011/datasets/1111_pt_fu_092310.csv')"
   ],
   "metadata": {
    "collapsed": false
   },
   "id": "192c4ba5d56c2185"
  },
  {
   "cell_type": "code",
   "execution_count": null,
   "outputs": [],
   "source": [
    "datasets.extend([scr, intake, gc, ic, fu, pei, trw, td, cws, aws, psfs, ptnt, ptre, ptgc, ptic, ptfu])"
   ],
   "metadata": {
    "collapsed": false
   },
   "id": "86cb41bc2688b741"
  },
  {
   "cell_type": "code",
   "execution_count": null,
   "outputs": [],
   "source": [
    "# scr['scdate'] = scr['scdate'].apply(pd.to_datetime)\n",
    "# scr[screening_all_int_columns] = scr[screening_all_int_columns].astype('Int64')"
   ],
   "metadata": {
    "collapsed": false
   },
   "id": "42d64a60a00b19d7"
  },
  {
   "cell_type": "code",
   "execution_count": null,
   "outputs": [],
   "source": [
    "scr"
   ],
   "metadata": {
    "collapsed": false
   },
   "id": "6802a7aa54e12a56"
  },
  {
   "cell_type": "code",
   "execution_count": null,
   "outputs": [],
   "source": [
    "visits = "
   ],
   "metadata": {
    "collapsed": false
   },
   "id": "71ee9865e44a8bd2"
  }
 ],
 "metadata": {
  "kernelspec": {
   "display_name": "Python 3",
   "language": "python",
   "name": "python3"
  },
  "language_info": {
   "codemirror_mode": {
    "name": "ipython",
    "version": 2
   },
   "file_extension": ".py",
   "mimetype": "text/x-python",
   "name": "python",
   "nbconvert_exporter": "python",
   "pygments_lexer": "ipython2",
   "version": "2.7.6"
  }
 },
 "nbformat": 4,
 "nbformat_minor": 5
}
