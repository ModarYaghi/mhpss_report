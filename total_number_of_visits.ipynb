{
 "cells": [
  {
   "cell_type": "code",
   "execution_count": null,
   "id": "initial_id",
   "metadata": {
    "collapsed": true
   },
   "outputs": [],
   "source": [
    "import pandas as pd\n",
    "from column_names_groups import *\n",
    "from mfyfunctions import *\n",
    "from analysis_functions import *"
   ]
  },
  {
   "cell_type": "code",
   "execution_count": null,
   "outputs": [],
   "source": [
    "pd.set_option('display.float_format', '{:.1f}'.format)\n",
    "pd.set_option('display.max_colwidth', None)\n",
    "# noinspection PyTypeChecker\n",
    "threshold_date = pd.Timestamp('2022-09-30')"
   ],
   "metadata": {
    "collapsed": false
   },
   "id": "f273845b5c4bbe60"
  },
  {
   "cell_type": "code",
   "execution_count": null,
   "outputs": [],
   "source": [
    "scr = pd.read_csv(r'011/datasets/0000_ps_sc_092310.csv')\n",
    "intake = pd.read_csv(r'011/datasets/0001_ps_nt_092310.csv')\n",
    "gc = pd.read_csv(r'011/datasets/0010_ps_gc_092310.csv')\n",
    "ic = pd.read_csv(r'011/datasets/0011_ps_ic_092310.csv')\n",
    "fu = pd.read_csv(r'011/datasets/0100_ps_fu_092310.csv')\n",
    "pei = pd.read_csv(r'011/datasets/0101_ps_pe_092310.csv')\n",
    "trw = pd.read_csv(r'011/datasets/0110_ps_tr_092310.csv')\n",
    "td = pd.read_csv(r'011/datasets/0111_ps_td_092310.csv')\n",
    "cws = pd.read_csv(r'011/datasets/1000_ps_cw_092310.csv')\n",
    "aws = pd.read_csv(r'011/datasets/1001_ps_aw_092310.csv')\n",
    "psfs = pd.read_csv(r'011/datasets/1010_pt_pf_092310.csv')\n",
    "ptnt = pd.read_csv(r'011/datasets/1011_pt_nt_092310.csv')\n",
    "ptre = pd.read_csv(r'011/datasets/1100_pt_re_092310.csv')\n",
    "ptgc = pd.read_csv(r'011/datasets/1101_pt_gc_092310.csv')\n",
    "ptic = pd.read_csv(r'011/datasets/1110_pt_ic_092310.csv')\n",
    "ptfu = pd.read_csv(r'011/datasets/1111_pt_fu_092310.csv')"
   ],
   "metadata": {
    "collapsed": false
   },
   "id": "192c4ba5d56c2185"
  },
  {
   "cell_type": "code",
   "execution_count": null,
   "outputs": [],
   "source": [
    "# Creating empty dataframe\n",
    "visits_columns = ['rid', 'sex', 'age', 'visit','date']\n",
    "visits = pd.DataFrame(columns=visits_columns)"
   ],
   "metadata": {
    "collapsed": false
   },
   "id": "364feed95796c3b4"
  },
  {
   "cell_type": "code",
   "execution_count": null,
   "outputs": [],
   "source": [
    "scr = melt_and_categorize_dates(scr, screening_date_columns, sort_by_date=True, var_name='visit', value_name='date')\n",
    "intake = melt_and_categorize_dates(intake, intake_date_columns, sort_by_date=True, var_name='visit', value_name='date')\n",
    "gc = melt_and_categorize_dates(gc, group_counseling_date_columns, sort_by_date=True, var_name='visit', value_name='date')\n",
    "ic = melt_and_categorize_dates(ic, individual_counseling_date_columns, sort_by_date=True, var_name='visit', value_name='date')\n",
    "fu = melt_and_categorize_dates(fu, follow_up_date_columns, sort_by_date=True, var_name='visit', value_name='date')\n",
    "pei = melt_and_categorize_dates(pei, pei_date_columns, sort_by_date=True, var_name='visit', value_name='date')\n",
    "trw = melt_and_categorize_dates(trw, trw_date_columns, sort_by_date=True, var_name='visit', value_name='date')\n",
    "td = melt_and_categorize_dates(td, td_date_columns, sort_by_date=True, var_name='visit', value_name='date')\n",
    "cws = melt_and_categorize_dates(cws, cws_date_columns, sort_by_date=True, var_name='visit', value_name='date')\n",
    "aws = melt_and_categorize_dates(aws, aw_date_columns, sort_by_date=True, var_name='visit', value_name='date')\n",
    "psfs = melt_and_categorize_dates(psfs, psfs_date_columns, sort_by_date=True, var_name='visit', value_name='date')\n",
    "ptnt = melt_and_categorize_dates(ptnt, ptnt_date_columns, sort_by_date=True, var_name='visit', value_name='date')\n",
    "ptre = melt_and_categorize_dates(ptre, ['ptntre'], sort_by_date=True, var_name='visit', value_name='date')\n",
    "ptgc = melt_and_categorize_dates(ptgc, ptgc_date_columns, sort_by_date=True, var_name='visit', value_name='date')\n",
    "ptic = melt_and_categorize_dates(ptic, ptic_date_columns, sort_by_date=True, var_name='visit', value_name='date')\n",
    "ptfu = melt_and_categorize_dates(ptfu, ptfua_date_columns, sort_by_date=True, var_name='visit', value_name='date')"
   ],
   "metadata": {
    "collapsed": false
   },
   "id": "42d64a60a00b19d7"
  },
  {
   "cell_type": "code",
   "execution_count": null,
   "outputs": [],
   "source": [
    "gc"
   ],
   "metadata": {
    "collapsed": false
   },
   "id": "134881cc520a4061"
  },
  {
   "cell_type": "code",
   "execution_count": null,
   "outputs": [],
   "source": [
    "visits = visits.assign(rid=scr['rid'].values, sex=scr['sex'], age=scr['age'], visit=scr['visit'], date=scr['date'])"
   ],
   "metadata": {
    "collapsed": false
   },
   "id": "7f1f010744461a75"
  },
  {
   "cell_type": "code",
   "execution_count": null,
   "outputs": [],
   "source": [
    "visits = pd.concat([visits, intake[['rid', 'visit', 'date']]], ignore_index=True)"
   ],
   "metadata": {
    "collapsed": false
   },
   "id": "d580343e1eafb103"
  },
  {
   "cell_type": "code",
   "execution_count": null,
   "outputs": [],
   "source": [
    "visits = pd.concat([visits, gc[['rid', 'visit', 'date']]], ignore_index=True)"
   ],
   "metadata": {
    "collapsed": false
   },
   "id": "334eadccccbecc"
  },
  {
   "cell_type": "code",
   "execution_count": null,
   "outputs": [],
   "source": [
    "visits = pd.concat([visits, ic[['rid', 'visit', 'date']]], ignore_index=True)"
   ],
   "metadata": {
    "collapsed": false
   },
   "id": "1661854e901a6390"
  },
  {
   "cell_type": "code",
   "execution_count": null,
   "outputs": [],
   "source": [
    "visits = pd.concat([visits, fu[['rid', 'visit', 'date']]], ignore_index=True)"
   ],
   "metadata": {
    "collapsed": false
   },
   "id": "e796042d00f6255c"
  },
  {
   "cell_type": "code",
   "execution_count": null,
   "outputs": [],
   "source": [
    "visits = pd.concat([visits, pei[['rid', 'visit', 'date']]], ignore_index=True)"
   ],
   "metadata": {
    "collapsed": false
   },
   "id": "4919e1df1759e3fa"
  },
  {
   "cell_type": "code",
   "execution_count": null,
   "outputs": [],
   "source": [
    "visits = pd.concat([visits, trw[['rid', 'visit', 'date']]], ignore_index=True)"
   ],
   "metadata": {
    "collapsed": false
   },
   "id": "22a96c529ae660bc"
  },
  {
   "cell_type": "code",
   "execution_count": null,
   "outputs": [],
   "source": [
    "visits = pd.concat([visits, td[['rid', 'visit', 'date']]], ignore_index=True)"
   ],
   "metadata": {
    "collapsed": false
   },
   "id": "4c8ccd0271ac151a"
  },
  {
   "cell_type": "code",
   "execution_count": null,
   "outputs": [],
   "source": [
    "visits = pd.concat([visits, cws[['rid', 'visit', 'date']]], ignore_index=True)"
   ],
   "metadata": {
    "collapsed": false
   },
   "id": "675e983a6bd99adf"
  },
  {
   "cell_type": "code",
   "execution_count": null,
   "outputs": [],
   "source": [
    "visits = pd.concat([visits, aws[['rid', 'visit', 'date']]], ignore_index=True)"
   ],
   "metadata": {
    "collapsed": false
   },
   "id": "109933f29dab0cf2"
  },
  {
   "cell_type": "code",
   "execution_count": null,
   "outputs": [],
   "source": [
    "visits = pd.concat([visits, psfs[['rid', 'visit', 'date']]], ignore_index=True)"
   ],
   "metadata": {
    "collapsed": false
   },
   "id": "b9516d5bffa8fda9"
  },
  {
   "cell_type": "code",
   "execution_count": null,
   "outputs": [],
   "source": [
    "visits = pd.concat([visits, ptnt[['rid', 'visit', 'date']]], ignore_index=True)"
   ],
   "metadata": {
    "collapsed": false
   },
   "id": "9cddd88cba093fbd"
  },
  {
   "cell_type": "code",
   "execution_count": null,
   "outputs": [],
   "source": [
    "visits = pd.concat([visits, ptre[['rid', 'visit', 'date']]], ignore_index=True)"
   ],
   "metadata": {
    "collapsed": false
   },
   "id": "de99302fc5283236"
  },
  {
   "cell_type": "code",
   "execution_count": null,
   "outputs": [],
   "source": [
    "visits = pd.concat([visits, ptgc[['rid', 'visit', 'date']]], ignore_index=True)"
   ],
   "metadata": {
    "collapsed": false
   },
   "id": "b4bfa21fb56a6b46"
  },
  {
   "cell_type": "code",
   "execution_count": null,
   "outputs": [],
   "source": [
    "visits = pd.concat([visits, ptic[['rid', 'visit', 'date']]], ignore_index=True)"
   ],
   "metadata": {
    "collapsed": false
   },
   "id": "d20fd9de5f58a334"
  },
  {
   "cell_type": "code",
   "execution_count": null,
   "outputs": [],
   "source": [
    "visits = pd.concat([visits, ptfu[['rid', 'visit', 'date']]], ignore_index=True)"
   ],
   "metadata": {
    "collapsed": false
   },
   "id": "2dc68c5391021a05"
  },
  {
   "cell_type": "code",
   "execution_count": null,
   "outputs": [],
   "source": [
    "visits"
   ],
   "metadata": {
    "collapsed": false
   },
   "id": "129e4d8f1c2d36e3"
  },
  {
   "cell_type": "code",
   "execution_count": null,
   "outputs": [],
   "source": [
    "visits.to_csv('visit.csv')"
   ],
   "metadata": {
    "collapsed": false
   },
   "id": "ae059de804214f64"
  },
  {
   "cell_type": "code",
   "execution_count": null,
   "outputs": [],
   "source": [
    "visits['date'] = visits['date'].apply(pd.to_datetime)"
   ],
   "metadata": {
    "collapsed": false
   },
   "id": "2d58edd2d69e4d73"
  },
  {
   "cell_type": "code",
   "execution_count": null,
   "outputs": [],
   "source": [
    "visits.to_csv(r'011/datasets/visits.csv', index=False)"
   ],
   "metadata": {
    "collapsed": false
   },
   "id": "e2348455cf2f9dec"
  },
  {
   "cell_type": "code",
   "execution_count": null,
   "outputs": [],
   "source": [
    "visits23 = visits[(visits['date'] > threshold_date)]"
   ],
   "metadata": {
    "collapsed": false
   },
   "id": "2d6d8c05e36821ed"
  },
  {
   "cell_type": "code",
   "execution_count": null,
   "outputs": [],
   "source": [
    "# visits23.to_csv('visits23.csv')\n",
    "visits23.to_csv(r'011/datasets/visits23.csv', index=False)"
   ],
   "metadata": {
    "collapsed": false
   },
   "id": "1abafa51bf448d45"
  },
  {
   "cell_type": "code",
   "execution_count": null,
   "outputs": [],
   "source": [
    "# visits23csv['rid'].unique()\n",
    "visits23"
   ],
   "metadata": {
    "collapsed": false
   },
   "id": "ea5fb2bb5b4537b7"
  },
  {
   "cell_type": "code",
   "execution_count": null,
   "outputs": [],
   "source": [
    "visits23['date'].value_counts().max()"
   ],
   "metadata": {
    "collapsed": false
   },
   "id": "aacd7d3a334f9ab3"
  },
  {
   "cell_type": "code",
   "execution_count": null,
   "outputs": [],
   "source": [
    "visits23['date'].mode()"
   ],
   "metadata": {
    "collapsed": false
   },
   "id": "3ded8eefffb4212b"
  },
  {
   "cell_type": "code",
   "execution_count": null,
   "outputs": [],
   "source": [
    "visits23['rid'].mode()"
   ],
   "metadata": {
    "collapsed": false
   },
   "id": "31266d1b12a8d69"
  },
  {
   "cell_type": "code",
   "execution_count": null,
   "outputs": [],
   "source": [
    "visits23['rid'].value_counts().max()"
   ],
   "metadata": {
    "collapsed": false
   },
   "id": "3d3015d1c4439a48"
  }
 ],
 "metadata": {
  "kernelspec": {
   "display_name": "Python 3",
   "language": "python",
   "name": "python3"
  },
  "language_info": {
   "codemirror_mode": {
    "name": "ipython",
    "version": 2
   },
   "file_extension": ".py",
   "mimetype": "text/x-python",
   "name": "python",
   "nbconvert_exporter": "python",
   "pygments_lexer": "ipython2",
   "version": "2.7.6"
  }
 },
 "nbformat": 4,
 "nbformat_minor": 5
}
