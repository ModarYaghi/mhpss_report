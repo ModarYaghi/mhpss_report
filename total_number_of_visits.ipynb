{
 "cells": [
  {
   "cell_type": "code",
   "execution_count": 1,
   "id": "initial_id",
   "metadata": {
    "collapsed": true,
    "ExecuteTime": {
     "end_time": "2023-10-29T23:36:21.775799600Z",
     "start_time": "2023-10-29T23:36:21.144711800Z"
    }
   },
   "outputs": [],
   "source": [
    "import pandas as pd\n",
    "import os \n",
    "from ingredients import *\n",
    "from parse_funcs import *\n",
    "from mfyfunctions import *\n",
    "from analysis_functions import *"
   ]
  },
  {
   "cell_type": "code",
   "execution_count": 2,
   "outputs": [],
   "source": [
    "pd.set_option('display.float_format', '{:.1f}'.format)\n",
    "pd.set_option('display.max_colwidth', None)\n",
    "# noinspection PyTypeChecker\n",
    "threshold_date = pd.Timestamp('2022-09-30')"
   ],
   "metadata": {
    "collapsed": false,
    "ExecuteTime": {
     "end_time": "2023-10-29T23:36:22.656105900Z",
     "start_time": "2023-10-29T23:36:22.623532Z"
    }
   },
   "id": "f273845b5c4bbe60"
  },
  {
   "cell_type": "code",
   "execution_count": 3,
   "outputs": [],
   "source": [
    "datasets_path = r'011/datasets/'\n",
    "datasets = os.listdir(datasets_path) "
   ],
   "metadata": {
    "collapsed": false,
    "ExecuteTime": {
     "end_time": "2023-10-29T23:36:23.405034400Z",
     "start_time": "2023-10-29T23:36:23.400523100Z"
    }
   },
   "id": "8177996c3481956"
  },
  {
   "cell_type": "code",
   "execution_count": 4,
   "outputs": [],
   "source": [
    "dataframes = {}"
   ],
   "metadata": {
    "collapsed": false,
    "ExecuteTime": {
     "end_time": "2023-10-29T23:36:24.235519100Z",
     "start_time": "2023-10-29T23:36:24.232965500Z"
    }
   },
   "id": "47f2e0013399b26e"
  },
  {
   "cell_type": "code",
   "execution_count": 5,
   "outputs": [],
   "source": [
    "for dataset in datasets:\n",
    "    if dataset.endswith('.csv'):\n",
    "        dataset_path = os.path.join(datasets_path, dataset)\n",
    "        df = pd.read_csv(dataset_path)\n",
    "        dataset_name = datasets_names[dataset]\n",
    "        globals()[dataset_name] = df\n",
    "        dataframes[dataset_name] = df"
   ],
   "metadata": {
    "collapsed": false,
    "ExecuteTime": {
     "end_time": "2023-10-29T23:36:25.380872400Z",
     "start_time": "2023-10-29T23:36:25.317654600Z"
    }
   },
   "id": "6a0de6decdeb43a2"
  },
  {
   "cell_type": "code",
   "execution_count": 6,
   "outputs": [
    {
     "data": {
      "text/plain": "dict_keys(['scr', 'int', 'gc', 'ic', 'fu', 'pei', 'trw', 'td', 'cws', 'aws', 'psfs', 'ptnt', 'ptre', 'ptgc', 'ptic', 'ptfu'])"
     },
     "execution_count": 6,
     "metadata": {},
     "output_type": "execute_result"
    }
   ],
   "source": [
    "dataframes.keys()"
   ],
   "metadata": {
    "collapsed": false,
    "ExecuteTime": {
     "end_time": "2023-10-29T23:36:26.722254400Z",
     "start_time": "2023-10-29T23:36:26.690674900Z"
    }
   },
   "id": "1b0ff3ae4bce90fa"
  },
  {
   "cell_type": "code",
   "execution_count": 7,
   "outputs": [],
   "source": [
    "# Creating empty dataframe\n",
    "visits_columns = ['rid', 'sex', 'age', 'visit','date']\n",
    "visits = pd.DataFrame(columns=visits_columns)"
   ],
   "metadata": {
    "collapsed": false,
    "ExecuteTime": {
     "end_time": "2023-10-29T23:36:30.778940200Z",
     "start_time": "2023-10-29T23:36:30.745138700Z"
    }
   },
   "id": "364feed95796c3b4"
  },
  {
   "cell_type": "code",
   "execution_count": 10,
   "outputs": [],
   "source": [
    "for key, value in dataframes.items():\n",
    "    date_columns = parse_date_columns(value)\n",
    "    df = melt_and_categorize_dates(\n",
    "        value,\n",
    "        date_columns,\n",
    "        sort_by_date=True,\n",
    "        var_name='visit',\n",
    "        value_name='date'\n",
    "    )\n",
    "    if key == 'scr':\n",
    "        visits = visits.assign(\n",
    "            rid=df['rid'].values,\n",
    "            sex=df['sex'].values,\n",
    "            age=df['age'].values,\n",
    "            visit=df['visit'].values,\n",
    "            date=df['date'].values\n",
    "        )\n",
    "    else:\n",
    "        visits = pd.concat([visits, df[['rid', 'visit', 'date']]], ignore_index=True)"
   ],
   "metadata": {
    "collapsed": false,
    "ExecuteTime": {
     "end_time": "2023-10-29T23:37:25.244745100Z",
     "start_time": "2023-10-29T23:37:25.069266800Z"
    }
   },
   "id": "1ca8c646d852ed52"
  },
  {
   "cell_type": "code",
   "execution_count": 11,
   "outputs": [
    {
     "data": {
      "text/plain": "        rid  sex  age visit       date\n0     R0028  1.0 48.0   sc1 2020-06-23\n1     R0029  1.0 46.0   sc1 2020-06-24\n2     R0031  2.0 59.0   sc1 2020-07-02\n3     R0034  2.0 34.0   sc1 2020-07-03\n4     R0039  1.0 43.0   sc1 2020-11-10\n...     ...  ...  ...   ...        ...\n4687  R0592  NaN  NaN  pt3m 2023-09-28\n4688  R0367  NaN  NaN  pt3m 2023-09-28\n4689  R0391  NaN  NaN  pt3m 2023-09-28\n4690  R0441  NaN  NaN  pt3m 2023-09-28\n4691  R0298  NaN  NaN  pt3m 2023-09-28\n\n[4692 rows x 5 columns]",
      "text/html": "<div>\n<style scoped>\n    .dataframe tbody tr th:only-of-type {\n        vertical-align: middle;\n    }\n\n    .dataframe tbody tr th {\n        vertical-align: top;\n    }\n\n    .dataframe thead th {\n        text-align: right;\n    }\n</style>\n<table border=\"1\" class=\"dataframe\">\n  <thead>\n    <tr style=\"text-align: right;\">\n      <th></th>\n      <th>rid</th>\n      <th>sex</th>\n      <th>age</th>\n      <th>visit</th>\n      <th>date</th>\n    </tr>\n  </thead>\n  <tbody>\n    <tr>\n      <th>0</th>\n      <td>R0028</td>\n      <td>1.0</td>\n      <td>48.0</td>\n      <td>sc1</td>\n      <td>2020-06-23</td>\n    </tr>\n    <tr>\n      <th>1</th>\n      <td>R0029</td>\n      <td>1.0</td>\n      <td>46.0</td>\n      <td>sc1</td>\n      <td>2020-06-24</td>\n    </tr>\n    <tr>\n      <th>2</th>\n      <td>R0031</td>\n      <td>2.0</td>\n      <td>59.0</td>\n      <td>sc1</td>\n      <td>2020-07-02</td>\n    </tr>\n    <tr>\n      <th>3</th>\n      <td>R0034</td>\n      <td>2.0</td>\n      <td>34.0</td>\n      <td>sc1</td>\n      <td>2020-07-03</td>\n    </tr>\n    <tr>\n      <th>4</th>\n      <td>R0039</td>\n      <td>1.0</td>\n      <td>43.0</td>\n      <td>sc1</td>\n      <td>2020-11-10</td>\n    </tr>\n    <tr>\n      <th>...</th>\n      <td>...</td>\n      <td>...</td>\n      <td>...</td>\n      <td>...</td>\n      <td>...</td>\n    </tr>\n    <tr>\n      <th>4687</th>\n      <td>R0592</td>\n      <td>NaN</td>\n      <td>NaN</td>\n      <td>pt3m</td>\n      <td>2023-09-28</td>\n    </tr>\n    <tr>\n      <th>4688</th>\n      <td>R0367</td>\n      <td>NaN</td>\n      <td>NaN</td>\n      <td>pt3m</td>\n      <td>2023-09-28</td>\n    </tr>\n    <tr>\n      <th>4689</th>\n      <td>R0391</td>\n      <td>NaN</td>\n      <td>NaN</td>\n      <td>pt3m</td>\n      <td>2023-09-28</td>\n    </tr>\n    <tr>\n      <th>4690</th>\n      <td>R0441</td>\n      <td>NaN</td>\n      <td>NaN</td>\n      <td>pt3m</td>\n      <td>2023-09-28</td>\n    </tr>\n    <tr>\n      <th>4691</th>\n      <td>R0298</td>\n      <td>NaN</td>\n      <td>NaN</td>\n      <td>pt3m</td>\n      <td>2023-09-28</td>\n    </tr>\n  </tbody>\n</table>\n<p>4692 rows × 5 columns</p>\n</div>"
     },
     "execution_count": 11,
     "metadata": {},
     "output_type": "execute_result"
    }
   ],
   "source": [
    "visits"
   ],
   "metadata": {
    "collapsed": false,
    "ExecuteTime": {
     "end_time": "2023-10-29T23:37:34.671863700Z",
     "start_time": "2023-10-29T23:37:34.620107Z"
    }
   },
   "id": "129e4d8f1c2d36e3"
  },
  {
   "cell_type": "code",
   "execution_count": null,
   "outputs": [],
   "source": [
    "# visits.to_csv('visit.csv')"
   ],
   "metadata": {
    "collapsed": false
   },
   "id": "ae059de804214f64"
  },
  {
   "cell_type": "code",
   "execution_count": null,
   "outputs": [],
   "source": [
    "# visits['date'] = visits['date'].apply(pd.to_datetime)"
   ],
   "metadata": {
    "collapsed": false
   },
   "id": "2d58edd2d69e4d73"
  },
  {
   "cell_type": "code",
   "execution_count": null,
   "outputs": [],
   "source": [
    "# visits.to_csv(r'011/datasets/visits.csv', index=False)"
   ],
   "metadata": {
    "collapsed": false
   },
   "id": "e2348455cf2f9dec"
  },
  {
   "cell_type": "code",
   "execution_count": 12,
   "outputs": [
    {
     "data": {
      "text/plain": "        rid  sex  age visit       date\n292   R0553  1.0 31.0   sc1 2022-10-03\n293   R0552  1.0 37.0   sc1 2022-10-04\n294   R0393  1.0 48.0   sc1 2022-10-10\n295   R0558  2.0 49.0   sc1 2022-10-21\n296   R0556  2.0 63.0   sc1 2022-10-24\n...     ...  ...  ...   ...        ...\n4687  R0592  NaN  NaN  pt3m 2023-09-28\n4688  R0367  NaN  NaN  pt3m 2023-09-28\n4689  R0391  NaN  NaN  pt3m 2023-09-28\n4690  R0441  NaN  NaN  pt3m 2023-09-28\n4691  R0298  NaN  NaN  pt3m 2023-09-28\n\n[2210 rows x 5 columns]",
      "text/html": "<div>\n<style scoped>\n    .dataframe tbody tr th:only-of-type {\n        vertical-align: middle;\n    }\n\n    .dataframe tbody tr th {\n        vertical-align: top;\n    }\n\n    .dataframe thead th {\n        text-align: right;\n    }\n</style>\n<table border=\"1\" class=\"dataframe\">\n  <thead>\n    <tr style=\"text-align: right;\">\n      <th></th>\n      <th>rid</th>\n      <th>sex</th>\n      <th>age</th>\n      <th>visit</th>\n      <th>date</th>\n    </tr>\n  </thead>\n  <tbody>\n    <tr>\n      <th>292</th>\n      <td>R0553</td>\n      <td>1.0</td>\n      <td>31.0</td>\n      <td>sc1</td>\n      <td>2022-10-03</td>\n    </tr>\n    <tr>\n      <th>293</th>\n      <td>R0552</td>\n      <td>1.0</td>\n      <td>37.0</td>\n      <td>sc1</td>\n      <td>2022-10-04</td>\n    </tr>\n    <tr>\n      <th>294</th>\n      <td>R0393</td>\n      <td>1.0</td>\n      <td>48.0</td>\n      <td>sc1</td>\n      <td>2022-10-10</td>\n    </tr>\n    <tr>\n      <th>295</th>\n      <td>R0558</td>\n      <td>2.0</td>\n      <td>49.0</td>\n      <td>sc1</td>\n      <td>2022-10-21</td>\n    </tr>\n    <tr>\n      <th>296</th>\n      <td>R0556</td>\n      <td>2.0</td>\n      <td>63.0</td>\n      <td>sc1</td>\n      <td>2022-10-24</td>\n    </tr>\n    <tr>\n      <th>...</th>\n      <td>...</td>\n      <td>...</td>\n      <td>...</td>\n      <td>...</td>\n      <td>...</td>\n    </tr>\n    <tr>\n      <th>4687</th>\n      <td>R0592</td>\n      <td>NaN</td>\n      <td>NaN</td>\n      <td>pt3m</td>\n      <td>2023-09-28</td>\n    </tr>\n    <tr>\n      <th>4688</th>\n      <td>R0367</td>\n      <td>NaN</td>\n      <td>NaN</td>\n      <td>pt3m</td>\n      <td>2023-09-28</td>\n    </tr>\n    <tr>\n      <th>4689</th>\n      <td>R0391</td>\n      <td>NaN</td>\n      <td>NaN</td>\n      <td>pt3m</td>\n      <td>2023-09-28</td>\n    </tr>\n    <tr>\n      <th>4690</th>\n      <td>R0441</td>\n      <td>NaN</td>\n      <td>NaN</td>\n      <td>pt3m</td>\n      <td>2023-09-28</td>\n    </tr>\n    <tr>\n      <th>4691</th>\n      <td>R0298</td>\n      <td>NaN</td>\n      <td>NaN</td>\n      <td>pt3m</td>\n      <td>2023-09-28</td>\n    </tr>\n  </tbody>\n</table>\n<p>2210 rows × 5 columns</p>\n</div>"
     },
     "execution_count": 12,
     "metadata": {},
     "output_type": "execute_result"
    }
   ],
   "source": [
    "visits23 = visits[(visits['date'] > threshold_date)]\n",
    "visits23"
   ],
   "metadata": {
    "collapsed": false,
    "ExecuteTime": {
     "end_time": "2023-10-29T23:39:07.026691600Z",
     "start_time": "2023-10-29T23:39:06.996872500Z"
    }
   },
   "id": "2d6d8c05e36821ed"
  },
  {
   "cell_type": "code",
   "execution_count": null,
   "outputs": [],
   "source": [
    "# visits23.to_csv('visits23.csv')\n",
    "visits23.to_csv(r'011/datasets/visits23.csv', index=False)"
   ],
   "metadata": {
    "collapsed": false
   },
   "id": "1abafa51bf448d45"
  },
  {
   "cell_type": "code",
   "execution_count": null,
   "outputs": [],
   "source": [
    "# visits23csv['rid'].unique()\n",
    "visits23"
   ],
   "metadata": {
    "collapsed": false
   },
   "id": "ea5fb2bb5b4537b7"
  },
  {
   "cell_type": "code",
   "execution_count": null,
   "outputs": [],
   "source": [
    "visits23['date'].value_counts().max()"
   ],
   "metadata": {
    "collapsed": false
   },
   "id": "aacd7d3a334f9ab3"
  },
  {
   "cell_type": "code",
   "execution_count": null,
   "outputs": [],
   "source": [
    "visits23['date'].mode()"
   ],
   "metadata": {
    "collapsed": false
   },
   "id": "3ded8eefffb4212b"
  },
  {
   "cell_type": "code",
   "execution_count": null,
   "outputs": [],
   "source": [
    "visits23['rid'].mode()"
   ],
   "metadata": {
    "collapsed": false
   },
   "id": "31266d1b12a8d69"
  },
  {
   "cell_type": "code",
   "execution_count": null,
   "outputs": [],
   "source": [
    "visits23['rid'].value_counts().max()"
   ],
   "metadata": {
    "collapsed": false
   },
   "id": "3d3015d1c4439a48"
  },
  {
   "cell_type": "code",
   "execution_count": null,
   "outputs": [],
   "source": [],
   "metadata": {
    "collapsed": false
   },
   "id": "9f3ed0aebe0166ad"
  }
 ],
 "metadata": {
  "kernelspec": {
   "display_name": "Python 3",
   "language": "python",
   "name": "python3"
  },
  "language_info": {
   "codemirror_mode": {
    "name": "ipython",
    "version": 2
   },
   "file_extension": ".py",
   "mimetype": "text/x-python",
   "name": "python",
   "nbconvert_exporter": "python",
   "pygments_lexer": "ipython2",
   "version": "2.7.6"
  }
 },
 "nbformat": 4,
 "nbformat_minor": 5
}
