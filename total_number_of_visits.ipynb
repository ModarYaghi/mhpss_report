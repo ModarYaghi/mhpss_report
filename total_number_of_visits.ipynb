{
 "cells": [
  {
   "cell_type": "code",
   "execution_count": null,
   "id": "initial_id",
   "metadata": {
    "collapsed": true
   },
   "outputs": [],
   "source": [
    "import pandas as pd\n",
    "from column_names_groups import *\n",
    "from mfyfunctions import *\n",
    "from analysis_functions import *\n",
    "import os"
   ]
  },
  {
   "cell_type": "code",
   "execution_count": null,
   "outputs": [],
   "source": [
    "pd.set_option('display.float_format', '{:.1f}'.format)\n",
    "pd.set_option('display.max_colwidth', None)\n",
    "# noinspection PyTypeChecker\n",
    "threshold_date = pd.Timestamp('2022-09-30')"
   ],
   "metadata": {
    "collapsed": false
   },
   "id": "f273845b5c4bbe60"
  },
  {
   "cell_type": "code",
   "execution_count": null,
   "outputs": [],
   "source": [
    "scr = pd.read_csv(r'011/datasets/0000_ps_sc_092310.csv')\n",
    "intake = pd.read_csv(r'011/datasets/0001_ps_nt_092310.csv')\n",
    "gc = pd.read_csv(r'011/datasets/0010_ps_gc_092310.csv')\n",
    "ic = pd.read_csv(r'011/datasets/0011_ps_ic_092310.csv')\n",
    "fu = pd.read_csv(r'011/datasets/0100_ps_fu_092310.csv')\n",
    "pei = pd.read_csv(r'011/datasets/0101_ps_pe_092310.csv')\n",
    "trw = pd.read_csv(r'011/datasets/0110_ps_tr_092310.csv')\n",
    "td = pd.read_csv(r'011/datasets/0111_ps_td_092310.csv')\n",
    "cws = pd.read_csv(r'011/datasets/1000_ps_cw_092310.csv')\n",
    "aws = pd.read_csv(r'011/datasets/1001_ps_aw_092310.csv')\n",
    "psfs = pd.read_csv(r'011/datasets/1010_pt_pf_092310.csv')\n",
    "ptnt = pd.read_csv(r'011/datasets/1011_pt_nt_092310.csv')\n",
    "ptre = pd.read_csv(r'011/datasets/1100_pt_re_092310.csv')\n",
    "ptgc = pd.read_csv(r'011/datasets/1101_pt_gc_092310.csv')\n",
    "ptic = pd.read_csv(r'011/datasets/1110_pt_ic_092310.csv')\n",
    "ptfu = pd.read_csv(r'011/datasets/1111_pt_fu_092310.csv')"
   ],
   "metadata": {
    "collapsed": false
   },
   "id": "192c4ba5d56c2185"
  },
  {
   "cell_type": "code",
   "execution_count": null,
   "outputs": [],
   "source": [
    "# Creating empty dataframe\n",
    "visits_columns = ['rid', 'sex', 'age', 'visit','date']\n",
    "visits = pd.DataFrame(columns=visits_columns)"
   ],
   "metadata": {
    "collapsed": false
   },
   "id": "364feed95796c3b4"
  },
  {
   "cell_type": "code",
   "execution_count": null,
   "outputs": [],
   "source": [
    "gc"
   ],
   "metadata": {
    "collapsed": false
   },
   "id": "d4e03ee6edec0a6c"
  },
  {
   "cell_type": "code",
   "execution_count": null,
   "outputs": [],
   "source": [
    "# scr = melt_and_categorize_dates(scr, screening_date_columns, sort_by_date=True, var_name='visit', value_name='date')\n",
    "# intake = melt_and_categorize_dates(intake, intake_date_columns, sort_by_date=True, var_name='visit', value_name='date')\n",
    "gc = melt_and_categorize_dates(gc, group_counseling_date_columns, sort_by_date=True, var_name='visit', value_name='date')\n"
   ],
   "metadata": {
    "collapsed": false
   },
   "id": "42d64a60a00b19d7"
  },
  {
   "cell_type": "code",
   "execution_count": null,
   "outputs": [],
   "source": [
    "gc"
   ],
   "metadata": {
    "collapsed": false
   },
   "id": "134881cc520a4061"
  },
  {
   "cell_type": "code",
   "execution_count": null,
   "outputs": [],
   "source": [
    "# visits = visits.assign(rid=scr['rid'].values, sex=scr['sex'], age=scr['age'], visit=scr['visit'], date=scr['date'])\n",
    "# visits = pd.concat([visits, intake[['rid', 'visit', 'date']]], ignore_index=True)"
   ],
   "metadata": {
    "collapsed": false
   },
   "id": "7f1f010744461a75"
  },
  {
   "cell_type": "code",
   "execution_count": null,
   "outputs": [],
   "source": [
    "visits"
   ],
   "metadata": {
    "collapsed": false
   },
   "id": "129e4d8f1c2d36e3"
  },
  {
   "cell_type": "code",
   "execution_count": null,
   "outputs": [],
   "source": [],
   "metadata": {
    "collapsed": false
   },
   "id": "dd77532a7e5cebe1"
  }
 ],
 "metadata": {
  "kernelspec": {
   "display_name": "Python 3",
   "language": "python",
   "name": "python3"
  },
  "language_info": {
   "codemirror_mode": {
    "name": "ipython",
    "version": 2
   },
   "file_extension": ".py",
   "mimetype": "text/x-python",
   "name": "python",
   "nbconvert_exporter": "python",
   "pygments_lexer": "ipython2",
   "version": "2.7.6"
  }
 },
 "nbformat": 4,
 "nbformat_minor": 5
}
