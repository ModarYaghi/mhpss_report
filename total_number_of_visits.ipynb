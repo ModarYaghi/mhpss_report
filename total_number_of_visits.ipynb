{
 "cells": [
  {
   "cell_type": "code",
   "execution_count": 2,
   "id": "initial_id",
   "metadata": {
    "collapsed": true,
    "ExecuteTime": {
     "end_time": "2023-10-30T07:48:27.468331700Z",
     "start_time": "2023-10-30T07:48:27.448169600Z"
    }
   },
   "outputs": [],
   "source": [
    "import pandas as pd\n",
    "import os \n",
    "from ingredients import *\n",
    "from parse_funcs import *\n",
    "from mfyfunctions import *\n",
    "from analysis_functions import *"
   ]
  },
  {
   "cell_type": "code",
   "execution_count": 3,
   "outputs": [],
   "source": [
    "pd.set_option('display.float_format', '{:.1f}'.format)\n",
    "pd.set_option('display.max_colwidth', None)\n",
    "# noinspection PyTypeChecker\n",
    "threshold_date = pd.Timestamp('2022-09-30')"
   ],
   "metadata": {
    "collapsed": false,
    "ExecuteTime": {
     "end_time": "2023-10-30T07:48:28.727998Z",
     "start_time": "2023-10-30T07:48:28.723477700Z"
    }
   },
   "id": "f273845b5c4bbe60"
  },
  {
   "cell_type": "code",
   "execution_count": 4,
   "outputs": [],
   "source": [
    "datasets_path = r'011/datasets/'\n",
    "datasets = os.listdir(datasets_path) "
   ],
   "metadata": {
    "collapsed": false,
    "ExecuteTime": {
     "end_time": "2023-10-30T07:48:30.540604600Z",
     "start_time": "2023-10-30T07:48:30.536617400Z"
    }
   },
   "id": "8177996c3481956"
  },
  {
   "cell_type": "code",
   "execution_count": 5,
   "outputs": [],
   "source": [
    "dataframes = {}"
   ],
   "metadata": {
    "collapsed": false,
    "ExecuteTime": {
     "end_time": "2023-10-30T07:48:32.126935500Z",
     "start_time": "2023-10-30T07:48:32.119957700Z"
    }
   },
   "id": "47f2e0013399b26e"
  },
  {
   "cell_type": "code",
   "execution_count": 6,
   "outputs": [],
   "source": [
    "for dataset in datasets:\n",
    "    if dataset.endswith('.csv'):\n",
    "        dataset_path = os.path.join(datasets_path, dataset)\n",
    "        df = pd.read_csv(dataset_path)\n",
    "        dataset_name = datasets_names[dataset]\n",
    "        globals()[dataset_name] = df\n",
    "        dataframes[dataset_name] = df"
   ],
   "metadata": {
    "collapsed": false,
    "ExecuteTime": {
     "end_time": "2023-10-30T07:48:33.968329Z",
     "start_time": "2023-10-30T07:48:33.909691400Z"
    }
   },
   "id": "6a0de6decdeb43a2"
  },
  {
   "cell_type": "code",
   "execution_count": 7,
   "outputs": [
    {
     "data": {
      "text/plain": "dict_keys(['scr', 'int', 'gc', 'ic', 'fu', 'pei', 'trw', 'td', 'cws', 'aws', 'psfs', 'ptnt', 'ptre', 'ptgc', 'ptic', 'ptfu'])"
     },
     "execution_count": 7,
     "metadata": {},
     "output_type": "execute_result"
    }
   ],
   "source": [
    "dataframes.keys()"
   ],
   "metadata": {
    "collapsed": false,
    "ExecuteTime": {
     "end_time": "2023-10-30T07:48:35.620560Z",
     "start_time": "2023-10-30T07:48:35.603063700Z"
    }
   },
   "id": "1b0ff3ae4bce90fa"
  },
  {
   "cell_type": "code",
   "execution_count": 20,
   "outputs": [],
   "source": [
    "td23 = td[(td[['is1', 'is2', 'is3']] > threshold_date).any(axis=1)]"
   ],
   "metadata": {
    "collapsed": false,
    "ExecuteTime": {
     "end_time": "2023-10-30T08:22:31.154534100Z",
     "start_time": "2023-10-30T08:22:31.129537800Z"
    }
   },
   "id": "49a0578bc8a1bbcd"
  },
  {
   "cell_type": "code",
   "execution_count": 21,
   "outputs": [
    {
     "data": {
      "text/plain": "   tdsp  tdspi    rid        fcid  tdcc       cslt       csnt  ld  iu  cw  \\\n7    YQ      8  R0110  8110050018    11 2022-10-31 2022-10-31   0   1   1   \n10   YQ     11  R0102  8110050015    11 2022-11-01 2022-11-01   1   1   1   \n16   YQ     17  R0336  8110050059    11 2022-12-02 2022-12-02   1   1   1   \n20   YQ     21  R0112  8110050019    11 2022-10-31 2022-10-31   0   1   1   \n21   YQ     22  R0114  8110050021    11 2022-10-31 2022-10-31   0   1   1   \n33   SA      8  R0077  8110060007   101 2023-08-01 2023-08-08   1   1   1   \n34   SA      9  R0065  8110060004    11 2023-05-03 2023-05-03   0   1   1   \n35   SA     10  R0066  8110060006    11 2023-05-03 2023-05-03   0   1   1   \n39   SA     14  R0155  8110020067    11 2022-11-30 2022-11-30   1   1   1   \n42   SA     17  R0255  8110070004    11 2022-12-19 2022-12-19   0   1   1   \n43   SA     18  R0089  8110060012    11 2022-12-01 2022-12-01   1   1   1   \n46   IJ      1  R0402  8110020119    11 2023-07-24 2023-07-24   0   1   1   \n47   IJ      2  R0314  8110020091    11 2023-07-31 2023-07-31   0   1   1   \n50   LA      1  R0300  8110020093   101 2023-08-04 2023-07-26   1   1   1   \n54   MT      1  R0501  8110020120   101 2023-08-03 2023-07-28   1   1   1   \n\n    com  adv  tdis        is1        is2        is3  tdt  \n7     1    1   110 2023-05-04 2023-05-18        NaT    2  \n10    1    1   111 2023-07-28 2023-08-10 2023-08-17    3  \n16    1    1   110 2023-08-02 2023-08-09        NaT    2  \n20    1    1   110 2023-08-16 2023-08-23        NaT    2  \n21    1    1   110 2023-05-16 2023-05-23        NaT    2  \n33    1    1   110 2023-08-21 2023-08-28        NaT    2  \n34    1    1   110 2023-06-02 2023-06-05        NaT    2  \n35    1    1   111 2023-08-22 2023-08-29 2023-09-07    3  \n39    1    1   110 2023-05-31 2023-06-05        NaT    2  \n42    0    0   110 2023-07-28 2023-08-04        NaT    2  \n43    1    1   110 2023-08-03 2023-08-17        NaT    2  \n46    1    1   111 2023-07-08 2023-08-18 2023-09-15    3  \n47    1    0   110 2023-09-07 2023-09-15        NaT    2  \n50    0    1   111 2023-08-11 2023-08-17 2023-08-25    3  \n54    1    1   110 2023-08-09 2025-08-25        NaT    2  ",
      "text/html": "<div>\n<style scoped>\n    .dataframe tbody tr th:only-of-type {\n        vertical-align: middle;\n    }\n\n    .dataframe tbody tr th {\n        vertical-align: top;\n    }\n\n    .dataframe thead th {\n        text-align: right;\n    }\n</style>\n<table border=\"1\" class=\"dataframe\">\n  <thead>\n    <tr style=\"text-align: right;\">\n      <th></th>\n      <th>tdsp</th>\n      <th>tdspi</th>\n      <th>rid</th>\n      <th>fcid</th>\n      <th>tdcc</th>\n      <th>cslt</th>\n      <th>csnt</th>\n      <th>ld</th>\n      <th>iu</th>\n      <th>cw</th>\n      <th>com</th>\n      <th>adv</th>\n      <th>tdis</th>\n      <th>is1</th>\n      <th>is2</th>\n      <th>is3</th>\n      <th>tdt</th>\n    </tr>\n  </thead>\n  <tbody>\n    <tr>\n      <th>7</th>\n      <td>YQ</td>\n      <td>8</td>\n      <td>R0110</td>\n      <td>8110050018</td>\n      <td>11</td>\n      <td>2022-10-31</td>\n      <td>2022-10-31</td>\n      <td>0</td>\n      <td>1</td>\n      <td>1</td>\n      <td>1</td>\n      <td>1</td>\n      <td>110</td>\n      <td>2023-05-04</td>\n      <td>2023-05-18</td>\n      <td>NaT</td>\n      <td>2</td>\n    </tr>\n    <tr>\n      <th>10</th>\n      <td>YQ</td>\n      <td>11</td>\n      <td>R0102</td>\n      <td>8110050015</td>\n      <td>11</td>\n      <td>2022-11-01</td>\n      <td>2022-11-01</td>\n      <td>1</td>\n      <td>1</td>\n      <td>1</td>\n      <td>1</td>\n      <td>1</td>\n      <td>111</td>\n      <td>2023-07-28</td>\n      <td>2023-08-10</td>\n      <td>2023-08-17</td>\n      <td>3</td>\n    </tr>\n    <tr>\n      <th>16</th>\n      <td>YQ</td>\n      <td>17</td>\n      <td>R0336</td>\n      <td>8110050059</td>\n      <td>11</td>\n      <td>2022-12-02</td>\n      <td>2022-12-02</td>\n      <td>1</td>\n      <td>1</td>\n      <td>1</td>\n      <td>1</td>\n      <td>1</td>\n      <td>110</td>\n      <td>2023-08-02</td>\n      <td>2023-08-09</td>\n      <td>NaT</td>\n      <td>2</td>\n    </tr>\n    <tr>\n      <th>20</th>\n      <td>YQ</td>\n      <td>21</td>\n      <td>R0112</td>\n      <td>8110050019</td>\n      <td>11</td>\n      <td>2022-10-31</td>\n      <td>2022-10-31</td>\n      <td>0</td>\n      <td>1</td>\n      <td>1</td>\n      <td>1</td>\n      <td>1</td>\n      <td>110</td>\n      <td>2023-08-16</td>\n      <td>2023-08-23</td>\n      <td>NaT</td>\n      <td>2</td>\n    </tr>\n    <tr>\n      <th>21</th>\n      <td>YQ</td>\n      <td>22</td>\n      <td>R0114</td>\n      <td>8110050021</td>\n      <td>11</td>\n      <td>2022-10-31</td>\n      <td>2022-10-31</td>\n      <td>0</td>\n      <td>1</td>\n      <td>1</td>\n      <td>1</td>\n      <td>1</td>\n      <td>110</td>\n      <td>2023-05-16</td>\n      <td>2023-05-23</td>\n      <td>NaT</td>\n      <td>2</td>\n    </tr>\n    <tr>\n      <th>33</th>\n      <td>SA</td>\n      <td>8</td>\n      <td>R0077</td>\n      <td>8110060007</td>\n      <td>101</td>\n      <td>2023-08-01</td>\n      <td>2023-08-08</td>\n      <td>1</td>\n      <td>1</td>\n      <td>1</td>\n      <td>1</td>\n      <td>1</td>\n      <td>110</td>\n      <td>2023-08-21</td>\n      <td>2023-08-28</td>\n      <td>NaT</td>\n      <td>2</td>\n    </tr>\n    <tr>\n      <th>34</th>\n      <td>SA</td>\n      <td>9</td>\n      <td>R0065</td>\n      <td>8110060004</td>\n      <td>11</td>\n      <td>2023-05-03</td>\n      <td>2023-05-03</td>\n      <td>0</td>\n      <td>1</td>\n      <td>1</td>\n      <td>1</td>\n      <td>1</td>\n      <td>110</td>\n      <td>2023-06-02</td>\n      <td>2023-06-05</td>\n      <td>NaT</td>\n      <td>2</td>\n    </tr>\n    <tr>\n      <th>35</th>\n      <td>SA</td>\n      <td>10</td>\n      <td>R0066</td>\n      <td>8110060006</td>\n      <td>11</td>\n      <td>2023-05-03</td>\n      <td>2023-05-03</td>\n      <td>0</td>\n      <td>1</td>\n      <td>1</td>\n      <td>1</td>\n      <td>1</td>\n      <td>111</td>\n      <td>2023-08-22</td>\n      <td>2023-08-29</td>\n      <td>2023-09-07</td>\n      <td>3</td>\n    </tr>\n    <tr>\n      <th>39</th>\n      <td>SA</td>\n      <td>14</td>\n      <td>R0155</td>\n      <td>8110020067</td>\n      <td>11</td>\n      <td>2022-11-30</td>\n      <td>2022-11-30</td>\n      <td>1</td>\n      <td>1</td>\n      <td>1</td>\n      <td>1</td>\n      <td>1</td>\n      <td>110</td>\n      <td>2023-05-31</td>\n      <td>2023-06-05</td>\n      <td>NaT</td>\n      <td>2</td>\n    </tr>\n    <tr>\n      <th>42</th>\n      <td>SA</td>\n      <td>17</td>\n      <td>R0255</td>\n      <td>8110070004</td>\n      <td>11</td>\n      <td>2022-12-19</td>\n      <td>2022-12-19</td>\n      <td>0</td>\n      <td>1</td>\n      <td>1</td>\n      <td>0</td>\n      <td>0</td>\n      <td>110</td>\n      <td>2023-07-28</td>\n      <td>2023-08-04</td>\n      <td>NaT</td>\n      <td>2</td>\n    </tr>\n    <tr>\n      <th>43</th>\n      <td>SA</td>\n      <td>18</td>\n      <td>R0089</td>\n      <td>8110060012</td>\n      <td>11</td>\n      <td>2022-12-01</td>\n      <td>2022-12-01</td>\n      <td>1</td>\n      <td>1</td>\n      <td>1</td>\n      <td>1</td>\n      <td>1</td>\n      <td>110</td>\n      <td>2023-08-03</td>\n      <td>2023-08-17</td>\n      <td>NaT</td>\n      <td>2</td>\n    </tr>\n    <tr>\n      <th>46</th>\n      <td>IJ</td>\n      <td>1</td>\n      <td>R0402</td>\n      <td>8110020119</td>\n      <td>11</td>\n      <td>2023-07-24</td>\n      <td>2023-07-24</td>\n      <td>0</td>\n      <td>1</td>\n      <td>1</td>\n      <td>1</td>\n      <td>1</td>\n      <td>111</td>\n      <td>2023-07-08</td>\n      <td>2023-08-18</td>\n      <td>2023-09-15</td>\n      <td>3</td>\n    </tr>\n    <tr>\n      <th>47</th>\n      <td>IJ</td>\n      <td>2</td>\n      <td>R0314</td>\n      <td>8110020091</td>\n      <td>11</td>\n      <td>2023-07-31</td>\n      <td>2023-07-31</td>\n      <td>0</td>\n      <td>1</td>\n      <td>1</td>\n      <td>1</td>\n      <td>0</td>\n      <td>110</td>\n      <td>2023-09-07</td>\n      <td>2023-09-15</td>\n      <td>NaT</td>\n      <td>2</td>\n    </tr>\n    <tr>\n      <th>50</th>\n      <td>LA</td>\n      <td>1</td>\n      <td>R0300</td>\n      <td>8110020093</td>\n      <td>101</td>\n      <td>2023-08-04</td>\n      <td>2023-07-26</td>\n      <td>1</td>\n      <td>1</td>\n      <td>1</td>\n      <td>0</td>\n      <td>1</td>\n      <td>111</td>\n      <td>2023-08-11</td>\n      <td>2023-08-17</td>\n      <td>2023-08-25</td>\n      <td>3</td>\n    </tr>\n    <tr>\n      <th>54</th>\n      <td>MT</td>\n      <td>1</td>\n      <td>R0501</td>\n      <td>8110020120</td>\n      <td>101</td>\n      <td>2023-08-03</td>\n      <td>2023-07-28</td>\n      <td>1</td>\n      <td>1</td>\n      <td>1</td>\n      <td>1</td>\n      <td>1</td>\n      <td>110</td>\n      <td>2023-08-09</td>\n      <td>2025-08-25</td>\n      <td>NaT</td>\n      <td>2</td>\n    </tr>\n  </tbody>\n</table>\n</div>"
     },
     "execution_count": 21,
     "metadata": {},
     "output_type": "execute_result"
    }
   ],
   "source": [
    "td23"
   ],
   "metadata": {
    "collapsed": false,
    "ExecuteTime": {
     "end_time": "2023-10-30T08:22:31.806834100Z",
     "start_time": "2023-10-30T08:22:31.783731Z"
    }
   },
   "id": "b59c998e28c85f49"
  },
  {
   "cell_type": "code",
   "execution_count": 17,
   "outputs": [],
   "source": [
    "td23_with_sex = pd.merge(td23, scr[['rid', 'sex']], on='rid', how='left')"
   ],
   "metadata": {
    "collapsed": false,
    "ExecuteTime": {
     "end_time": "2023-10-30T08:20:29.019936400Z",
     "start_time": "2023-10-30T08:20:28.969903400Z"
    }
   },
   "id": "2f4fb650a2e8eb8d"
  },
  {
   "cell_type": "code",
   "execution_count": 18,
   "outputs": [
    {
     "data": {
      "text/plain": "   tdsp  tdspi    rid        fcid  tdcc       cslt       csnt  ld  iu  cw  \\\n0    YQ      8  R0110  8110050018    11 2022-10-31 2022-10-31   0   1   1   \n1    YQ     11  R0102  8110050015    11 2022-11-01 2022-11-01   1   1   1   \n2    YQ     11  R0102  8110050015    11 2022-11-01 2022-11-01   1   1   1   \n3    YQ     11  R0102  8110050015    11 2022-11-01 2022-11-01   1   1   1   \n4    YQ     17  R0336  8110050059    11 2022-12-02 2022-12-02   1   1   1   \n5    YQ     21  R0112  8110050019    11 2022-10-31 2022-10-31   0   1   1   \n6    YQ     22  R0114  8110050021    11 2022-10-31 2022-10-31   0   1   1   \n7    SA      8  R0077  8110060007   101 2023-08-01 2023-08-08   1   1   1   \n8    SA      9  R0065  8110060004    11 2023-05-03 2023-05-03   0   1   1   \n9    SA     10  R0066  8110060006    11 2023-05-03 2023-05-03   0   1   1   \n10   SA     14  R0155  8110020067    11 2022-11-30 2022-11-30   1   1   1   \n11   SA     17  R0255  8110070004    11 2022-12-19 2022-12-19   0   1   1   \n12   SA     18  R0089  8110060012    11 2022-12-01 2022-12-01   1   1   1   \n13   IJ      1  R0402  8110020119    11 2023-07-24 2023-07-24   0   1   1   \n14   IJ      2  R0314  8110020091    11 2023-07-31 2023-07-31   0   1   1   \n15   LA      1  R0300  8110020093   101 2023-08-04 2023-07-26   1   1   1   \n16   MT      1  R0501  8110020120   101 2023-08-03 2023-07-28   1   1   1   \n\n    com  adv  tdis        is1        is2        is3  tdt  sex  \n0     1    1   110 2023-05-04 2023-05-18        NaT    2  1.0  \n1     1    1   111 2023-07-28 2023-08-10 2023-08-17    3  1.0  \n2     1    1   111 2023-07-28 2023-08-10 2023-08-17    3  1.0  \n3     1    1   111 2023-07-28 2023-08-10 2023-08-17    3  1.0  \n4     1    1   110 2023-08-02 2023-08-09        NaT    2  1.0  \n5     1    1   110 2023-08-16 2023-08-23        NaT    2  1.0  \n6     1    1   110 2023-05-16 2023-05-23        NaT    2  1.0  \n7     1    1   110 2023-08-21 2023-08-28        NaT    2  1.0  \n8     1    1   110 2023-06-02 2023-06-05        NaT    2  1.0  \n9     1    1   111 2023-08-22 2023-08-29 2023-09-07    3  1.0  \n10    1    1   110 2023-05-31 2023-06-05        NaT    2  1.0  \n11    0    0   110 2023-07-28 2023-08-04        NaT    2  1.0  \n12    1    1   110 2023-08-03 2023-08-17        NaT    2  1.0  \n13    1    1   111 2023-07-08 2023-08-18 2023-09-15    3  1.0  \n14    1    0   110 2023-09-07 2023-09-15        NaT    2  1.0  \n15    0    1   111 2023-08-11 2023-08-17 2023-08-25    3  1.0  \n16    1    1   110 2023-08-09 2025-08-25        NaT    2  1.0  ",
      "text/html": "<div>\n<style scoped>\n    .dataframe tbody tr th:only-of-type {\n        vertical-align: middle;\n    }\n\n    .dataframe tbody tr th {\n        vertical-align: top;\n    }\n\n    .dataframe thead th {\n        text-align: right;\n    }\n</style>\n<table border=\"1\" class=\"dataframe\">\n  <thead>\n    <tr style=\"text-align: right;\">\n      <th></th>\n      <th>tdsp</th>\n      <th>tdspi</th>\n      <th>rid</th>\n      <th>fcid</th>\n      <th>tdcc</th>\n      <th>cslt</th>\n      <th>csnt</th>\n      <th>ld</th>\n      <th>iu</th>\n      <th>cw</th>\n      <th>com</th>\n      <th>adv</th>\n      <th>tdis</th>\n      <th>is1</th>\n      <th>is2</th>\n      <th>is3</th>\n      <th>tdt</th>\n      <th>sex</th>\n    </tr>\n  </thead>\n  <tbody>\n    <tr>\n      <th>0</th>\n      <td>YQ</td>\n      <td>8</td>\n      <td>R0110</td>\n      <td>8110050018</td>\n      <td>11</td>\n      <td>2022-10-31</td>\n      <td>2022-10-31</td>\n      <td>0</td>\n      <td>1</td>\n      <td>1</td>\n      <td>1</td>\n      <td>1</td>\n      <td>110</td>\n      <td>2023-05-04</td>\n      <td>2023-05-18</td>\n      <td>NaT</td>\n      <td>2</td>\n      <td>1.0</td>\n    </tr>\n    <tr>\n      <th>1</th>\n      <td>YQ</td>\n      <td>11</td>\n      <td>R0102</td>\n      <td>8110050015</td>\n      <td>11</td>\n      <td>2022-11-01</td>\n      <td>2022-11-01</td>\n      <td>1</td>\n      <td>1</td>\n      <td>1</td>\n      <td>1</td>\n      <td>1</td>\n      <td>111</td>\n      <td>2023-07-28</td>\n      <td>2023-08-10</td>\n      <td>2023-08-17</td>\n      <td>3</td>\n      <td>1.0</td>\n    </tr>\n    <tr>\n      <th>2</th>\n      <td>YQ</td>\n      <td>11</td>\n      <td>R0102</td>\n      <td>8110050015</td>\n      <td>11</td>\n      <td>2022-11-01</td>\n      <td>2022-11-01</td>\n      <td>1</td>\n      <td>1</td>\n      <td>1</td>\n      <td>1</td>\n      <td>1</td>\n      <td>111</td>\n      <td>2023-07-28</td>\n      <td>2023-08-10</td>\n      <td>2023-08-17</td>\n      <td>3</td>\n      <td>1.0</td>\n    </tr>\n    <tr>\n      <th>3</th>\n      <td>YQ</td>\n      <td>11</td>\n      <td>R0102</td>\n      <td>8110050015</td>\n      <td>11</td>\n      <td>2022-11-01</td>\n      <td>2022-11-01</td>\n      <td>1</td>\n      <td>1</td>\n      <td>1</td>\n      <td>1</td>\n      <td>1</td>\n      <td>111</td>\n      <td>2023-07-28</td>\n      <td>2023-08-10</td>\n      <td>2023-08-17</td>\n      <td>3</td>\n      <td>1.0</td>\n    </tr>\n    <tr>\n      <th>4</th>\n      <td>YQ</td>\n      <td>17</td>\n      <td>R0336</td>\n      <td>8110050059</td>\n      <td>11</td>\n      <td>2022-12-02</td>\n      <td>2022-12-02</td>\n      <td>1</td>\n      <td>1</td>\n      <td>1</td>\n      <td>1</td>\n      <td>1</td>\n      <td>110</td>\n      <td>2023-08-02</td>\n      <td>2023-08-09</td>\n      <td>NaT</td>\n      <td>2</td>\n      <td>1.0</td>\n    </tr>\n    <tr>\n      <th>5</th>\n      <td>YQ</td>\n      <td>21</td>\n      <td>R0112</td>\n      <td>8110050019</td>\n      <td>11</td>\n      <td>2022-10-31</td>\n      <td>2022-10-31</td>\n      <td>0</td>\n      <td>1</td>\n      <td>1</td>\n      <td>1</td>\n      <td>1</td>\n      <td>110</td>\n      <td>2023-08-16</td>\n      <td>2023-08-23</td>\n      <td>NaT</td>\n      <td>2</td>\n      <td>1.0</td>\n    </tr>\n    <tr>\n      <th>6</th>\n      <td>YQ</td>\n      <td>22</td>\n      <td>R0114</td>\n      <td>8110050021</td>\n      <td>11</td>\n      <td>2022-10-31</td>\n      <td>2022-10-31</td>\n      <td>0</td>\n      <td>1</td>\n      <td>1</td>\n      <td>1</td>\n      <td>1</td>\n      <td>110</td>\n      <td>2023-05-16</td>\n      <td>2023-05-23</td>\n      <td>NaT</td>\n      <td>2</td>\n      <td>1.0</td>\n    </tr>\n    <tr>\n      <th>7</th>\n      <td>SA</td>\n      <td>8</td>\n      <td>R0077</td>\n      <td>8110060007</td>\n      <td>101</td>\n      <td>2023-08-01</td>\n      <td>2023-08-08</td>\n      <td>1</td>\n      <td>1</td>\n      <td>1</td>\n      <td>1</td>\n      <td>1</td>\n      <td>110</td>\n      <td>2023-08-21</td>\n      <td>2023-08-28</td>\n      <td>NaT</td>\n      <td>2</td>\n      <td>1.0</td>\n    </tr>\n    <tr>\n      <th>8</th>\n      <td>SA</td>\n      <td>9</td>\n      <td>R0065</td>\n      <td>8110060004</td>\n      <td>11</td>\n      <td>2023-05-03</td>\n      <td>2023-05-03</td>\n      <td>0</td>\n      <td>1</td>\n      <td>1</td>\n      <td>1</td>\n      <td>1</td>\n      <td>110</td>\n      <td>2023-06-02</td>\n      <td>2023-06-05</td>\n      <td>NaT</td>\n      <td>2</td>\n      <td>1.0</td>\n    </tr>\n    <tr>\n      <th>9</th>\n      <td>SA</td>\n      <td>10</td>\n      <td>R0066</td>\n      <td>8110060006</td>\n      <td>11</td>\n      <td>2023-05-03</td>\n      <td>2023-05-03</td>\n      <td>0</td>\n      <td>1</td>\n      <td>1</td>\n      <td>1</td>\n      <td>1</td>\n      <td>111</td>\n      <td>2023-08-22</td>\n      <td>2023-08-29</td>\n      <td>2023-09-07</td>\n      <td>3</td>\n      <td>1.0</td>\n    </tr>\n    <tr>\n      <th>10</th>\n      <td>SA</td>\n      <td>14</td>\n      <td>R0155</td>\n      <td>8110020067</td>\n      <td>11</td>\n      <td>2022-11-30</td>\n      <td>2022-11-30</td>\n      <td>1</td>\n      <td>1</td>\n      <td>1</td>\n      <td>1</td>\n      <td>1</td>\n      <td>110</td>\n      <td>2023-05-31</td>\n      <td>2023-06-05</td>\n      <td>NaT</td>\n      <td>2</td>\n      <td>1.0</td>\n    </tr>\n    <tr>\n      <th>11</th>\n      <td>SA</td>\n      <td>17</td>\n      <td>R0255</td>\n      <td>8110070004</td>\n      <td>11</td>\n      <td>2022-12-19</td>\n      <td>2022-12-19</td>\n      <td>0</td>\n      <td>1</td>\n      <td>1</td>\n      <td>0</td>\n      <td>0</td>\n      <td>110</td>\n      <td>2023-07-28</td>\n      <td>2023-08-04</td>\n      <td>NaT</td>\n      <td>2</td>\n      <td>1.0</td>\n    </tr>\n    <tr>\n      <th>12</th>\n      <td>SA</td>\n      <td>18</td>\n      <td>R0089</td>\n      <td>8110060012</td>\n      <td>11</td>\n      <td>2022-12-01</td>\n      <td>2022-12-01</td>\n      <td>1</td>\n      <td>1</td>\n      <td>1</td>\n      <td>1</td>\n      <td>1</td>\n      <td>110</td>\n      <td>2023-08-03</td>\n      <td>2023-08-17</td>\n      <td>NaT</td>\n      <td>2</td>\n      <td>1.0</td>\n    </tr>\n    <tr>\n      <th>13</th>\n      <td>IJ</td>\n      <td>1</td>\n      <td>R0402</td>\n      <td>8110020119</td>\n      <td>11</td>\n      <td>2023-07-24</td>\n      <td>2023-07-24</td>\n      <td>0</td>\n      <td>1</td>\n      <td>1</td>\n      <td>1</td>\n      <td>1</td>\n      <td>111</td>\n      <td>2023-07-08</td>\n      <td>2023-08-18</td>\n      <td>2023-09-15</td>\n      <td>3</td>\n      <td>1.0</td>\n    </tr>\n    <tr>\n      <th>14</th>\n      <td>IJ</td>\n      <td>2</td>\n      <td>R0314</td>\n      <td>8110020091</td>\n      <td>11</td>\n      <td>2023-07-31</td>\n      <td>2023-07-31</td>\n      <td>0</td>\n      <td>1</td>\n      <td>1</td>\n      <td>1</td>\n      <td>0</td>\n      <td>110</td>\n      <td>2023-09-07</td>\n      <td>2023-09-15</td>\n      <td>NaT</td>\n      <td>2</td>\n      <td>1.0</td>\n    </tr>\n    <tr>\n      <th>15</th>\n      <td>LA</td>\n      <td>1</td>\n      <td>R0300</td>\n      <td>8110020093</td>\n      <td>101</td>\n      <td>2023-08-04</td>\n      <td>2023-07-26</td>\n      <td>1</td>\n      <td>1</td>\n      <td>1</td>\n      <td>0</td>\n      <td>1</td>\n      <td>111</td>\n      <td>2023-08-11</td>\n      <td>2023-08-17</td>\n      <td>2023-08-25</td>\n      <td>3</td>\n      <td>1.0</td>\n    </tr>\n    <tr>\n      <th>16</th>\n      <td>MT</td>\n      <td>1</td>\n      <td>R0501</td>\n      <td>8110020120</td>\n      <td>101</td>\n      <td>2023-08-03</td>\n      <td>2023-07-28</td>\n      <td>1</td>\n      <td>1</td>\n      <td>1</td>\n      <td>1</td>\n      <td>1</td>\n      <td>110</td>\n      <td>2023-08-09</td>\n      <td>2025-08-25</td>\n      <td>NaT</td>\n      <td>2</td>\n      <td>1.0</td>\n    </tr>\n  </tbody>\n</table>\n</div>"
     },
     "execution_count": 18,
     "metadata": {},
     "output_type": "execute_result"
    }
   ],
   "source": [
    "td23_with_sex"
   ],
   "metadata": {
    "collapsed": false,
    "ExecuteTime": {
     "end_time": "2023-10-30T08:20:35.189369900Z",
     "start_time": "2023-10-30T08:20:35.176436Z"
    }
   },
   "id": "3e190223358d2103"
  },
  {
   "cell_type": "code",
   "execution_count": 9,
   "outputs": [],
   "source": [
    "# Creating empty dataframe\n",
    "visits_columns = ['rid', 'sex', 'age', 'visit','date']\n",
    "visits = pd.DataFrame(columns=visits_columns)"
   ],
   "metadata": {
    "collapsed": false,
    "ExecuteTime": {
     "end_time": "2023-10-30T07:49:39.208840800Z",
     "start_time": "2023-10-30T07:49:39.185903Z"
    }
   },
   "id": "364feed95796c3b4"
  },
  {
   "cell_type": "code",
   "execution_count": 10,
   "outputs": [],
   "source": [
    "for key, value in dataframes.items():\n",
    "    date_columns = parse_date_columns(value)\n",
    "    df = melt_and_categorize_dates(\n",
    "        value,\n",
    "        date_columns,\n",
    "        sort_by_date=True,\n",
    "        var_name='visit',\n",
    "        value_name='date'\n",
    "    )\n",
    "    if key == 'scr':\n",
    "        visits = visits.assign(\n",
    "            rid=df['rid'].values,\n",
    "            sex=df['sex'].values,\n",
    "            age=df['age'].values,\n",
    "            visit=df['visit'].values,\n",
    "            date=df['date'].values\n",
    "        )\n",
    "    else:\n",
    "        visits = pd.concat([visits, df[['rid', 'visit', 'date']]], ignore_index=True)"
   ],
   "metadata": {
    "collapsed": false,
    "ExecuteTime": {
     "end_time": "2023-10-30T07:49:40.459496Z",
     "start_time": "2023-10-30T07:49:40.146793800Z"
    }
   },
   "id": "1ca8c646d852ed52"
  },
  {
   "cell_type": "code",
   "execution_count": 11,
   "outputs": [
    {
     "data": {
      "text/plain": "        rid  sex  age visit       date\n0     R0028  1.0 48.0   sc1 2020-06-23\n1     R0029  1.0 46.0   sc1 2020-06-24\n2     R0031  2.0 59.0   sc1 2020-07-02\n3     R0034  2.0 34.0   sc1 2020-07-03\n4     R0039  1.0 43.0   sc1 2020-11-10\n...     ...  ...  ...   ...        ...\n4687  R0592  NaN  NaN  pt3m 2023-09-28\n4688  R0367  NaN  NaN  pt3m 2023-09-28\n4689  R0391  NaN  NaN  pt3m 2023-09-28\n4690  R0441  NaN  NaN  pt3m 2023-09-28\n4691  R0298  NaN  NaN  pt3m 2023-09-28\n\n[4692 rows x 5 columns]",
      "text/html": "<div>\n<style scoped>\n    .dataframe tbody tr th:only-of-type {\n        vertical-align: middle;\n    }\n\n    .dataframe tbody tr th {\n        vertical-align: top;\n    }\n\n    .dataframe thead th {\n        text-align: right;\n    }\n</style>\n<table border=\"1\" class=\"dataframe\">\n  <thead>\n    <tr style=\"text-align: right;\">\n      <th></th>\n      <th>rid</th>\n      <th>sex</th>\n      <th>age</th>\n      <th>visit</th>\n      <th>date</th>\n    </tr>\n  </thead>\n  <tbody>\n    <tr>\n      <th>0</th>\n      <td>R0028</td>\n      <td>1.0</td>\n      <td>48.0</td>\n      <td>sc1</td>\n      <td>2020-06-23</td>\n    </tr>\n    <tr>\n      <th>1</th>\n      <td>R0029</td>\n      <td>1.0</td>\n      <td>46.0</td>\n      <td>sc1</td>\n      <td>2020-06-24</td>\n    </tr>\n    <tr>\n      <th>2</th>\n      <td>R0031</td>\n      <td>2.0</td>\n      <td>59.0</td>\n      <td>sc1</td>\n      <td>2020-07-02</td>\n    </tr>\n    <tr>\n      <th>3</th>\n      <td>R0034</td>\n      <td>2.0</td>\n      <td>34.0</td>\n      <td>sc1</td>\n      <td>2020-07-03</td>\n    </tr>\n    <tr>\n      <th>4</th>\n      <td>R0039</td>\n      <td>1.0</td>\n      <td>43.0</td>\n      <td>sc1</td>\n      <td>2020-11-10</td>\n    </tr>\n    <tr>\n      <th>...</th>\n      <td>...</td>\n      <td>...</td>\n      <td>...</td>\n      <td>...</td>\n      <td>...</td>\n    </tr>\n    <tr>\n      <th>4687</th>\n      <td>R0592</td>\n      <td>NaN</td>\n      <td>NaN</td>\n      <td>pt3m</td>\n      <td>2023-09-28</td>\n    </tr>\n    <tr>\n      <th>4688</th>\n      <td>R0367</td>\n      <td>NaN</td>\n      <td>NaN</td>\n      <td>pt3m</td>\n      <td>2023-09-28</td>\n    </tr>\n    <tr>\n      <th>4689</th>\n      <td>R0391</td>\n      <td>NaN</td>\n      <td>NaN</td>\n      <td>pt3m</td>\n      <td>2023-09-28</td>\n    </tr>\n    <tr>\n      <th>4690</th>\n      <td>R0441</td>\n      <td>NaN</td>\n      <td>NaN</td>\n      <td>pt3m</td>\n      <td>2023-09-28</td>\n    </tr>\n    <tr>\n      <th>4691</th>\n      <td>R0298</td>\n      <td>NaN</td>\n      <td>NaN</td>\n      <td>pt3m</td>\n      <td>2023-09-28</td>\n    </tr>\n  </tbody>\n</table>\n<p>4692 rows × 5 columns</p>\n</div>"
     },
     "execution_count": 11,
     "metadata": {},
     "output_type": "execute_result"
    }
   ],
   "source": [
    "visits"
   ],
   "metadata": {
    "collapsed": false,
    "ExecuteTime": {
     "end_time": "2023-10-30T07:49:42.267109400Z",
     "start_time": "2023-10-30T07:49:42.245309800Z"
    }
   },
   "id": "129e4d8f1c2d36e3"
  },
  {
   "cell_type": "code",
   "execution_count": null,
   "outputs": [],
   "source": [
    "# visits.to_csv('visit.csv')"
   ],
   "metadata": {
    "collapsed": false
   },
   "id": "ae059de804214f64"
  },
  {
   "cell_type": "code",
   "execution_count": 12,
   "outputs": [],
   "source": [
    "visits['date'] = visits['date'].apply(pd.to_datetime)"
   ],
   "metadata": {
    "collapsed": false,
    "ExecuteTime": {
     "end_time": "2023-10-30T07:50:00.878366700Z",
     "start_time": "2023-10-30T07:50:00.828097400Z"
    }
   },
   "id": "2d58edd2d69e4d73"
  },
  {
   "cell_type": "code",
   "execution_count": 13,
   "outputs": [],
   "source": [
    "# visits.to_csv(r'011/datasets/visits.csv', index=False)"
   ],
   "metadata": {
    "collapsed": false,
    "ExecuteTime": {
     "end_time": "2023-10-30T07:50:03.358157900Z",
     "start_time": "2023-10-30T07:50:03.328614Z"
    }
   },
   "id": "e2348455cf2f9dec"
  },
  {
   "cell_type": "code",
   "execution_count": 14,
   "outputs": [
    {
     "data": {
      "text/plain": "        rid  sex  age visit       date\n292   R0553  1.0 31.0   sc1 2022-10-03\n293   R0552  1.0 37.0   sc1 2022-10-04\n294   R0393  1.0 48.0   sc1 2022-10-10\n295   R0558  2.0 49.0   sc1 2022-10-21\n296   R0556  2.0 63.0   sc1 2022-10-24\n...     ...  ...  ...   ...        ...\n4687  R0592  NaN  NaN  pt3m 2023-09-28\n4688  R0367  NaN  NaN  pt3m 2023-09-28\n4689  R0391  NaN  NaN  pt3m 2023-09-28\n4690  R0441  NaN  NaN  pt3m 2023-09-28\n4691  R0298  NaN  NaN  pt3m 2023-09-28\n\n[2210 rows x 5 columns]",
      "text/html": "<div>\n<style scoped>\n    .dataframe tbody tr th:only-of-type {\n        vertical-align: middle;\n    }\n\n    .dataframe tbody tr th {\n        vertical-align: top;\n    }\n\n    .dataframe thead th {\n        text-align: right;\n    }\n</style>\n<table border=\"1\" class=\"dataframe\">\n  <thead>\n    <tr style=\"text-align: right;\">\n      <th></th>\n      <th>rid</th>\n      <th>sex</th>\n      <th>age</th>\n      <th>visit</th>\n      <th>date</th>\n    </tr>\n  </thead>\n  <tbody>\n    <tr>\n      <th>292</th>\n      <td>R0553</td>\n      <td>1.0</td>\n      <td>31.0</td>\n      <td>sc1</td>\n      <td>2022-10-03</td>\n    </tr>\n    <tr>\n      <th>293</th>\n      <td>R0552</td>\n      <td>1.0</td>\n      <td>37.0</td>\n      <td>sc1</td>\n      <td>2022-10-04</td>\n    </tr>\n    <tr>\n      <th>294</th>\n      <td>R0393</td>\n      <td>1.0</td>\n      <td>48.0</td>\n      <td>sc1</td>\n      <td>2022-10-10</td>\n    </tr>\n    <tr>\n      <th>295</th>\n      <td>R0558</td>\n      <td>2.0</td>\n      <td>49.0</td>\n      <td>sc1</td>\n      <td>2022-10-21</td>\n    </tr>\n    <tr>\n      <th>296</th>\n      <td>R0556</td>\n      <td>2.0</td>\n      <td>63.0</td>\n      <td>sc1</td>\n      <td>2022-10-24</td>\n    </tr>\n    <tr>\n      <th>...</th>\n      <td>...</td>\n      <td>...</td>\n      <td>...</td>\n      <td>...</td>\n      <td>...</td>\n    </tr>\n    <tr>\n      <th>4687</th>\n      <td>R0592</td>\n      <td>NaN</td>\n      <td>NaN</td>\n      <td>pt3m</td>\n      <td>2023-09-28</td>\n    </tr>\n    <tr>\n      <th>4688</th>\n      <td>R0367</td>\n      <td>NaN</td>\n      <td>NaN</td>\n      <td>pt3m</td>\n      <td>2023-09-28</td>\n    </tr>\n    <tr>\n      <th>4689</th>\n      <td>R0391</td>\n      <td>NaN</td>\n      <td>NaN</td>\n      <td>pt3m</td>\n      <td>2023-09-28</td>\n    </tr>\n    <tr>\n      <th>4690</th>\n      <td>R0441</td>\n      <td>NaN</td>\n      <td>NaN</td>\n      <td>pt3m</td>\n      <td>2023-09-28</td>\n    </tr>\n    <tr>\n      <th>4691</th>\n      <td>R0298</td>\n      <td>NaN</td>\n      <td>NaN</td>\n      <td>pt3m</td>\n      <td>2023-09-28</td>\n    </tr>\n  </tbody>\n</table>\n<p>2210 rows × 5 columns</p>\n</div>"
     },
     "execution_count": 14,
     "metadata": {},
     "output_type": "execute_result"
    }
   ],
   "source": [
    "visits23 = visits[(visits['date'] > threshold_date)]\n",
    "visits23"
   ],
   "metadata": {
    "collapsed": false,
    "ExecuteTime": {
     "end_time": "2023-10-30T07:50:06.328312100Z",
     "start_time": "2023-10-30T07:50:06.298193900Z"
    }
   },
   "id": "2d6d8c05e36821ed"
  },
  {
   "cell_type": "code",
   "execution_count": null,
   "outputs": [],
   "source": [],
   "metadata": {
    "collapsed": false
   },
   "id": "21c5944aa1b66359"
  },
  {
   "cell_type": "code",
   "execution_count": null,
   "outputs": [],
   "source": [
    "# visits23.to_csv('visits23.csv')\n",
    "visits23.to_csv(r'011/datasets/visits23.csv', index=False)"
   ],
   "metadata": {
    "collapsed": false
   },
   "id": "1abafa51bf448d45"
  },
  {
   "cell_type": "code",
   "execution_count": null,
   "outputs": [],
   "source": [
    "# visits23csv['rid'].unique()\n",
    "visits23"
   ],
   "metadata": {
    "collapsed": false
   },
   "id": "ea5fb2bb5b4537b7"
  },
  {
   "cell_type": "code",
   "execution_count": null,
   "outputs": [],
   "source": [
    "visits23['date'].value_counts().max()"
   ],
   "metadata": {
    "collapsed": false
   },
   "id": "aacd7d3a334f9ab3"
  },
  {
   "cell_type": "code",
   "execution_count": null,
   "outputs": [],
   "source": [
    "visits23['date'].mode()"
   ],
   "metadata": {
    "collapsed": false
   },
   "id": "3ded8eefffb4212b"
  },
  {
   "cell_type": "code",
   "execution_count": null,
   "outputs": [],
   "source": [
    "visits23['rid'].mode()"
   ],
   "metadata": {
    "collapsed": false
   },
   "id": "31266d1b12a8d69"
  },
  {
   "cell_type": "code",
   "execution_count": null,
   "outputs": [],
   "source": [
    "visits23['rid'].value_counts().max()"
   ],
   "metadata": {
    "collapsed": false
   },
   "id": "3d3015d1c4439a48"
  },
  {
   "cell_type": "code",
   "execution_count": null,
   "outputs": [],
   "source": [],
   "metadata": {
    "collapsed": false
   },
   "id": "9f3ed0aebe0166ad"
  }
 ],
 "metadata": {
  "kernelspec": {
   "display_name": "Python 3",
   "language": "python",
   "name": "python3"
  },
  "language_info": {
   "codemirror_mode": {
    "name": "ipython",
    "version": 2
   },
   "file_extension": ".py",
   "mimetype": "text/x-python",
   "name": "python",
   "nbconvert_exporter": "python",
   "pygments_lexer": "ipython2",
   "version": "2.7.6"
  }
 },
 "nbformat": 4,
 "nbformat_minor": 5
}
